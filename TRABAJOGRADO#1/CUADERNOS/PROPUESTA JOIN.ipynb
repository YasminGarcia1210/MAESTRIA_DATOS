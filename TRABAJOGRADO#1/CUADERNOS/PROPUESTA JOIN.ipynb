{
 "cells": [
  {
   "cell_type": "markdown",
   "metadata": {},
   "source": [
    "# PROPUESTA DE AGRUPACIÓN "
   ]
  },
  {
   "cell_type": "code",
   "execution_count": 35,
   "metadata": {},
   "outputs": [],
   "source": [
    "import pandas as pd "
   ]
  },
  {
   "cell_type": "code",
   "execution_count": 36,
   "metadata": {},
   "outputs": [],
   "source": [
    "asset=\"H:\\Mi unidad\\Trabajo de grado 2\\DATAFRAME SOLOS_PROPUESTA\\Data Base_PROPUESTA TAMURA\\Asset_Authentication_MuestraEdwin.csv\"\n",
    "file=\"H:\\Mi unidad\\Trabajo de grado 2\\DATAFRAME SOLOS_PROPUESTA\\Data Base_PROPUESTA TAMURA\\File Acces_New_muestra Edwin.csv\"\n",
    "firewall=\"H:\\Mi unidad\\Trabajo de grado 2\\DATAFRAME SOLOS_PROPUESTA\\Data Base_PROPUESTA TAMURA\\Firewall_NeW_Edwin.csv\""
   ]
  },
  {
   "cell_type": "markdown",
   "metadata": {},
   "source": [
    "# Contexto"
   ]
  },
  {
   "cell_type": "markdown",
   "metadata": {},
   "source": [
    "Los tres archivos de registro contienen información sobre la actividad de la red y los sistemas, pero cada uno se centra en un área diferente: \n",
    "autenticación de activos\n",
    "modificación de archivos \n",
    "actividad del firewall. \n",
    "\n",
    "Para identificar anomalías o vulnerabilidades, vamos a  combinar estos registros y analizarlos desde una perspectiva unificada.\n",
    "\n",
    "Dado que cada registro tiene una marca de tiempo y direcciones IP asociadas, podemos usar estos campos para fusionar los registros y realizar un análisis basado en el tiempo y la ubicación de la actividad."
   ]
  },
  {
   "cell_type": "code",
   "execution_count": 37,
   "metadata": {},
   "outputs": [
    {
     "name": "stderr",
     "output_type": "stream",
     "text": [
      "C:\\Users\\Windows 10 Pro\\AppData\\Local\\Temp\\ipykernel_19276\\2091188417.py:2: DtypeWarning: Columns (6) have mixed types. Specify dtype option on import or set low_memory=False.\n",
      "  df_asset_auth = pd.read_csv(asset)\n"
     ]
    }
   ],
   "source": [
    "# Leer los archivos CSV en DataFrames de Pandas\n",
    "df_asset_auth = pd.read_csv(asset)\n",
    "df_file_mod = pd.read_csv(file)\n",
    "df_firewall = pd.read_csv(firewall)\n",
    "\n",
    "# Eliminar la columna 'message' de cada DataFrame si existe\n",
    "df_asset_auth = df_asset_auth.drop(columns=['message'], errors='ignore')\n",
    "df_file_mod = df_file_mod.drop(columns=['message'], errors='ignore')\n",
    "df_firewall = df_firewall.drop(columns=['message'], errors='ignore')\n"
   ]
  },
  {
   "cell_type": "markdown",
   "metadata": {},
   "source": [
    "# Asset Autentication"
   ]
  },
  {
   "cell_type": "code",
   "execution_count": 38,
   "metadata": {},
   "outputs": [
    {
     "name": "stdout",
     "output_type": "stream",
     "text": [
      "Asset Authentication Data:\n",
      "\n",
      "| timestamp     | json.destination_user   | json.source_json.eventData.TargetDomainName   | json.r7_context.destination_user.domain   | json.destination_account   | json.source_json.computerName   | json.source_json.eventData.IpPort   | json.destination_asset_address   | json.source_json.eventCode   | json.result   | json.timestamp           | json.source_json.timeGenerated   | json.service   | json.source_asset_address   | fecha      | hora     |\n",
      "|:--------------|:------------------------|:----------------------------------------------|:------------------------------------------|:---------------------------|:--------------------------------|:------------------------------------|:---------------------------------|:-----------------------------|:--------------|:-------------------------|:---------------------------------|:---------------|:----------------------------|:-----------|:---------|\n",
      "| 1721074753543 | beinis.navarro          | BN2.ARMADA.MIL.CO                             | bn2.armada.mil.co                         | beinis.navarro             | SERV_BNL02.bn2.armada.mil.co    | 51483                               | 172.24.70.34                     | 4624                         | SUCCESS       | 2024-07-15T20:17:45.737Z | 20240715201745.737408-000        | kerberos       | 172.24.70.34                | 2024/07/15 | 15:17:45 |\n",
      "| 1721074753543 | juan.molina.me          | BN2.ARMADA.MIL.CO                             | bn2.armada.mil.co                         | juan.molina.me             | SERV_BNL02.bn2.armada.mil.co    | 64687                               | 172.24.60.217                    | 4624                         | SUCCESS       | 2024-07-15T20:17:43.322Z | 20240715201743.322276-000        | kerberos       | 172.24.60.217               | 2024/07/15 | 15:17:43 |\n",
      "| 1721074753544 | juan.molina.me          | BN2.ARMADA.MIL.CO                             | bn2.armada.mil.co                         | juan.molina.me             | SERV_BNL02.bn2.armada.mil.co    | 64686                               | 172.24.60.217                    | 4624                         | SUCCESS       | 2024-07-15T20:17:43.315Z | 20240715201743.315821-000        | kerberos       | 172.24.60.217               | 2024/07/15 | 15:17:43 |\n",
      "| 1721074753544 | juan.molina.me          | BN2.ARMADA.MIL.CO                             | bn2.armada.mil.co                         | juan.molina.me             | SERV_BNL02.bn2.armada.mil.co    | 64685                               | 172.24.60.217                    | 4624                         | SUCCESS       | 2024-07-15T20:17:43.302Z | 20240715201743.302359-000        | kerberos       | 172.24.60.217               | 2024/07/15 | 15:17:43 |\n",
      "| 1721074753544 | nikole.acosta           | BN2.ARMADA.MIL.CO                             | bn2.armada.mil.co                         | nikole.acosta              | SERV_BNL02.bn2.armada.mil.co    | 64258                               | 172.24.70.120                    | 4624                         | SUCCESS       | 2024-07-15T20:17:31.524Z | 20240715201731.524161-000        | kerberos       | 172.24.70.120               | 2024/07/15 | 15:17:31 |\n"
     ]
    }
   ],
   "source": [
    "print(\"Asset Authentication Data:\\n\")\n",
    "print(df_asset_auth.head().to_markdown(index=False, numalign=\"left\", stralign=\"left\"))"
   ]
  },
  {
   "cell_type": "markdown",
   "metadata": {},
   "source": [
    "# File Modification"
   ]
  },
  {
   "cell_type": "code",
   "execution_count": 39,
   "metadata": {},
   "outputs": [
    {
     "name": "stdout",
     "output_type": "stream",
     "text": [
      "\n",
      "File Modification Data:\n",
      "\n",
      "| timestamp     | json.file_path                                                                                                                                                  | json.file_share   | json.source_address   | json.timestamp           | json.source_asset   | json.target_address    | json.file_name          | json.access_types   | json.source_json.eventCode   | json.source_json.timeWritten   | json.user   | fecha      | hora     |\n",
      "|:--------------|:----------------------------------------------------------------------------------------------------------------------------------------------------------------|:------------------|:----------------------|:-------------------------|:--------------------|:-----------------------|:------------------------|:--------------------|:-----------------------------|:-------------------------------|:------------|:-----------|:---------|\n",
      "| 1721074134765 | //INFORMACION/3. ADMINISTRATIVA/MAESTRIA DE ARMAS/2024/29.60 INFORME DE PERSONAL/desktop.ini                                                                    | INFORMACION       | 10.20.40.22           | 2024-07-15T18:21:33.839Z | cmd02.recoip.mil.co | pacifico.recoip.mil.co | desktop.ini             | ReadData            | 5145                         | 2024-07-15T18:21:33.839822300Z | maestria    | 2024/07/15 | 13:21:33 |\n",
      "| 1721074139312 | //INFORMACION/3. ADMINISTRATIVA/MAESTRIA DE ARMAS/2024/29.60 INFORME DE PERSONAL/2024-07-15 RCIPA SN XXX ADM RTA SN 1878 CANDIDATO CINA/CERTIFICADO POLICIA.pdf | INFORMACION       | 10.20.40.22           | 2024-07-15T18:21:37.245Z | cmd02.recoip.mil.co | pacifico.recoip.mil.co | CERTIFICADO POLICIA.pdf | ReadData            | 5145                         | 2024-07-15T18:21:37.245778800Z | maestria    | 2024/07/15 | 13:21:37 |\n",
      "| 1721074139312 | //INFORMACION/3. ADMINISTRATIVA/MAESTRIA DE ARMAS/2024/38.1 ORDENES DEL DÍA/Thumbs.db                                                                           | INFORMACION       | 10.20.40.22           | 2024-07-15T18:21:37.261Z | cmd02.recoip.mil.co | pacifico.recoip.mil.co | Thumbs.db               | ReadData            | 5145                         | 2024-07-15T18:21:37.261160000Z | maestria    | 2024/07/15 | 13:21:37 |\n",
      "| 1721074161719 | //INFORMACION/3. ADMINISTRATIVA/MAESTRIA DE ARMAS/2016/APOYO/5. DIRECTIVAS/DIRECTIVAS M-A/PRUEBAS FISICAS/PGPFS.INI                                             | INFORMACION       | 10.20.40.22           | 2024-07-15T18:21:49.395Z | cmd02.recoip.mil.co | pacifico.recoip.mil.co | PGPFS.INI               | ReadData            | 5145                         | 2024-07-15T18:21:49.395563900Z | maestria    | 2024/07/15 | 13:21:49 |\n",
      "| 1721074161719 | //INFORMACION/3. ADMINISTRATIVA/MAESTRIA DE ARMAS/2016/APOYO/7. FORMATOS                                                                                        | INFORMACION       | 10.20.40.22           | 2024-07-15T18:21:49.401Z | cmd02.recoip.mil.co | pacifico.recoip.mil.co | 7. FORMATOS             | ReadData            | 5145                         | 2024-07-15T18:21:49.401196900Z | maestria    | 2024/07/15 | 13:21:49 |\n"
     ]
    }
   ],
   "source": [
    "print(\"\\nFile Modification Data:\\n\")\n",
    "print(df_file_mod.head().to_markdown(index=False, numalign=\"left\", stralign=\"left\"))"
   ]
  },
  {
   "cell_type": "markdown",
   "metadata": {},
   "source": [
    "# Firewall"
   ]
  },
  {
   "cell_type": "code",
   "execution_count": 40,
   "metadata": {},
   "outputs": [
    {
     "name": "stdout",
     "output_type": "stream",
     "text": [
      "\n",
      "Firewall Data:\n",
      "\n",
      "| timestamp     | json.destination_address   | json.destination_port   | json.incoming_bytes   | json.source_address       | json.source_port   | json.connection_status   | json.asset   | json.user   | json.outgoing_bytes   | json.timestamp           | json.geoip_country_name   | json.geoip_organization   | json.geoip_country_code   | json.geoip_region   | json.geoip_city   | json.first_observed_time   | json.observation_count   | json.last_observed_time   | json.r7_context.asset.name   | json.r7_context.asset   | json.r7_context   | json.r7_context.user.name   | json.r7_context.user.type   | json.r7_context.user   | json.community_id   | json.transport_protocol   | fecha      | hora     |\n",
      "|:--------------|:---------------------------|:------------------------|:----------------------|:--------------------------|:-------------------|:-------------------------|:-------------|:------------|:----------------------|:-------------------------|:--------------------------|:--------------------------|:--------------------------|:--------------------|:------------------|:---------------------------|:-------------------------|:--------------------------|:-----------------------------|:------------------------|:------------------|:----------------------------|:----------------------------|:-----------------------|:--------------------|:--------------------------|:-----------|:---------|\n",
      "| 1721073785112 | ff02::fb                   | 5353                    | 0                     | fe80::8f0d:3a19:d4ea:b4f4 | 5353               | DENY                     | unknown      | unknown     | 0                     | 2024-07-15T20:03:20.971Z | nan                       | nan                       | nan                       | nan                 | nan               | nan                        | nan                      | nan                       | nan                          | nan                     | nan               | nan                         | nan                         | nan                    | nan                 | nan                       | 2024/07/15 | 15:03:20 |\n",
      "| 1721073785112 | 172.24.13.11               | 443                     | 42770                 | 172.24.45.197             | 51765              | ACCEPT                   | unknown      | unknown     | 43151                 | 2024-07-15T20:03:21.033Z | nan                       | nan                       | nan                       | nan                 | nan               | nan                        | nan                      | nan                       | nan                          | nan                     | nan               | nan                         | nan                         | nan                    | nan                 | nan                       | 2024/07/15 | 15:03:21 |\n",
      "| 1721073785112 | 45.223.172.251             | 443                     | 12508                 | 172.24.45.226             | 51626              | ACCEPT                   | unknown      | unknown     | 11734                 | 2024-07-15T20:03:21.088Z | United States             | Incapsula                 | US                        | nan                 | nan               | nan                        | nan                      | nan                       | nan                          | nan                     | nan               | nan                         | nan                         | nan                    | nan                 | nan                       | 2024/07/15 | 15:03:21 |\n",
      "| 1721073785112 | 52.191.219.104             | 443                     | 0                     | 172.24.46.174             | 52640              | DENY                     | unknown      | unknown     | 0                     | 2024-07-15T20:03:21.105Z | United States             | Microsoft Azure           | US                        | VA                  | Washington        | nan                        | nan                      | nan                       | nan                          | nan                     | nan               | nan                         | nan                         | nan                    | nan                 | nan                       | 2024/07/15 | 15:03:21 |\n",
      "| 1721073785112 | ff02::1:3                  | 5355                    | 0                     | fe80::c938:89dd:f60b:cf1b | 56279              | DENY                     | unknown      | unknown     | 0                     | 2024-07-15T20:03:21.158Z | nan                       | nan                       | nan                       | nan                 | nan               | 2024-07-15T20:03:21.158Z   | 2                        | 2024-07-15T20:03:21.158Z  | nan                          | nan                     | nan               | nan                         | nan                         | nan                    | nan                 | nan                       | 2024/07/15 | 15:03:21 |\n"
     ]
    }
   ],
   "source": [
    "print(\"\\nFirewall Data:\\n\")\n",
    "print(df_firewall.head().to_markdown(index=False, numalign=\"left\", stralign=\"left\"))"
   ]
  },
  {
   "cell_type": "code",
   "execution_count": 41,
   "metadata": {},
   "outputs": [
    {
     "name": "stdout",
     "output_type": "stream",
     "text": [
      "\n",
      "Asset Authentication Data Info:\n",
      "\n",
      "<class 'pandas.core.frame.DataFrame'>\n",
      "RangeIndex: 1000000 entries, 0 to 999999\n",
      "Data columns (total 16 columns):\n",
      " #   Column                                       Non-Null Count    Dtype  \n",
      "---  ------                                       --------------    -----  \n",
      " 0   timestamp                                    1000000 non-null  int64  \n",
      " 1   json.destination_user                        896939 non-null   object \n",
      " 2   json.source_json.eventData.TargetDomainName  886567 non-null   object \n",
      " 3   json.r7_context.destination_user.domain      774032 non-null   object \n",
      " 4   json.destination_account                     995584 non-null   object \n",
      " 5   json.source_json.computerName                999635 non-null   object \n",
      " 6   json.source_json.eventData.IpPort            886607 non-null   object \n",
      " 7   json.destination_asset_address               1000000 non-null  object \n",
      " 8   json.source_json.eventCode                   999635 non-null   float64\n",
      " 9   json.result                                  990386 non-null   object \n",
      " 10  json.timestamp                               1000000 non-null  object \n",
      " 11  json.source_json.timeGenerated               886607 non-null   object \n",
      " 12  json.service                                 996980 non-null   object \n",
      " 13  json.source_asset_address                    999998 non-null   object \n",
      " 14  fecha                                        1000000 non-null  object \n",
      " 15  hora                                         1000000 non-null  object \n",
      "dtypes: float64(1), int64(1), object(14)\n",
      "memory usage: 122.1+ MB\n"
     ]
    }
   ],
   "source": [
    "# Print the column names and their data types for each DataFrame\n",
    "print(\"\\nAsset Authentication Data Info:\\n\")\n",
    "df_asset_auth.info()"
   ]
  },
  {
   "cell_type": "code",
   "execution_count": 42,
   "metadata": {},
   "outputs": [
    {
     "name": "stdout",
     "output_type": "stream",
     "text": [
      "\n",
      "File Modification Data Info:\n",
      "\n",
      "<class 'pandas.core.frame.DataFrame'>\n",
      "RangeIndex: 1000000 entries, 0 to 999999\n",
      "Data columns (total 14 columns):\n",
      " #   Column                        Non-Null Count    Dtype \n",
      "---  ------                        --------------    ----- \n",
      " 0   timestamp                     1000000 non-null  int64 \n",
      " 1   json.file_path                1000000 non-null  object\n",
      " 2   json.file_share               1000000 non-null  object\n",
      " 3   json.source_address           1000000 non-null  object\n",
      " 4   json.timestamp                1000000 non-null  object\n",
      " 5   json.source_asset             1000000 non-null  object\n",
      " 6   json.target_address           1000000 non-null  object\n",
      " 7   json.file_name                1000000 non-null  object\n",
      " 8   json.access_types             1000000 non-null  object\n",
      " 9   json.source_json.eventCode    1000000 non-null  int64 \n",
      " 10  json.source_json.timeWritten  1000000 non-null  object\n",
      " 11  json.user                     1000000 non-null  object\n",
      " 12  fecha                         1000000 non-null  object\n",
      " 13  hora                          1000000 non-null  object\n",
      "dtypes: int64(2), object(12)\n",
      "memory usage: 106.8+ MB\n"
     ]
    }
   ],
   "source": [
    "print(\"\\nFile Modification Data Info:\\n\")\n",
    "df_file_mod.info()"
   ]
  },
  {
   "cell_type": "code",
   "execution_count": 43,
   "metadata": {},
   "outputs": [
    {
     "name": "stdout",
     "output_type": "stream",
     "text": [
      "\n",
      "Firewall Data Info:\n",
      "\n",
      "<class 'pandas.core.frame.DataFrame'>\n",
      "RangeIndex: 1000000 entries, 0 to 999999\n",
      "Data columns (total 29 columns):\n",
      " #   Column                      Non-Null Count    Dtype  \n",
      "---  ------                      --------------    -----  \n",
      " 0   timestamp                   1000000 non-null  int64  \n",
      " 1   json.destination_address    1000000 non-null  object \n",
      " 2   json.destination_port       1000000 non-null  int64  \n",
      " 3   json.incoming_bytes         904170 non-null   float64\n",
      " 4   json.source_address         1000000 non-null  object \n",
      " 5   json.source_port            1000000 non-null  int64  \n",
      " 6   json.connection_status      801209 non-null   object \n",
      " 7   json.asset                  1000000 non-null  object \n",
      " 8   json.user                   1000000 non-null  object \n",
      " 9   json.outgoing_bytes         904170 non-null   float64\n",
      " 10  json.timestamp              1000000 non-null  object \n",
      " 11  json.geoip_country_name     540557 non-null   object \n",
      " 12  json.geoip_organization     546685 non-null   object \n",
      " 13  json.geoip_country_code     540557 non-null   object \n",
      " 14  json.geoip_region           434220 non-null   object \n",
      " 15  json.geoip_city             422428 non-null   object \n",
      " 16  json.first_observed_time    277095 non-null   object \n",
      " 17  json.observation_count      277095 non-null   float64\n",
      " 18  json.last_observed_time     277095 non-null   object \n",
      " 19  json.r7_context.asset.name  362008 non-null   object \n",
      " 20  json.r7_context.asset       0 non-null        float64\n",
      " 21  json.r7_context             0 non-null        float64\n",
      " 22  json.r7_context.user.name   324239 non-null   object \n",
      " 23  json.r7_context.user.type   324239 non-null   object \n",
      " 24  json.r7_context.user        0 non-null        float64\n",
      " 25  json.community_id           9943 non-null     object \n",
      " 26  json.transport_protocol     9943 non-null     object \n",
      " 27  fecha                       1000000 non-null  object \n",
      " 28  hora                        1000000 non-null  object \n",
      "dtypes: float64(6), int64(3), object(20)\n",
      "memory usage: 221.3+ MB\n"
     ]
    }
   ],
   "source": [
    "print(\"\\nFirewall Data Info:\\n\")\n",
    "df_firewall.info()"
   ]
  },
  {
   "cell_type": "markdown",
   "metadata": {},
   "source": [
    "# Actividad de la red"
   ]
  },
  {
   "cell_type": "markdown",
   "metadata": {},
   "source": [
    "Usaremos estas columnas para fusionar los marcos de datos y analizar la actividad por IP y hora.\n",
    "\n",
    "Sin embargo, primero debemos convertir las columnas de fecha y hora en un formato de fecha y hora adecuado para cada conjunto de datos. \n",
    "\n",
    "Luego, concatenaremos los DataFrames y agruparemos los datos por dirección IP y marca de tiempo para obtener un resumen de la actividad de la red"
   ]
  },
  {
   "cell_type": "code",
   "execution_count": 44,
   "metadata": {},
   "outputs": [
    {
     "name": "stdout",
     "output_type": "stream",
     "text": [
      "Grouped Data by Source IP and Datetime:\n",
      "\n",
      "|                                               | count   |\n",
      "|:----------------------------------------------|:--------|\n",
      "| ('0.0.0.0', Timestamp('2024-07-15 15:03:01')) | 1       |\n",
      "| ('0.0.0.0', Timestamp('2024-07-15 15:03:18')) | 1       |\n",
      "| ('0.0.0.0', Timestamp('2024-07-15 15:03:25')) | 1       |\n",
      "| ('0.0.0.0', Timestamp('2024-07-15 15:03:31')) | 1       |\n",
      "| ('0.0.0.0', Timestamp('2024-07-15 15:03:33')) | 1       |\n",
      "\n",
      "Grouped Data by Destination IP and Datetime:\n",
      "\n",
      "|                                               | count   |\n",
      "|:----------------------------------------------|:--------|\n",
      "| ('1.0.0.1', Timestamp('2024-07-15 15:03:23')) | 1       |\n",
      "| ('1.0.0.1', Timestamp('2024-07-15 15:03:33')) | 1       |\n",
      "| ('1.0.0.1', Timestamp('2024-07-15 15:03:38')) | 1       |\n",
      "| ('1.0.0.1', Timestamp('2024-07-15 15:03:43')) | 1       |\n",
      "| ('1.0.0.1', Timestamp('2024-07-15 15:03:53')) | 1       |\n"
     ]
    }
   ],
   "source": [
    "# Combine 'fecha' and 'hora' to create a 'datetime' column in df_asset_auth\n",
    "df_asset_auth['datetime'] = pd.to_datetime(df_asset_auth['fecha'] + ' ' + df_asset_auth['hora'])\n",
    "\n",
    "# Combine 'fecha' and 'hora' to create a 'datetime' column in df_file_mod\n",
    "df_file_mod['datetime'] = pd.to_datetime(df_file_mod['fecha'] + ' ' + df_file_mod['hora'])\n",
    "\n",
    "# Combine 'fecha' and 'hora' to create a 'datetime' column in df_firewall\n",
    "df_firewall['datetime'] = pd.to_datetime(df_firewall['fecha'] + ' ' + df_firewall['hora'])\n",
    "\n",
    "# Create df_asset_auth_combined with relevant columns and rename as needed\n",
    "df_asset_auth_combined = df_asset_auth[['datetime', 'json.source_asset_address', 'json.destination_asset_address']].copy()\n",
    "df_asset_auth_combined.rename(columns={'json.source_asset_address': 'source_ip', 'json.destination_asset_address': 'destination_ip'}, inplace=True)\n",
    "\n",
    "# Create df_file_mod_combined with relevant columns and rename as needed\n",
    "df_file_mod_combined = df_file_mod[['datetime', 'json.source_address', 'json.target_address']].copy()\n",
    "df_file_mod_combined.rename(columns={'json.source_address': 'source_ip', 'json.target_address': 'destination_ip'}, inplace=True)\n",
    "\n",
    "# Create df_firewall_combined with relevant columns and rename as needed\n",
    "df_firewall_combined = df_firewall[['datetime', 'json.source_address', 'json.destination_address']].copy()\n",
    "df_firewall_combined.rename(columns={'json.source_address': 'source_ip', 'json.destination_address': 'destination_ip'}, inplace=True)\n",
    "\n",
    "# Concatenate the three DataFrames into df_combined\n",
    "df_combined = pd.concat([df_asset_auth_combined, df_file_mod_combined, df_firewall_combined], ignore_index=True)\n",
    "\n",
    "# Group by source_ip and datetime, count the occurrences\n",
    "grouped_data_source = df_combined.groupby(['source_ip', 'datetime']).size().to_frame(name='count')\n",
    "\n",
    "# Group by destination_ip and datetime, count the occurrences\n",
    "grouped_data_destination = df_combined.groupby(['destination_ip', 'datetime']).size().to_frame(name='count')\n",
    "\n",
    "# Display the first 5 rows of each grouped DataFrame\n",
    "print(\"Grouped Data by Source IP and Datetime:\\n\")\n",
    "print(grouped_data_source.head().to_markdown(numalign=\"left\", stralign=\"left\"))\n",
    "\n",
    "print(\"\\nGrouped Data by Destination IP and Datetime:\\n\")\n",
    "print(grouped_data_destination.head().to_markdown(numalign=\"left\", stralign=\"left\"))"
   ]
  },
  {
   "cell_type": "markdown",
   "metadata": {},
   "source": [
    "Los DataFrames grouped_data_source y grouped_data_destination contienen el número de eventos agrupados por dirección IP (source_ip o destination_ip) y marca de tiempo (datetime). \n",
    "\n",
    "Para identificar posibles anomalías, se calcularon los cambios porcentuales en el recuento de eventos entre marcas de tiempo consecutivas para cada IP"
   ]
  },
  {
   "cell_type": "code",
   "execution_count": 45,
   "metadata": {},
   "outputs": [
    {
     "name": "stdout",
     "output_type": "stream",
     "text": [
      "\n",
      "Unique Source IPs with significant change in traffic (>60%):\n",
      "\n",
      "|         | source_ip                 |\n",
      "|:--------|:--------------------------|\n",
      "| 1185308 | fe80::780b:b39c:2576:8292 |\n",
      "| 1143105 | 192.168.20.117            |\n",
      "| 1133686 | 191.156.146.114           |\n",
      "| 570525  | 172.24.250.115            |\n",
      "| 464257  | 172.24.234.180            |\n",
      "| 589675  | 172.24.251.6              |\n",
      "| 11553   | 10.20.24.23               |\n",
      "| 960438  | 172.24.94.29              |\n",
      "| 963079  | 172.24.94.38              |\n",
      "| 247562  | 172.24.122.107            |\n",
      "| 1162959 | 2801:1c8:231:c218::92     |\n",
      "| 243505  | 172.24.118.87             |\n",
      "| 981310  | 172.24.95.15              |\n",
      "| 611826  | 172.24.26.249             |\n",
      "| 15702   | 10.20.28.15               |\n",
      "| 1185342 | fe80::786b:3e31:489:d0b8  |\n",
      "| 705145  | 172.24.3.3                |\n",
      "| 551919  | 172.24.249.88             |\n",
      "| 2029    | 10.10.10.7                |\n",
      "| 354597  | 172.24.198.82             |\n",
      "\n",
      "Unique Destination IPs with significant change in traffic (>60%):\n",
      "\n",
      "|        | destination_ip     |\n",
      "|:-------|:-------------------|\n",
      "| 401232 | 172.24.52.153      |\n",
      "| 612545 | 2620:1ec:c11::239  |\n",
      "| 190854 | 172.24.148.64      |\n",
      "| 570742 | 20.161.173.20      |\n",
      "| 626311 | 3.33.221.48        |\n",
      "| 313222 | 172.24.28.130      |\n",
      "| 394882 | 172.24.50.23       |\n",
      "| 50031  | 13.107.42.254      |\n",
      "| 232395 | 172.24.20.36       |\n",
      "| 277881 | 172.24.234.59      |\n",
      "| 539720 | 172.253.63.119     |\n",
      "| 479998 | 172.24.95.72       |\n",
      "| 88508  | 162.159.133.61     |\n",
      "| 627810 | 34.107.199.61      |\n",
      "| 439485 | 172.24.61.24       |\n",
      "| 364157 | 172.24.3.86        |\n",
      "| 95234  | 17.248.199.70      |\n",
      "| 610446 | 2600:1901:0:38d7:: |\n",
      "| 409374 | 172.24.59.103      |\n",
      "| 487498 | 172.24.96.165      |\n"
     ]
    }
   ],
   "source": [
    "# Reset the index for grouped_data_source and grouped_data_destination\n",
    "grouped_data_source.reset_index(inplace=True)\n",
    "grouped_data_destination.reset_index(inplace=True)\n",
    "\n",
    "# Sort grouped_data_source and grouped_data_destination by datetime\n",
    "grouped_data_source = grouped_data_source.sort_values('datetime')\n",
    "grouped_data_destination = grouped_data_destination.sort_values('datetime')\n",
    "\n",
    "# Calculate the percentage change in 'count' for grouped_data_source\n",
    "grouped_data_source['pct_change'] = grouped_data_source['count'].pct_change().fillna(0) * 100\n",
    "\n",
    "# Calculate the percentage change in 'count' for grouped_data_destination\n",
    "grouped_data_destination['pct_change'] = grouped_data_destination['count'].pct_change().fillna(0) * 100\n",
    "\n",
    "# Filter rows where absolute percentage change is >= 50 for grouped_data_source\n",
    "filtered_source_data = grouped_data_source[grouped_data_source['pct_change'].abs() >= 60]\n",
    "\n",
    "# Filter rows where absolute percentage change is >= 50 for grouped_data_destination\n",
    "filtered_destination_data = grouped_data_destination[grouped_data_destination['pct_change'].abs() >= 60]\n",
    "\n",
    "# Display unique IPs with significant changes in source traffic\n",
    "print(\"\\nUnique Source IPs with significant change in traffic (>60%):\\n\")\n",
    "if (filtered_source_data['source_ip'].nunique() > 20):\n",
    "  # Sample 20 of them if there are too many unique IPs\n",
    "  print(filtered_source_data['source_ip'].drop_duplicates().sample(20, replace=False).to_markdown(numalign=\"left\", stralign=\"left\"))\n",
    "else:\n",
    "  # Otherwise print all unique IPs\n",
    "  print(filtered_source_data['source_ip'].drop_duplicates().to_markdown(numalign=\"left\", stralign=\"left\"))\n",
    "\n",
    "# Display unique IPs with significant changes in destination traffic\n",
    "print(\"\\nUnique Destination IPs with significant change in traffic (>60%):\\n\")\n",
    "if (filtered_destination_data['destination_ip'].nunique() > 20):\n",
    "  # Sample 20 of them if there are too many unique IPs\n",
    "  print(filtered_destination_data['destination_ip'].drop_duplicates().sample(20, replace=False).to_markdown(numalign=\"left\", stralign=\"left\"))\n",
    "else:\n",
    "  # Otherwise print all unique IPs\n",
    "  print(filtered_destination_data['destination_ip'].drop_duplicates().to_markdown(numalign=\"left\", stralign=\"left\"))"
   ]
  },
  {
   "cell_type": "markdown",
   "metadata": {},
   "source": [
    "Las tablas \"Unique Source IPs with significant change in traffic (>60%)\" y \"Unique Destination IPs with significant change in traffic (>60%)\" muestran \n",
    "\n",
    "las direcciones IP que experimentaron un cambio significativo (más del 60%) en el tráfico, ya sea como origen o destino, en algún momento durante el período registrado"
   ]
  },
  {
   "cell_type": "markdown",
   "metadata": {},
   "source": [
    "# Reorganizar la propuesta "
   ]
  },
  {
   "cell_type": "code",
   "execution_count": 46,
   "metadata": {},
   "outputs": [
    {
     "name": "stdout",
     "output_type": "stream",
     "text": [
      "Grouped Data by Source IP, Fecha, and Hora (Sorted by Count):\n",
      "\n",
      "|       | source_ip   | fecha      | hora     | count   |\n",
      "|:------|:------------|:-----------|:---------|:--------|\n",
      "| 53361 | 10.20.40.31 | 2024-07-16 | 15:52:10 | 544     |\n",
      "| 53408 | 10.20.40.31 | 2024-07-16 | 15:53:16 | 535     |\n",
      "| 53260 | 10.20.40.31 | 2024-07-16 | 15:49:38 | 480     |\n",
      "| 75356 | 10.20.40.36 | 2024-07-18 | 08:30:49 | 452     |\n",
      "| 70366 | 10.20.40.35 | 2024-07-18 | 08:38:58 | 443     |\n",
      "| 74360 | 10.20.40.36 | 2024-07-17 | 13:41:41 | 433     |\n",
      "| 74359 | 10.20.40.36 | 2024-07-17 | 13:41:40 | 432     |\n",
      "| 75526 | 10.20.40.36 | 2024-07-18 | 08:48:14 | 425     |\n",
      "| 71289 | 10.20.40.35 | 2024-07-23 | 09:34:56 | 424     |\n",
      "| 53261 | 10.20.40.31 | 2024-07-16 | 15:49:39 | 421     |\n",
      "\n",
      "Grouped Data by Destination IP, Fecha, and Hora (Sorted by Count):\n",
      "\n",
      "|        | destination_ip         | fecha      | hora     | count   |\n",
      "|:-------|:-----------------------|:-----------|:---------|:--------|\n",
      "| 707031 | pacifico.recoip.mil.co | 2024-07-16 | 15:52:10 | 544     |\n",
      "| 707078 | pacifico.recoip.mil.co | 2024-07-16 | 15:53:16 | 535     |\n",
      "| 706930 | pacifico.recoip.mil.co | 2024-07-16 | 15:49:38 | 480     |\n",
      "| 722664 | pacifico.recoip.mil.co | 2024-07-18 | 08:30:49 | 452     |\n",
      "| 722869 | pacifico.recoip.mil.co | 2024-07-18 | 08:38:58 | 443     |\n",
      "| 717292 | pacifico.recoip.mil.co | 2024-07-17 | 13:41:41 | 433     |\n",
      "| 717291 | pacifico.recoip.mil.co | 2024-07-17 | 13:41:40 | 432     |\n",
      "| 744596 | pacifico.recoip.mil.co | 2024-07-23 | 08:31:54 | 429     |\n",
      "| 723052 | pacifico.recoip.mil.co | 2024-07-18 | 08:48:14 | 427     |\n",
      "| 745835 | pacifico.recoip.mil.co | 2024-07-23 | 09:34:56 | 424     |\n"
     ]
    }
   ],
   "source": [
    "# Combine 'fecha' and 'hora' to create a 'datetime' column in df_asset_auth\n",
    "df_asset_auth['datetime'] = pd.to_datetime(df_asset_auth['fecha'] + ' ' + df_asset_auth['hora'])\n",
    "\n",
    "# Combine 'fecha' and 'hora' to create a 'datetime' column in df_file_mod\n",
    "df_file_mod['datetime'] = pd.to_datetime(df_file_mod['fecha'] + ' ' + df_file_mod['hora'])\n",
    "\n",
    "# Combine 'fecha' and 'hora' to create a 'datetime' column in df_firewall\n",
    "df_firewall['datetime'] = pd.to_datetime(df_firewall['fecha'] + ' ' + df_firewall['hora'])\n",
    "\n",
    "# Create 'fecha' and 'hora' columns from 'datetime'\n",
    "for df in [df_asset_auth, df_file_mod, df_firewall]:\n",
    "    df['fecha'] = df['datetime'].dt.date\n",
    "    df['hora'] = df['datetime'].dt.time\n",
    "\n",
    "# Create df_asset_auth_combined with relevant columns and rename as needed\n",
    "df_asset_auth_combined = df_asset_auth[['fecha', 'hora', 'json.source_asset_address', 'json.destination_asset_address']].copy()\n",
    "df_asset_auth_combined.rename(columns={'json.source_asset_address': 'source_ip', 'json.destination_asset_address': 'destination_ip'}, inplace=True)\n",
    "\n",
    "# Create df_file_mod_combined with relevant columns and rename as needed\n",
    "df_file_mod_combined = df_file_mod[['fecha', 'hora', 'json.source_address', 'json.target_address']].copy()\n",
    "df_file_mod_combined.rename(columns={'json.source_address': 'source_ip', 'json.target_address': 'destination_ip'}, inplace=True)\n",
    "\n",
    "# Create df_firewall_combined with relevant columns and rename as needed\n",
    "df_firewall_combined = df_firewall[['fecha', 'hora', 'json.source_address', 'json.destination_address']].copy()\n",
    "df_firewall_combined.rename(columns={'json.source_address': 'source_ip', 'json.destination_address': 'destination_ip'}, inplace=True)\n",
    "\n",
    "# Concatenate the three DataFrames into df_combined\n",
    "df_combined = pd.concat([df_asset_auth_combined, df_file_mod_combined, df_firewall_combined], ignore_index=True)\n",
    "\n",
    "# Group by source_ip and 'fecha' and 'hora', count the occurrences\n",
    "grouped_data_source = df_combined.groupby(['source_ip', 'fecha', 'hora']).size().to_frame(name='count').reset_index()\n",
    "\n",
    "# Group by destination_ip and 'fecha' and 'hora', count the occurrences\n",
    "grouped_data_destination = df_combined.groupby(['destination_ip', 'fecha', 'hora']).size().to_frame(name='count').reset_index()\n",
    "\n",
    "# Sort grouped_data_source by 'count' in descending order\n",
    "grouped_data_source = grouped_data_source.sort_values(by='count', ascending=False)\n",
    "\n",
    "# Sort grouped_data_destination by 'count' in descending order\n",
    "grouped_data_destination = grouped_data_destination.sort_values(by='count', ascending=False)\n",
    "\n",
    "# Display the first 5 rows of each grouped DataFrame with 'fecha' and 'hora'\n",
    "print(\"Grouped Data by Source IP, Fecha, and Hora (Sorted by Count):\\n\")\n",
    "print(grouped_data_source.head(10).to_markdown(numalign=\"left\", stralign=\"left\"))\n",
    "\n",
    "print(\"\\nGrouped Data by Destination IP, Fecha, and Hora (Sorted by Count):\\n\")\n",
    "print(grouped_data_destination.head(10).to_markdown(numalign=\"left\", stralign=\"left\"))"
   ]
  },
  {
   "cell_type": "markdown",
   "metadata": {},
   "source": [
    "Estos cambios abruptos en el tráfico podrían indicar varias cosas:\n",
    "\n",
    "Actividad maliciosa: Un aumento repentino en el tráfico desde o hacia una IP específica podría indicar un ataque, como un escaneo de puertos o un intento de explotación.\n",
    "\n",
    "Cambios en la configuración: Un cambio en la configuración de la red o de un sistema podría provocar un cambio en los patrones de tráfico.\n",
    "\n",
    "Problemas de rendimiento: Una caída repentina en el tráfico podría indicar un problema de rendimiento de la red o del sistema"
   ]
  },
  {
   "cell_type": "code",
   "execution_count": 47,
   "metadata": {},
   "outputs": [
    {
     "data": {
      "text/plain": [
       "Index(['fecha', 'hora', 'source_ip', 'destination_ip'], dtype='object')"
      ]
     },
     "execution_count": 47,
     "metadata": {},
     "output_type": "execute_result"
    }
   ],
   "source": [
    "df_combined.columns"
   ]
  },
  {
   "cell_type": "markdown",
   "metadata": {},
   "source": [
    "# Cambio por fecha y hora "
   ]
  },
  {
   "cell_type": "code",
   "execution_count": 48,
   "metadata": {},
   "outputs": [
    {
     "name": "stderr",
     "output_type": "stream",
     "text": [
      "C:\\Users\\Windows 10 Pro\\AppData\\Local\\Temp\\ipykernel_19276\\1071416158.py:28: UserWarning: The figure layout has changed to tight\n",
      "  plt.tight_layout()\n"
     ]
    },
    {
     "data": {
      "image/png": "[encoded data removed]",
      "text/plain": [
       "<Figure size 1400x1000 with 2 Axes>"
      ]
     },
     "metadata": {},
     "output_type": "display_data"
    }
   ],
   "source": [
    "import pandas as pd\n",
    "import matplotlib.pyplot as plt\n",
    "\n",
    "# Supongo que ya tienes tus DataFrames 'filtered_source_data' y 'filtered_destination_data'\n",
    "\n",
    "# Seleccionar los primeros 100 registros de cada DataFrame\n",
    "top_100_source = filtered_source_data.head(200)\n",
    "top_100_destination = filtered_destination_data.head(200)\n",
    "\n",
    "# Crear el diagrama de puntos para IPs de origen\n",
    "plt.figure(figsize=(14, 10))\n",
    "\n",
    "plt.subplot(1, 2, 1)  # Crear un subplot (1 fila, 2 columnas, primer gráfico)\n",
    "plt.scatter(top_100_source['datetime'], top_100_source['pct_change'], alpha=0.7, edgecolors='w', s=100)\n",
    "plt.xlabel('Fecha y Hora')\n",
    "plt.ylabel('Cambio Porcentual (%)')\n",
    "plt.title('IPs de Origen con Cambio Significativo')\n",
    "plt.xticks(rotation=45, fontsize=10)\n",
    "plt.tight_layout()\n",
    "\n",
    "# Crear el diagrama de puntos para IPs de destino\n",
    "plt.subplot(1, 2, 2)  # Crear un subplot (1 fila, 2 columnas, segundo gráfico)\n",
    "plt.scatter(top_100_destination['datetime'], top_100_destination['pct_change'], alpha=0.7, edgecolors='w', s=100)\n",
    "plt.xlabel('Fecha y Hora')\n",
    "plt.ylabel('Cambio Porcentual (%)')\n",
    "plt.title('IPs de Destino con Cambio Significativo')\n",
    "plt.xticks(rotation=45, fontsize=10)\n",
    "plt.tight_layout()\n",
    "\n",
    "plt.show()\n"
   ]
  },
  {
   "cell_type": "code",
   "execution_count": null,
   "metadata": {},
   "outputs": [],
   "source": []
  }
 ],
 "metadata": {
  "kernelspec": {
   "display_name": "base",
   "language": "python",
   "name": "python3"
  },
  "language_info": {
   "codemirror_mode": {
    "name": "ipython",
    "version": 3
   },
   "file_extension": ".py",
   "mimetype": "text/x-python",
   "name": "python",
   "nbconvert_exporter": "python",
   "pygments_lexer": "ipython3",
   "version": "3.11.5"
  }
 },
 "nbformat": 4,
 "nbformat_minor": 2
}
