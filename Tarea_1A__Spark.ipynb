{
  "nbformat": 4,
  "nbformat_minor": 0,
  "metadata": {
    "colab": {
      "private_outputs": true,
      "provenance": [],
      "include_colab_link": true
    },
    "kernelspec": {
      "name": "python3",
      "display_name": "Python 3"
    },
    "language_info": {
      "name": "python"
    }
  },
  "cells": [
    {
      "cell_type": "markdown",
      "metadata": {
        "id": "view-in-github",
        "colab_type": "text"
      },
      "source": [
        "<a href=\"https://colab.research.google.com/github/YasminGarcia1210/MAESTRIA_DATOS/blob/main/Tarea_1A__Spark.ipynb\" target=\"_parent\"><img src=\"https://colab.research.google.com/assets/colab-badge.svg\" alt=\"Open In Colab\"/></a>"
      ]
    },
    {
      "cell_type": "code",
      "execution_count": null,
      "metadata": {
        "id": "yq4lWtmKTsCB"
      },
      "outputs": [],
      "source": [
        "import os\n",
        "# indicate your Spark version, here we use Spark 3.5 with pydeequ 1.4.0\n",
        "os.environ[\"SPARK_VERSION\"] = '3.5'"
      ]
    },
    {
      "cell_type": "code",
      "source": [
        "#pip install pydeequ\n",
        "#pip install sagemaker-pyspark\n"
      ],
      "metadata": {
        "id": "VEZNVq3_VmfV"
      },
      "execution_count": null,
      "outputs": []
    },
    {
      "cell_type": "code",
      "source": [
        "from pyspark.sql import SparkSession, Row, DataFrame\n",
        "import json\n",
        "import pandas as pd\n",
        "import sagemaker_pyspark\n",
        "\n",
        "import pydeequ\n",
        "classpath = \":\".join(sagemaker_pyspark.classpath_jars())\n",
        "\n",
        "spark = (SparkSession\n",
        "    .builder\n",
        "    .config(\"spark.driver.extraClassPath\", classpath)\n",
        "    .config(\"spark.jars.packages\", pydeequ.deequ_maven_coord)\n",
        "    .config(\"spark.jars.excludes\", pydeequ.f2j_maven_coord)\n",
        "    .getOrCreate())"
      ],
      "metadata": {
        "id": "oVmmjrFgVXPH"
      },
      "execution_count": null,
      "outputs": []
    },
    {
      "cell_type": "code",
      "source": [
        "data=pd.read_csv(\"test.csv\")\n",
        "data.head(3)"
      ],
      "metadata": {
        "id": "FsGSUbTba2E8"
      },
      "execution_count": null,
      "outputs": []
    },
    {
      "cell_type": "code",
      "source": [
        "data.describe()"
      ],
      "metadata": {
        "id": "jkBEBOf4koyr"
      },
      "execution_count": null,
      "outputs": []
    },
    {
      "cell_type": "code",
      "source": [
        "data.columns"
      ],
      "metadata": {
        "id": "uPRDCVy-byt3"
      },
      "execution_count": null,
      "outputs": []
    },
    {
      "cell_type": "code",
      "source": [
        "df = spark.read.csv(\"test.csv\",header=True, inferSchema=True)\n",
        "df.printSchema()"
      ],
      "metadata": {
        "id": "rAtMQG0GVkXe"
      },
      "execution_count": null,
      "outputs": []
    },
    {
      "cell_type": "code",
      "source": [
        "df.show(4)"
      ],
      "metadata": {
        "id": "tTMpwfJdk4LR"
      },
      "execution_count": null,
      "outputs": []
    },
    {
      "cell_type": "code",
      "source": [
        "from pyspark.sql.functions import col, isnan, when, count\n",
        "\n",
        "df.select([count(when(col(c).isNull() | isnan(c), c)).alias(c) for c in df.columns]).show()\n"
      ],
      "metadata": {
        "id": "csZqKYSCkVmc"
      },
      "execution_count": null,
      "outputs": []
    },
    {
      "cell_type": "code",
      "source": [
        "simpleAnalysisResult = AnalysisRunner(spark) \\\n",
        "                         .onData(df) \\\n",
        "                         .addAnalyzer(Size()) \\\n",
        "                         .addAnalyzer(Completeness(\"id\")) \\\n",
        "                         .run()\n",
        "\n",
        "simpleResult_df = AnalyzerContext.successMetricsAsDataFrame(spark, simpleAnalysisResult)\n",
        "simpleResult_df.show(truncate=False)\n"
      ],
      "metadata": {
        "id": "KYpiAzkelEe4"
      },
      "execution_count": null,
      "outputs": []
    },
    {
      "cell_type": "code",
      "source": [
        "# Añadir uno por uno y verificar\n",
        "def run_analysis(analyzers):\n",
        "    result = AnalysisRunner(spark).onData(df)\n",
        "    for analyzer in analyzers:\n",
        "        result = result.addAnalyzer(analyzer)\n",
        "    return result.run()\n",
        "\n",
        "# Analizadores en pasos\n",
        "analyzers_step1 = [\n",
        "    Size(),\n",
        "    Completeness(\"id\")\n",
        "]\n",
        "\n",
        "analyzers_step2 = [\n",
        "    ApproxCountDistinct(\"ram\"),\n",
        "    Mean(\"battery_power\")\n",
        "]\n",
        "\n",
        "analyzers_step3 = [\n",
        "    Compliance(\"high ram\", \"ram >= 3000\"),\n",
        "    Compliance(\"4G devices\", \"four_g == 1\")\n",
        "]\n",
        "\n",
        "analyzers_step4 = [\n",
        "    Correlation(\"px_height\", \"px_width\"),\n",
        "    Correlation(\"clock_speed\", \"battery_power\")\n",
        "]\n",
        "\n",
        "# Ejecutar y verificar cada paso\n",
        "result_df1 = AnalyzerContext.successMetricsAsDataFrame(spark, run_analysis(analyzers_step1))\n",
        "result_df1.show(truncate=False)\n",
        "\n",
        "result_df2 = AnalyzerContext.successMetricsAsDataFrame(spark, run_analysis(analyzers_step2))\n",
        "result_df2.show(truncate=False)\n",
        "\n",
        "result_df3 = AnalyzerContext.successMetricsAsDataFrame(spark, run_analysis(analyzers_step3))\n",
        "result_df3.show(truncate=False)\n",
        "\n",
        "result_df4 = AnalyzerContext.successMetricsAsDataFrame(spark, run_analysis(analyzers_step4))\n",
        "result_df4.show(truncate=False)\n"
      ],
      "metadata": {
        "id": "2M3pQdbhle6g"
      },
      "execution_count": null,
      "outputs": []
    },
    {
      "cell_type": "code",
      "source": [
        "from pydeequ.analyzers import *\n",
        "\n",
        "analysisResult = AnalysisRunner(spark) \\\n",
        "                    .onData(df) \\\n",
        "                    .addAnalyzer(Size()) \\\n",
        "                    .addAnalyzer(Completeness(\"id\")) \\\n",
        "                    .addAnalyzer(Mean(\"battery_power\")) \\\n",
        "                    .addAnalyzer(Mean(\"clock_speed\")) \\\n",
        "                    .addAnalyzer(Compliance(\"high ram\", \"ram >= 3000\")) \\\n",
        "                    .addAnalyzer(Compliance(\"4G devices\", \"four_g == 1\")) \\\n",
        "                    .addAnalyzer(Compliance(\"3G devices\", \"three_g == 1\")) \\\n",
        "                    .addAnalyzer(Compliance(\"Dual SIM\", \"dual_sim == 1\")) \\\n",
        "                    .addAnalyzer(Correlation(\"px_height\", \"px_width\")) \\\n",
        "                    .addAnalyzer(Correlation(\"clock_speed\", \"battery_power\")) \\\n",
        "                    .addAnalyzer(Correlation(\"int_memory\", \"ram\")) \\\n",
        "                    .addAnalyzer(Correlation(\"mobile_wt\", \"battery_power\")) \\\n",
        "                    .addAnalyzer(Correlation(\"talk_time\", \"battery_power\")) \\\n",
        "                    .addAnalyzer(Correlation(\"sc_h\", \"sc_w\")) \\\n",
        "                    .addAnalyzer(Correlation(\"fc\", \"pc\")) \\\n",
        "                    .addAnalyzer(Correlation(\"battery_power\", \"ram\")) \\\n",
        "                    .addAnalyzer(Correlation(\"n_cores\", \"clock_speed\")) \\\n",
        "                    .run()\n",
        "\n",
        "result_df = AnalyzerContext.successMetricsAsDataFrame(spark, analysisResult)\n",
        "result_df.show(truncate=False)\n"
      ],
      "metadata": {
        "id": "qN7CmZ0mlNoa"
      },
      "execution_count": null,
      "outputs": []
    },
    {
      "cell_type": "code",
      "source": [
        "analysisResult_pandas_df = AnalyzerContext.successMetricsAsDataFrame(spark, analysisResult, pandas=True)\n",
        "analysisResult_pandas_df"
      ],
      "metadata": {
        "id": "YTy0yBuSZrIn"
      },
      "execution_count": null,
      "outputs": []
    },
    {
      "cell_type": "code",
      "source": [],
      "metadata": {
        "id": "mvf3ST2JesUX"
      },
      "execution_count": null,
      "outputs": []
    }
  ]
}