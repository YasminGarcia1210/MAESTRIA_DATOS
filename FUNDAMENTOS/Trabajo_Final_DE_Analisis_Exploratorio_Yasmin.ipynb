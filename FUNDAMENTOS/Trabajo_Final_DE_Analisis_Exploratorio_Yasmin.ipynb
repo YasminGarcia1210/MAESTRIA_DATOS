{
  "nbformat": 4,
  "nbformat_minor": 0,
  "metadata": {
    "colab": {
      "provenance": [],
      "toc_visible": true,
      "authorship_tag": "ABX9TyNWwFkeZlVAFoscumiLaXkL",
      "include_colab_link": true
    },
    "kernelspec": {
      "name": "python3",
      "display_name": "Python 3"
    },
    "language_info": {
      "name": "python"
    }
  },
  "cells": [
    {
      "cell_type": "markdown",
      "metadata": {
        "id": "view-in-github",
        "colab_type": "text"
      },
      "source": [
        "<a href=\"https://colab.research.google.com/github/YasminGarcia1210/MAESTRIA_DATOS/blob/main/Trabajo_Final_DE_Analisis_Exploratorio_Yasmin.ipynb\" target=\"_parent\"><img src=\"https://colab.research.google.com/assets/colab-badge.svg\" alt=\"Open In Colab\"/></a>"
      ]
    },
    {
      "cell_type": "code",
      "execution_count": null,
      "metadata": {
        "id": "yyS_cBMX__M7"
      },
      "outputs": [],
      "source": [
        "#Inicamos la lectura desde la fila 8 donde se encuentran los encabezados de las filas\n",
        "import pandas as pd\n",
        "import matplotlib.pyplot as plt\n",
        "datos=pd.read_csv('UsuariosActivos.csv',skiprows=8,delimiter=';')"
      ]
    },
    {
      "cell_type": "code",
      "source": [
        "datos['SERVICIO'] = pd.to_numeric(datos['SERVICIO'], errors='coerce')\n",
        "\n",
        "# Elimina las filas que no se pudieron convertir en números y deja solo en contenido número que representa la identificación del servicio\n",
        "datos = datos.dropna(subset=['SERVICIO'])"
      ],
      "metadata": {
        "id": "BoIe8S5vAUrr"
      },
      "execution_count": null,
      "outputs": []
    },
    {
      "cell_type": "code",
      "source": [
        "data = datos[['SERVICIO','SUSCRIPC','CATE','SUBC','BARRIO','DESCRIPCION','CUENTAS','SALDO','V.CUENTA','V.IVA','FECH INST']].copy()\n",
        "\n",
        "data = data.sort_values(by='SUSCRIPC', ascending=False)\n",
        "data = data.reset_index(drop=True)"
      ],
      "metadata": {
        "id": "voWG3npuAYy9"
      },
      "execution_count": null,
      "outputs": []
    },
    {
      "cell_type": "markdown",
      "source": [
        "# 3. Análisis exploratorio\n",
        "\n",
        "\n"
      ],
      "metadata": {
        "id": "j7uW041XAenZ"
      }
    },
    {
      "cell_type": "markdown",
      "source": [
        "\n",
        "### 3.1 Análisis de la estructura"
      ],
      "metadata": {
        "id": "NiGsm0jqCVtd"
      }
    },
    {
      "cell_type": "markdown",
      "source": [
        "#### 3.1.1 Tamaño de la data"
      ],
      "metadata": {
        "id": "QmT1gsghCUCh"
      }
    },
    {
      "cell_type": "code",
      "source": [
        "data.shape"
      ],
      "metadata": {
        "colab": {
          "base_uri": "https://localhost:8080/"
        },
        "id": "LqVBOdWGAk3e",
        "outputId": "299b1f86-da92-470e-e0dd-a396d0e630d2"
      },
      "execution_count": null,
      "outputs": [
        {
          "output_type": "execute_result",
          "data": {
            "text/plain": [
              "(15191, 11)"
            ]
          },
          "metadata": {},
          "execution_count": 6
        }
      ]
    },
    {
      "cell_type": "markdown",
      "source": [
        "Los datos cuentan con 15191 observaciones y 11 columnas, esto despues de limpiar la data con columnas que no se necesitan para este análisis"
      ],
      "metadata": {
        "id": "_LsoAR2OAy4P"
      }
    },
    {
      "cell_type": "markdown",
      "source": [
        " #### 3.1.2 Datos Nan, Nul"
      ],
      "metadata": {
        "id": "d3nbMp-FBCk6"
      }
    },
    {
      "cell_type": "code",
      "source": [
        "data.isna().sum()"
      ],
      "metadata": {
        "colab": {
          "base_uri": "https://localhost:8080/"
        },
        "id": "PGtdVRCsBJOW",
        "outputId": "e22733e1-f674-4593-8259-160fa735edc2"
      },
      "execution_count": null,
      "outputs": [
        {
          "output_type": "execute_result",
          "data": {
            "text/plain": [
              "SERVICIO       0\n",
              "SUSCRIPC       0\n",
              "CATE           0\n",
              "SUBC           0\n",
              "BARRIO         2\n",
              "DESCRIPCION    2\n",
              "CUENTAS        2\n",
              "SALDO          2\n",
              "V.CUENTA       2\n",
              "V.IVA          2\n",
              "FECH INST      5\n",
              "dtype: int64"
            ]
          },
          "metadata": {},
          "execution_count": 8
        }
      ]
    },
    {
      "cell_type": "code",
      "source": [
        "data.isnull().sum()"
      ],
      "metadata": {
        "colab": {
          "base_uri": "https://localhost:8080/"
        },
        "id": "yotReQ-LA91r",
        "outputId": "6154662b-2ed4-46d6-abc4-eb7c8bf0a496"
      },
      "execution_count": null,
      "outputs": [
        {
          "output_type": "execute_result",
          "data": {
            "text/plain": [
              "SERVICIO       0\n",
              "SUSCRIPC       0\n",
              "CATE           0\n",
              "SUBC           0\n",
              "BARRIO         2\n",
              "DESCRIPCION    2\n",
              "CUENTAS        2\n",
              "SALDO          2\n",
              "V.CUENTA       2\n",
              "V.IVA          2\n",
              "FECH INST      5\n",
              "dtype: int64"
            ]
          },
          "metadata": {},
          "execution_count": 9
        }
      ]
    },
    {
      "cell_type": "markdown",
      "source": [
        "Podemos observar que los datos Nan y Null coinciden en las columnas, por lo que tomaremos la decisión de borrar los datos Nan=Nul\n"
      ],
      "metadata": {
        "id": "Sdp8ASpZBRg9"
      }
    },
    {
      "cell_type": "code",
      "source": [
        "data=data.dropna()\n",
        "data = data.reset_index(drop=True)"
      ],
      "metadata": {
        "id": "Zg43reFGBfJj"
      },
      "execution_count": null,
      "outputs": []
    },
    {
      "cell_type": "code",
      "source": [],
      "metadata": {
        "id": "zRiJ92mSTyns"
      },
      "execution_count": null,
      "outputs": []
    },
    {
      "cell_type": "code",
      "source": [
        "# Quedando asi\n",
        "\n",
        "data.isna().sum()"
      ],
      "metadata": {
        "id": "OIcR4sKPAmgS"
      },
      "execution_count": null,
      "outputs": []
    },
    {
      "cell_type": "markdown",
      "source": [
        "Se muestra a continuación las columnas con las que vamos a trabajar"
      ],
      "metadata": {
        "id": "5JFhMzMxBzcz"
      }
    },
    {
      "cell_type": "code",
      "source": [
        "list(data.columns)"
      ],
      "metadata": {
        "colab": {
          "base_uri": "https://localhost:8080/"
        },
        "id": "MTTSUszKBhtW",
        "outputId": "e2962458-c1a4-49ee-9b7d-5c274e354ec1"
      },
      "execution_count": null,
      "outputs": [
        {
          "output_type": "execute_result",
          "data": {
            "text/plain": [
              "['SERVICIO',\n",
              " 'SUSCRIPC',\n",
              " 'CATE',\n",
              " 'SUBC',\n",
              " 'BARRIO',\n",
              " 'DESCRIPCION',\n",
              " 'CUENTAS',\n",
              " 'SALDO',\n",
              " 'V.CUENTA',\n",
              " 'V.IVA',\n",
              " 'FECH INST']"
            ]
          },
          "metadata": {},
          "execution_count": 12
        }
      ]
    },
    {
      "cell_type": "markdown",
      "source": [
        "### 3.2 Análisis de Variables categoricas"
      ],
      "metadata": {
        "id": "No2ikqgPCCHW"
      }
    },
    {
      "cell_type": "markdown",
      "source": [
        "Segun el campo de descripción, las variables categóricas son:"
      ],
      "metadata": {
        "id": "jneHCbAwCeTU"
      }
    },
    {
      "cell_type": "code",
      "source": [
        "data.dtypes"
      ],
      "metadata": {
        "colab": {
          "base_uri": "https://localhost:8080/"
        },
        "id": "uwcrgYxTCik8",
        "outputId": "f1790612-bfa6-4f43-8167-1bbe2aed3580"
      },
      "execution_count": null,
      "outputs": [
        {
          "output_type": "execute_result",
          "data": {
            "text/plain": [
              "SERVICIO       float64\n",
              "SUSCRIPC        object\n",
              "CATE            object\n",
              "SUBC            object\n",
              "BARRIO          object\n",
              "DESCRIPCION     object\n",
              "CUENTAS         object\n",
              "SALDO          float64\n",
              "V.CUENTA       float64\n",
              "V.IVA          float64\n",
              "FECH INST       object\n",
              "dtype: object"
            ]
          },
          "metadata": {},
          "execution_count": 18
        }
      ]
    },
    {
      "cell_type": "markdown",
      "source": [
        "Sin embargo, las columnas SALDO, CUENTA, U.IVA y FECHA no son variables categoricas sino numéricas, por lo que vamos a hacer la transformación."
      ],
      "metadata": {
        "id": "xR_DNfXOCsa9"
      }
    },
    {
      "cell_type": "code",
      "source": [
        "data.head(2)"
      ],
      "metadata": {
        "colab": {
          "base_uri": "https://localhost:8080/",
          "height": 112
        },
        "id": "i761RM3hTUY-",
        "outputId": "01636ff4-f0cb-4d3e-fc6c-7a14603abac6"
      },
      "execution_count": null,
      "outputs": [
        {
          "output_type": "execute_result",
          "data": {
            "text/plain": [
              "    SERVICIO SUSCRIPC CATE SUBC           BARRIO  \\\n",
              "0  7801959.0    99996    8    2  BELLO HORIZONTE   \n",
              "1  6801251.0    99996   60   62  BELLO HORIZONTE   \n",
              "\n",
              "                     DESCRIPCION CUENTAS  SALDO  V.CUENTA   V.IVA FECH INST  \n",
              "0   INTERNET GPON 40 MB OCT-2022       0    0.0   42680.0 -1153.3   9/08/18  \n",
              "1  DOBLE INT+TV GPON TV OCT-2022       0    0.0   20940.0  3344.0   6/05/23  "
            ],
            "text/html": [
              "\n",
              "  <div id=\"df-ff5a6f55-5ce0-44b3-8b7d-f1287a76c67c\" class=\"colab-df-container\">\n",
              "    <div>\n",
              "<style scoped>\n",
              "    .dataframe tbody tr th:only-of-type {\n",
              "        vertical-align: middle;\n",
              "    }\n",
              "\n",
              "    .dataframe tbody tr th {\n",
              "        vertical-align: top;\n",
              "    }\n",
              "\n",
              "    .dataframe thead th {\n",
              "        text-align: right;\n",
              "    }\n",
              "</style>\n",
              "<table border=\"1\" class=\"dataframe\">\n",
              "  <thead>\n",
              "    <tr style=\"text-align: right;\">\n",
              "      <th></th>\n",
              "      <th>SERVICIO</th>\n",
              "      <th>SUSCRIPC</th>\n",
              "      <th>CATE</th>\n",
              "      <th>SUBC</th>\n",
              "      <th>BARRIO</th>\n",
              "      <th>DESCRIPCION</th>\n",
              "      <th>CUENTAS</th>\n",
              "      <th>SALDO</th>\n",
              "      <th>V.CUENTA</th>\n",
              "      <th>V.IVA</th>\n",
              "      <th>FECH INST</th>\n",
              "    </tr>\n",
              "  </thead>\n",
              "  <tbody>\n",
              "    <tr>\n",
              "      <th>0</th>\n",
              "      <td>7801959.0</td>\n",
              "      <td>99996</td>\n",
              "      <td>8</td>\n",
              "      <td>2</td>\n",
              "      <td>BELLO HORIZONTE</td>\n",
              "      <td>INTERNET GPON 40 MB OCT-2022</td>\n",
              "      <td>0</td>\n",
              "      <td>0.0</td>\n",
              "      <td>42680.0</td>\n",
              "      <td>-1153.3</td>\n",
              "      <td>9/08/18</td>\n",
              "    </tr>\n",
              "    <tr>\n",
              "      <th>1</th>\n",
              "      <td>6801251.0</td>\n",
              "      <td>99996</td>\n",
              "      <td>60</td>\n",
              "      <td>62</td>\n",
              "      <td>BELLO HORIZONTE</td>\n",
              "      <td>DOBLE INT+TV GPON TV OCT-2022</td>\n",
              "      <td>0</td>\n",
              "      <td>0.0</td>\n",
              "      <td>20940.0</td>\n",
              "      <td>3344.0</td>\n",
              "      <td>6/05/23</td>\n",
              "    </tr>\n",
              "  </tbody>\n",
              "</table>\n",
              "</div>\n",
              "    <div class=\"colab-df-buttons\">\n",
              "\n",
              "  <div class=\"colab-df-container\">\n",
              "    <button class=\"colab-df-convert\" onclick=\"convertToInteractive('df-ff5a6f55-5ce0-44b3-8b7d-f1287a76c67c')\"\n",
              "            title=\"Convert this dataframe to an interactive table.\"\n",
              "            style=\"display:none;\">\n",
              "\n",
              "  <svg xmlns=\"http://www.w3.org/2000/svg\" height=\"24px\" viewBox=\"0 -960 960 960\">\n",
              "    <path d=\"M120-120v-720h720v720H120Zm60-500h600v-160H180v160Zm220 220h160v-160H400v160Zm0 220h160v-160H400v160ZM180-400h160v-160H180v160Zm440 0h160v-160H620v160ZM180-180h160v-160H180v160Zm440 0h160v-160H620v160Z\"/>\n",
              "  </svg>\n",
              "    </button>\n",
              "\n",
              "  <style>\n",
              "    .colab-df-container {\n",
              "      display:flex;\n",
              "      gap: 12px;\n",
              "    }\n",
              "\n",
              "    .colab-df-convert {\n",
              "      background-color: #E8F0FE;\n",
              "      border: none;\n",
              "      border-radius: 50%;\n",
              "      cursor: pointer;\n",
              "      display: none;\n",
              "      fill: #1967D2;\n",
              "      height: 32px;\n",
              "      padding: 0 0 0 0;\n",
              "      width: 32px;\n",
              "    }\n",
              "\n",
              "    .colab-df-convert:hover {\n",
              "      background-color: #E2EBFA;\n",
              "      box-shadow: 0px 1px 2px rgba(60, 64, 67, 0.3), 0px 1px 3px 1px rgba(60, 64, 67, 0.15);\n",
              "      fill: #174EA6;\n",
              "    }\n",
              "\n",
              "    .colab-df-buttons div {\n",
              "      margin-bottom: 4px;\n",
              "    }\n",
              "\n",
              "    [theme=dark] .colab-df-convert {\n",
              "      background-color: #3B4455;\n",
              "      fill: #D2E3FC;\n",
              "    }\n",
              "\n",
              "    [theme=dark] .colab-df-convert:hover {\n",
              "      background-color: #434B5C;\n",
              "      box-shadow: 0px 1px 3px 1px rgba(0, 0, 0, 0.15);\n",
              "      filter: drop-shadow(0px 1px 2px rgba(0, 0, 0, 0.3));\n",
              "      fill: #FFFFFF;\n",
              "    }\n",
              "  </style>\n",
              "\n",
              "    <script>\n",
              "      const buttonEl =\n",
              "        document.querySelector('#df-ff5a6f55-5ce0-44b3-8b7d-f1287a76c67c button.colab-df-convert');\n",
              "      buttonEl.style.display =\n",
              "        google.colab.kernel.accessAllowed ? 'block' : 'none';\n",
              "\n",
              "      async function convertToInteractive(key) {\n",
              "        const element = document.querySelector('#df-ff5a6f55-5ce0-44b3-8b7d-f1287a76c67c');\n",
              "        const dataTable =\n",
              "          await google.colab.kernel.invokeFunction('convertToInteractive',\n",
              "                                                    [key], {});\n",
              "        if (!dataTable) return;\n",
              "\n",
              "        const docLinkHtml = 'Like what you see? Visit the ' +\n",
              "          '<a target=\"_blank\" href=https://colab.research.google.com/notebooks/data_table.ipynb>data table notebook</a>'\n",
              "          + ' to learn more about interactive tables.';\n",
              "        element.innerHTML = '';\n",
              "        dataTable['output_type'] = 'display_data';\n",
              "        await google.colab.output.renderOutput(dataTable, element);\n",
              "        const docLink = document.createElement('div');\n",
              "        docLink.innerHTML = docLinkHtml;\n",
              "        element.appendChild(docLink);\n",
              "      }\n",
              "    </script>\n",
              "  </div>\n",
              "\n",
              "\n",
              "<div id=\"df-b793c001-a6d8-482f-b178-3f9ff5573654\">\n",
              "  <button class=\"colab-df-quickchart\" onclick=\"quickchart('df-b793c001-a6d8-482f-b178-3f9ff5573654')\"\n",
              "            title=\"Suggest charts.\"\n",
              "            style=\"display:none;\">\n",
              "\n",
              "<svg xmlns=\"http://www.w3.org/2000/svg\" height=\"24px\"viewBox=\"0 0 24 24\"\n",
              "     width=\"24px\">\n",
              "    <g>\n",
              "        <path d=\"M19 3H5c-1.1 0-2 .9-2 2v14c0 1.1.9 2 2 2h14c1.1 0 2-.9 2-2V5c0-1.1-.9-2-2-2zM9 17H7v-7h2v7zm4 0h-2V7h2v10zm4 0h-2v-4h2v4z\"/>\n",
              "    </g>\n",
              "</svg>\n",
              "  </button>\n",
              "\n",
              "<style>\n",
              "  .colab-df-quickchart {\n",
              "      --bg-color: #E8F0FE;\n",
              "      --fill-color: #1967D2;\n",
              "      --hover-bg-color: #E2EBFA;\n",
              "      --hover-fill-color: #174EA6;\n",
              "      --disabled-fill-color: #AAA;\n",
              "      --disabled-bg-color: #DDD;\n",
              "  }\n",
              "\n",
              "  [theme=dark] .colab-df-quickchart {\n",
              "      --bg-color: #3B4455;\n",
              "      --fill-color: #D2E3FC;\n",
              "      --hover-bg-color: #434B5C;\n",
              "      --hover-fill-color: #FFFFFF;\n",
              "      --disabled-bg-color: #3B4455;\n",
              "      --disabled-fill-color: #666;\n",
              "  }\n",
              "\n",
              "  .colab-df-quickchart {\n",
              "    background-color: var(--bg-color);\n",
              "    border: none;\n",
              "    border-radius: 50%;\n",
              "    cursor: pointer;\n",
              "    display: none;\n",
              "    fill: var(--fill-color);\n",
              "    height: 32px;\n",
              "    padding: 0;\n",
              "    width: 32px;\n",
              "  }\n",
              "\n",
              "  .colab-df-quickchart:hover {\n",
              "    background-color: var(--hover-bg-color);\n",
              "    box-shadow: 0 1px 2px rgba(60, 64, 67, 0.3), 0 1px 3px 1px rgba(60, 64, 67, 0.15);\n",
              "    fill: var(--button-hover-fill-color);\n",
              "  }\n",
              "\n",
              "  .colab-df-quickchart-complete:disabled,\n",
              "  .colab-df-quickchart-complete:disabled:hover {\n",
              "    background-color: var(--disabled-bg-color);\n",
              "    fill: var(--disabled-fill-color);\n",
              "    box-shadow: none;\n",
              "  }\n",
              "\n",
              "  .colab-df-spinner {\n",
              "    border: 2px solid var(--fill-color);\n",
              "    border-color: transparent;\n",
              "    border-bottom-color: var(--fill-color);\n",
              "    animation:\n",
              "      spin 1s steps(1) infinite;\n",
              "  }\n",
              "\n",
              "  @keyframes spin {\n",
              "    0% {\n",
              "      border-color: transparent;\n",
              "      border-bottom-color: var(--fill-color);\n",
              "      border-left-color: var(--fill-color);\n",
              "    }\n",
              "    20% {\n",
              "      border-color: transparent;\n",
              "      border-left-color: var(--fill-color);\n",
              "      border-top-color: var(--fill-color);\n",
              "    }\n",
              "    30% {\n",
              "      border-color: transparent;\n",
              "      border-left-color: var(--fill-color);\n",
              "      border-top-color: var(--fill-color);\n",
              "      border-right-color: var(--fill-color);\n",
              "    }\n",
              "    40% {\n",
              "      border-color: transparent;\n",
              "      border-right-color: var(--fill-color);\n",
              "      border-top-color: var(--fill-color);\n",
              "    }\n",
              "    60% {\n",
              "      border-color: transparent;\n",
              "      border-right-color: var(--fill-color);\n",
              "    }\n",
              "    80% {\n",
              "      border-color: transparent;\n",
              "      border-right-color: var(--fill-color);\n",
              "      border-bottom-color: var(--fill-color);\n",
              "    }\n",
              "    90% {\n",
              "      border-color: transparent;\n",
              "      border-bottom-color: var(--fill-color);\n",
              "    }\n",
              "  }\n",
              "</style>\n",
              "\n",
              "  <script>\n",
              "    async function quickchart(key) {\n",
              "      const quickchartButtonEl =\n",
              "        document.querySelector('#' + key + ' button');\n",
              "      quickchartButtonEl.disabled = true;  // To prevent multiple clicks.\n",
              "      quickchartButtonEl.classList.add('colab-df-spinner');\n",
              "      try {\n",
              "        const charts = await google.colab.kernel.invokeFunction(\n",
              "            'suggestCharts', [key], {});\n",
              "      } catch (error) {\n",
              "        console.error('Error during call to suggestCharts:', error);\n",
              "      }\n",
              "      quickchartButtonEl.classList.remove('colab-df-spinner');\n",
              "      quickchartButtonEl.classList.add('colab-df-quickchart-complete');\n",
              "    }\n",
              "    (() => {\n",
              "      let quickchartButtonEl =\n",
              "        document.querySelector('#df-b793c001-a6d8-482f-b178-3f9ff5573654 button');\n",
              "      quickchartButtonEl.style.display =\n",
              "        google.colab.kernel.accessAllowed ? 'block' : 'none';\n",
              "    })();\n",
              "  </script>\n",
              "</div>\n",
              "    </div>\n",
              "  </div>\n"
            ]
          },
          "metadata": {},
          "execution_count": 20
        }
      ]
    },
    {
      "cell_type": "code",
      "source": [
        "data.dtypes"
      ],
      "metadata": {
        "colab": {
          "base_uri": "https://localhost:8080/"
        },
        "id": "F7HDUtv3TX30",
        "outputId": "a504ee32-870c-4d2f-835e-ec54ac9c458e"
      },
      "execution_count": null,
      "outputs": [
        {
          "output_type": "execute_result",
          "data": {
            "text/plain": [
              "SERVICIO       float64\n",
              "SUSCRIPC        object\n",
              "CATE            object\n",
              "SUBC            object\n",
              "BARRIO          object\n",
              "DESCRIPCION     object\n",
              "CUENTAS         object\n",
              "SALDO          float64\n",
              "V.CUENTA       float64\n",
              "V.IVA          float64\n",
              "FECH INST       object\n",
              "dtype: object"
            ]
          },
          "metadata": {},
          "execution_count": 22
        }
      ]
    },
    {
      "cell_type": "code",
      "source": [
        "data['V.CUENTA'] = data['V.CUENTA'].str.replace(',', '').astype(float)\n",
        "data['SALDO'] = data['SALDO'].str.replace(',', '').astype(float)\n",
        "data['V.IVA'] = data['V.IVA'].str.replace(',', '').astype(float)"
      ],
      "metadata": {
        "id": "4Lrah7z5CBtO"
      },
      "execution_count": null,
      "outputs": []
    },
    {
      "cell_type": "markdown",
      "source": [],
      "metadata": {
        "id": "nkC7qNehTdxG"
      }
    }
  ]
}