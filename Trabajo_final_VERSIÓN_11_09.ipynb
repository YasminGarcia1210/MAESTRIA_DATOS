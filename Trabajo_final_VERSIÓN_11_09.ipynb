{
  "cells": [
    {
      "cell_type": "markdown",
      "metadata": {
        "id": "view-in-github",
        "colab_type": "text"
      },
      "source": [
        "<a href=\"https://colab.research.google.com/github/YasminGarcia1210/MAESTRIA_DATOS/blob/main/Trabajo_final_VERSI%C3%93N_11_09.ipynb\" target=\"_parent\"><img src=\"https://colab.research.google.com/assets/colab-badge.svg\" alt=\"Open In Colab\"/></a>"
      ]
    },
    {
      "cell_type": "markdown",
      "source": [
        "<img src=http://www.acofi.edu.co/eiei2016/wp-content/uploads/2016/09/Logo-Universidad-ICESI.jpg width=\"200\" height=\"200\" align=\"center\">\n",
        "\n",
        "#**<big><big>Análisis Exploratorio de datos</big></big><br><small> Facultad de Ingeniería</small><br><small>Trabajo Final </small>**\n",
        "\n",
        "### Yasmin Johanna García\n",
        "### Javier Ricardo Muñoz\n",
        "### Yesid Montaño Cuero"
      ],
      "metadata": {
        "id": "046oGIcomt-H"
      }
    },
    {
      "cell_type": "markdown",
      "source": [
        "# TRABAJO FINAL\n",
        "\n",
        "La exploración y análisis de datos desempeñan un papel fundamental en la comprensión y el aprovechamiento de la información contenida en conjuntos de datos empresariales. En el presente trabajo final, nos sumergimos en el apasionante mundo del análisis exploratorio de datos aplicado a una base de datos de la empresa EMTEL. EMTEL, una destacada empresa en su sector, nos brinda una valiosa oportunidad para explorar, comprender y extraer conocimientos cruciales a partir de su rica fuente de datos.\n",
        "\n",
        "El análisis exploratorio de datos no solo es una herramienta poderosa para revelar patrones, tendencias y oportunidades ocultas, sino que también desempeña un papel fundamental en la toma de decisiones informadas y estratégicas. A lo largo de este trabajo, abordaremos de manera exhaustiva y sistemática la exploración de la base de datos de EMTEL, utilizando técnicas estadísticas, visualización de datos y métodos analíticos avanzados. Nuestro objetivo es proporcionar una visión integral de la información contenida en esta base de datos, identificar áreas de interés y generar insights que puedan guiar la toma de decisiones de manera más precisa y fundamentada"
      ],
      "metadata": {
        "id": "HrzrAXdP68X8"
      }
    },
    {
      "cell_type": "code",
      "execution_count": null,
      "metadata": {
        "id": "wnlXymQI2Kav"
      },
      "outputs": [],
      "source": [
        "import pandas as pd\n",
        "import numpy as np\n",
        "import matplotlib.pyplot as plt\n",
        "import matplotlib\n",
        "import seaborn as sns\n",
        "from sklearn.pipeline import FeatureUnion, Pipeline, make_pipeline\n",
        "from sklearn.compose import ColumnTransformer\n",
        "from sklearn.pipeline import Pipeline\n",
        "from sklearn.preprocessing import FunctionTransformer\n"
      ]
    },
    {
      "cell_type": "code",
      "source": [
        "path_retiros = \"datos_retiros.csv\"\n",
        "path_reportes = \"datos_reportes.csv\"\n",
        "path_peticiones = \"datos_peticiones.csv\"\n",
        "path_servicios_activos = \"datos_servicios_activos.csv\""
      ],
      "metadata": {
        "id": "w_V9Y-V430QO"
      },
      "execution_count": null,
      "outputs": []
    },
    {
      "cell_type": "code",
      "source": [
        "def generate_dataframe_final(path_retiros,path_reportes,path_peticiones,path_servicios_activos):\n",
        "    db_retiros = pd.read_csv(path_retiros, skiprows=6, delimiter=\";\", encoding=\"latin1\")\n",
        "    db_reportes = pd.read_csv(path_reportes, skiprows=6,  delimiter=\";\", encoding=\"latin1\")\n",
        "    db_peticiones = pd.read_csv(path_peticiones, skiprows=6,  delimiter=\";\", encoding=\"latin1\")\n",
        "    db_servicios = pd.read_csv(path_servicios_activos, skiprows=8,  delimiter=\";\", encoding=\"latin1\")"
      ],
      "metadata": {
        "id": "vXrTbin34LAj"
      },
      "execution_count": null,
      "outputs": []
    },
    {
      "cell_type": "code",
      "execution_count": null,
      "metadata": {
        "id": "f-ARS-C6y5hw"
      },
      "outputs": [],
      "source": [
        "path_retiros = \"datos_retiros.csv\"\n",
        "path_reportes = \"datos_reportes.csv\"\n",
        "path_peticiones = \"datos_peticiones.csv\"\n",
        "path_servicios_activos = \"datos_servicios_activos.csv\"\n",
        "\n",
        "def generate_dataframe_final(path_retiros,path_reportes,path_peticiones,path_servicios_activos):\n",
        "    db_retiros = pd.read_csv(path_retiros, skiprows=6,delimiter=\";\", encoding=\"latin1\")\n",
        "    db_reportes = pd.read_csv(path_reportes, skiprows=6, delimiter=\";\", encoding=\"latin1\")\n",
        "    db_peticiones = pd.read_csv(path_peticiones, skiprows=6, delimiter=\";\", encoding=\"latin1\")\n",
        "    db_servicios = pd.read_csv(path_servicios_activos, skiprows=8, delimiter=\";\", encoding=\"latin1\")\n",
        "\n",
        "    #Liempieza de datasets\n",
        "\n",
        "    def limpiar_datos(df: pd.DataFrame, columna: str) -> pd.DataFrame:\n",
        "\n",
        "        df[columna] = pd.to_numeric(df[columna], errors='coerce')\n",
        "        df = df.dropna(subset=[columna])\n",
        "        df.reset_index(inplace=True)\n",
        "\n",
        "        return df\n",
        "\n",
        "    #\n",
        "\n",
        "    db_servicios = limpiar_datos(db_servicios, 'SERVICIO')\n",
        "    db_reportes = limpiar_datos(db_reportes, 'SERVICIO')\n",
        "    db_retiros = limpiar_datos(db_retiros, 'SERVICIO')\n",
        "    db_peticiones = limpiar_datos(db_peticiones, 'TEL ASI')\n",
        "\n",
        "    #Eliminación de columnas no relevantes en servicios\n",
        "\n",
        "    db_servicios = db_servicios[['SERVICIO','SUSCRIPC','CATE','SUBC','BARRIO','DESCRIPCION','SALDO','V.CUENTA','FECH INST']].copy()\n",
        "\n",
        "    #Se añaden las columnas adicionales de  db_retiros\n",
        "    def add_date_retiros(df_retiros: pd.DataFrame, df_peticiones: pd.DataFrame ):\n",
        "        fechas_retiros = []\n",
        "        for servicio in df_retiros['SERVICIO']:\n",
        "            row = df_peticiones[df_peticiones['TEL ASI'] == servicio]\n",
        "            if len(row)>0:\n",
        "                valor = row['FECHA'].values[0]\n",
        "            else:\n",
        "                valor = \"Sin fecha\"\n",
        "\n",
        "            fechas_retiros.append(valor)\n",
        "\n",
        "        return fechas_retiros\n",
        "\n",
        "    #Eliminación de nulos de servicios\n",
        "    db_servicios=db_servicios.dropna()\n",
        "    db_servicios = db_servicios.reset_index(drop=True)\n",
        "\n",
        "\n",
        "    db_retiros['FECHA INS'] = add_date_retiros(db_retiros,db_peticiones)\n",
        "\n",
        "    #Se retira retira los clientes sin fecha de petición o creación\n",
        "    db_retiros = db_retiros[db_retiros['FECHA INS'] != \"Sin fecha\"]\n",
        "    #Se filtra aquellos retiros del municipio de popayan\n",
        "    db_retiros = db_retiros[db_retiros['MUPIO'] == '19001']\n",
        "\n",
        "    #Creación de columnas necesarias para concatenación con base de retiros\n",
        "    db_servicios['FECHA CIERRE'] = '31/07/2023'\n",
        "    db_servicios['MOTIVO DE RETIRO'] = 'No aplica'\n",
        "    db_servicios['ABANDONO'] = 0\n",
        "    db_retiros['ABANDONO'] = 1\n",
        "    db_retiros['DESCRIPCION'] = \"Sin descripción\"\n",
        "    db_retiros['V.CUENTA'] = 0\n",
        "\n",
        "\n",
        "    #Ajuste formato de fecha de db_servicios\n",
        "    db_servicios['FECH INST'] = pd.to_datetime(db_servicios['FECH INST'], format='%d/%m/%y')\n",
        "    db_servicios['FECH INST'] = db_servicios['FECH INST'].dt.strftime('%d/%m/%Y')\n",
        "\n",
        "\n",
        "\n",
        "    db_retiros = db_retiros[['SERVICIO','SUSCRIPCION', 'CAT', 'SUB', 'BARRIO', 'DESCRIPCION', 'SALDO', 'V.CUENTA', 'FECHA INS', 'FECHA', 'MOTIVO', 'ABANDONO']].copy()\n",
        "\n",
        "    #Se renombran conlumnas para concatenar dataframes\n",
        "    db_retiros.rename(columns={'SUSCRIPCION':'SUSCRIPC', 'CAT':'CATE', 'SUB':'SUBC', 'BARRIO':'BARRIO', 'DESCRIPCION':'DESCRIPCION', 'SALDO':'SALDO', 'V.CUENTA':'V.CUENTA', 'FECHA INS':'FECH INST', 'FECHA':'FECHA CIERRE','MOTIVO':'MOTIVO DE RETIRO', 'ABANDONO':'ABANDONO'}, inplace=True)\n",
        "\n",
        "    #Concatenar dataframes\n",
        "    df = pd.concat([db_servicios,db_retiros], axis = 0)\n",
        "\n",
        "    #Agregar dias de vigencia del servicio\n",
        "    df['Dias de vigencia del servicio'] = (pd.to_datetime(df['FECHA CIERRE'], format='%d/%m/%Y') - pd.to_datetime(df['FECH INST'], format='%d/%m/%Y'))\n",
        "    df['Dias de vigencia del servicio'] = df['Dias de vigencia del servicio'].astype('timedelta64[D]')\n",
        "    df['Dias de vigencia del servicio'] = df['Dias de vigencia del servicio'].astype('timedelta64[D]').apply(lambda x: x / np.timedelta64(1, 'D'))\n",
        "    df['Dias de vigencia del servicio'] = df['Dias de vigencia del servicio'].astype('int')\n",
        "\n",
        "    #Agregar cantidad de reportes\n",
        "    def add_cantidad_reportes(df_servicio: pd.Series, df_reportes: pd.DataFrame) -> tuple:\n",
        "        cantidad_reportes = []\n",
        "\n",
        "        for servicio in df_servicio:\n",
        "            cantidad = len(df_reportes[df_reportes['SERVICIO'] == servicio])\n",
        "            cantidad_reportes.append(cantidad)\n",
        "        return cantidad_reportes\n",
        "\n",
        "    df['Cantidad de reportes'] = add_cantidad_reportes(df['SERVICIO'], db_reportes)\n",
        "    df.reset_index()\n",
        "    return df"
      ]
    },
    {
      "cell_type": "code",
      "source": [
        "data=generate_dataframe_final(path_retiros,path_reportes,path_peticiones,path_servicios_activos)"
      ],
      "metadata": {
        "id": "8mvAng8E4p0J"
      },
      "execution_count": null,
      "outputs": []
    },
    {
      "cell_type": "markdown",
      "source": [
        "### 1. CONTEXTO"
      ],
      "metadata": {
        "id": "p0-sTeeu7Dv5"
      }
    },
    {
      "cell_type": "markdown",
      "source": [
        "\n",
        "<img src=https://www.emtel.com.co/themes/emtel/resources/img/logo.png width=\"150\" height=\"150\" align=\"center\">\n",
        "\n",
        "EMTEL S.A. E.S.P. es una empresa de telecomunicaciones que opera en la ciudad de Popayán, Colombia, brindando una amplia gama de servicios que incluyen telefonía fija, acceso a Internet de alta velocidad, servicios de televisión por cable y otros servicios relacionados. La misión de la empresa es proporcionar conectividad confiable y servicios de comunicación avanzados tanto para hogares como para empresas y organizaciones en la región de Popayán.\n",
        "\n",
        "La empresa se enfrenta a la competencia de otras compañías de telecomunicaciones, tanto a nivel local como nacional, lo que implica la necesidad de diferenciarse mediante precios competitivos y la oferta de servicios de alta calidad. Para lograrlo, EMTEL se compromete a garantizar una infraestructura de red robusta y de alta capacidad que pueda hacer frente a la creciente demanda de datos y comunicaciones en una ciudad en constante desarrollo. Esto, sin embargo, puede presentar desafíos en términos de inversión y logística, especialmente para asegurar una amplia cobertura geográfica, incluyendo áreas rurales y remotas.\n",
        "\n",
        "Además, debe cumplir con las regulaciones gubernamentales y normativas en el sector de las telecomunicaciones, lo que puede tener un impacto en los servicios ofrecidos y las tarifas.\n",
        "\n",
        "La experiencia del cliente es una prioridad para EMTEL, desde la adquisición de servicios hasta el soporte continuo. Esto es fundamental para mantener la lealtad del cliente en un mercado competitivo.\n",
        "\n",
        "EMTEL compite tanto con empresas locales, como \"Dobleclick- Conectic e ISP no formales\", como con empresas nacionales como \"Claro-Movistar-Tigo Une\". La diferenciación a través de la calidad del servicio, la innovación y una experiencia del cliente excepcional es crucial en este contexto.\n",
        "\n",
        "En resumen, EMTEL S.A. E.S.P. se encuentra en un mercado dinámico de telecomunicaciones en Popayán, donde enfrenta desafíos y oportunidades. La aplicación estratégica de la ciencia de datos puede ayudar a la empresa a tomar decisiones informadas y desarrollar estrategias efectivas para mejorar la retención de clientes en los próximos 12 meses. La pregunta SMART propuesta se centra en cómo utilizar el análisis de datos de comportamiento y preferencias de los clientes para identificar patrones que puedan ayudar a reducir la pérdida de clientes (churn) al 1.5% para el próximo año."
      ],
      "metadata": {
        "id": "IPOlemwq7IwD"
      }
    },
    {
      "cell_type": "markdown",
      "source": [
        "## 2. DESCRIPCIÓN DE VARIABLES"
      ],
      "metadata": {
        "id": "lrEf_WEpJmkh"
      }
    },
    {
      "cell_type": "markdown",
      "source": [
        "\n",
        "\n",
        "Para llevar a cabo el análisis de este trabajo, disponemos de varios informes generados desde la base de datos, los cuales se encuentran divididos en tres archivos distintos:\n",
        "1.\tEl primer archivo contiene información sobre los servicios activos en el momento de la extracción de datos.\n",
        "2.\tEl segundo archivo alberga los informes de las solicitudes de mantenimiento desde el año 2015 hasta la fecha actual.\n",
        "3.\tEl tercer archivo registra los retiros de los servicios desde el año 2015.\n",
        "Cada uno de estos archivos contiene una variedad de datos que son fundamentales para llevar a cabo el análisis requerido.\n",
        "Para facilitar la manipulación y análisis de estos datos, hemos creado un único archivo consolidado que combina la información de los tres archivos mencionados. Este archivo consolidado se encuentra almacenado en un DataFrame llamado \"df_final.\" En total, este DataFrame definitivo consta de 14 columnas, cada una con un propósito específico:\n",
        "\n",
        "1.\tServicio: Esta variable identifica de manera única cada servicio en la base de datos. Cada identificador consta de 7 dígitos. Es importante mencionar que esta variable es de naturaleza cualitativa nominal.\n",
        "2.\tSuscripción: Representa el número de registro del usuario. Es una variable cualitativa ordinal.\n",
        "3.\tCategoría: Indica la categoría a la que pertenece cada servicio. Cada categoría se representa mediante una variable cualitativa nominal para los servicios de Internet, Televisión, Telefonía, Dedicados, PBX.\n",
        "4.\tSubcategoría: Esta variable refleja el estrato socioeconómico en el que se adquirió el servicio con valores desde el 1 al 7, donde los valores del 7 representa servicios comerciales. Fue necesario normalizar esta variable debido a diferentes tipos de codificación. Es una variable cualitativa ordinal.\n",
        "5.\tBarrio: Indica el lugar geográfico donde se instaló el servicio. Es una variable cualitativa nominal.\n",
        "6.\tDescripción: Corresponde al plan contratado para cada servicio. Es una variable cualitativa nominal.\n",
        "7.\tSaldo: Representa el saldo pendiente de pago y es una variable cuantitativa continua.\n",
        "8.\tV. Cuenta: Indica el valor a pagar por el servicio en cada período de facturación. Es una variable cuantitativa continua.\n",
        "9.\tFecha Instalación: Esta variable es cualitativa ordinal y refleja la fecha en la que se instaló cada servicio.\n",
        "10.\tFecha de Cierre: Esta variable e cualitativa ordinal y representa la fecha en que se realizó la solicitud de retiro de un servicio.\n",
        "11.\tMotivo de retiro: Esta variable es cualitativa nominal representa el motivo por el cual se realiza la solicitud del retiro.\n",
        "12.\tAbandono: Esta variable es cualitativa nominal, toma solo dos valores que detallan si el servicio se encuentra activo o se ha retirado.\n",
        "13.\t Vigencia del servicio: Esta variable es cuantitativa discreta, toma el valor correspondiente a los días que tiene un servicio desde la fecha de instalación hasta la fecha del retiro o hasta la fecha actual si el servicio no ha sido retirado.\n",
        "14.\tCantidad de reportes: Esta variable representa la acumulación de reportes desde el momento\n",
        "Estas columnas proporcionan la información clave necesaria para realizar un análisis exhaustivo de los datos recopilados."
      ],
      "metadata": {
        "id": "xOdoS2yrHjJa"
      }
    },
    {
      "cell_type": "markdown",
      "source": [
        "##  3. ANÁLISIS EXPLORATORIO"
      ],
      "metadata": {
        "id": "FBkFyQ7w8_YM"
      }
    },
    {
      "cell_type": "markdown",
      "source": [
        "### 3.1 ANÁLISIS DESCRIPTIVO"
      ],
      "metadata": {
        "id": "1um9TtEg9PjW"
      }
    },
    {
      "cell_type": "markdown",
      "source": [
        "#### 3.1.1 TAMAÑO DE LA DATA"
      ],
      "metadata": {
        "id": "jwOIYPLh9U0A"
      }
    },
    {
      "cell_type": "code",
      "source": [
        "data. shape"
      ],
      "metadata": {
        "id": "b_JKdhMU5R_u",
        "colab": {
          "base_uri": "https://localhost:8080/"
        },
        "outputId": "d3bf5bea-ba50-453b-8a5b-56f4fd947a6c"
      },
      "execution_count": null,
      "outputs": [
        {
          "output_type": "execute_result",
          "data": {
            "text/plain": [
              "(34881, 14)"
            ]
          },
          "metadata": {},
          "execution_count": 12
        }
      ]
    },
    {
      "cell_type": "markdown",
      "source": [
        "La data cuenta con 34881 observaciones y 15 columnas"
      ],
      "metadata": {
        "id": "X2OS-5fCAkOt"
      }
    },
    {
      "cell_type": "markdown",
      "source": [
        "#### 3.1.2 Datos Nan y Null"
      ],
      "metadata": {
        "id": "_IkKqeHP9rby"
      }
    },
    {
      "cell_type": "code",
      "source": [
        "data.isna().sum()"
      ],
      "metadata": {
        "id": "oEXp4wwX9ify",
        "colab": {
          "base_uri": "https://localhost:8080/"
        },
        "outputId": "b1f8dbd7-b682-406a-dadc-84c1a661f47f"
      },
      "execution_count": null,
      "outputs": [
        {
          "output_type": "execute_result",
          "data": {
            "text/plain": [
              "SERVICIO                         0\n",
              "SUSCRIPC                         0\n",
              "CATE                             0\n",
              "SUBC                             0\n",
              "BARRIO                           1\n",
              "DESCRIPCION                      0\n",
              "SALDO                            0\n",
              "V.CUENTA                         0\n",
              "FECH INST                        0\n",
              "FECHA CIERRE                     0\n",
              "MOTIVO DE RETIRO                 0\n",
              "ABANDONO                         0\n",
              "Dias de vigencia del servicio    0\n",
              "Cantidad de reportes             0\n",
              "dtype: int64"
            ]
          },
          "metadata": {},
          "execution_count": 13
        }
      ]
    },
    {
      "cell_type": "code",
      "source": [
        "data.isnull().sum()"
      ],
      "metadata": {
        "id": "SGX-GjSl-knV",
        "colab": {
          "base_uri": "https://localhost:8080/"
        },
        "outputId": "e9c122e0-b16e-42a6-f00f-ac4ec16a2be0"
      },
      "execution_count": null,
      "outputs": [
        {
          "output_type": "execute_result",
          "data": {
            "text/plain": [
              "SERVICIO                         0\n",
              "SUSCRIPC                         0\n",
              "CATE                             0\n",
              "SUBC                             0\n",
              "BARRIO                           1\n",
              "DESCRIPCION                      0\n",
              "SALDO                            0\n",
              "V.CUENTA                         0\n",
              "FECH INST                        0\n",
              "FECHA CIERRE                     0\n",
              "MOTIVO DE RETIRO                 0\n",
              "ABANDONO                         0\n",
              "Dias de vigencia del servicio    0\n",
              "Cantidad de reportes             0\n",
              "dtype: int64"
            ]
          },
          "metadata": {},
          "execution_count": 14
        }
      ]
    },
    {
      "cell_type": "markdown",
      "source": [
        "Podemos observar que los datos Nan y Null coinciden en las columnas, por lo que tomamos la decisión de borrar los datos Nan=Nul\n",
        "\n",
        "Teniamos en el campo fecha de instalación NAN en 5 registros, por lo que se decidió eliminarlas\n"
      ],
      "metadata": {
        "id": "IlMOt0jo-rQE"
      }
    },
    {
      "cell_type": "markdown",
      "source": [
        "### 3.2 ANÁLISIS DE VARIABLES"
      ],
      "metadata": {
        "id": "FYN_8fOJCqvN"
      }
    },
    {
      "cell_type": "code",
      "source": [
        "data.head(3)"
      ],
      "metadata": {
        "id": "QUd3FS6UDZBP",
        "colab": {
          "base_uri": "https://localhost:8080/",
          "height": 299
        },
        "outputId": "4d1bd1cd-fd8a-4f87-c1b1-e46a30fad2a2"
      },
      "execution_count": null,
      "outputs": [
        {
          "output_type": "execute_result",
          "data": {
            "text/plain": [
              "    SERVICIO SUSCRIPC CATE SUBC                  BARRIO  \\\n",
              "0  7722586.0    98949    8    4                  MODELO   \n",
              "1  7722926.0    97182    8    3  ROSALES DE LA HACIENDA   \n",
              "2  7722134.0    45015    8    7                  CENTRO   \n",
              "\n",
              "                  DESCRIPCION SALDO    V.CUENTA   FECH INST FECHA CIERRE  \\\n",
              "0  TRIPLE GPON 40 MB OCT-2022  0.00   55,010.00  31/10/2010   31/07/2023   \n",
              "1   TRIPLE GPON 160 MB SEP-21  0.00  127,390.00  28/12/2016   31/07/2023   \n",
              "2   INTERNET GPON 15 MB JUN21  0.00   71,390.00  22/07/2021   31/07/2023   \n",
              "\n",
              "  MOTIVO DE RETIRO  ABANDONO  Dias de vigencia del servicio  \\\n",
              "0        No aplica         0                           4656   \n",
              "1        No aplica         0                           2406   \n",
              "2        No aplica         0                            739   \n",
              "\n",
              "   Cantidad de reportes  \n",
              "0                     0  \n",
              "1                     0  \n",
              "2                     0  "
            ],
            "text/html": [
              "\n",
              "  <div id=\"df-571ae1ed-4438-46ba-9ac2-e5682acc6a38\" class=\"colab-df-container\">\n",
              "    <div>\n",
              "<style scoped>\n",
              "    .dataframe tbody tr th:only-of-type {\n",
              "        vertical-align: middle;\n",
              "    }\n",
              "\n",
              "    .dataframe tbody tr th {\n",
              "        vertical-align: top;\n",
              "    }\n",
              "\n",
              "    .dataframe thead th {\n",
              "        text-align: right;\n",
              "    }\n",
              "</style>\n",
              "<table border=\"1\" class=\"dataframe\">\n",
              "  <thead>\n",
              "    <tr style=\"text-align: right;\">\n",
              "      <th></th>\n",
              "      <th>SERVICIO</th>\n",
              "      <th>SUSCRIPC</th>\n",
              "      <th>CATE</th>\n",
              "      <th>SUBC</th>\n",
              "      <th>BARRIO</th>\n",
              "      <th>DESCRIPCION</th>\n",
              "      <th>SALDO</th>\n",
              "      <th>V.CUENTA</th>\n",
              "      <th>FECH INST</th>\n",
              "      <th>FECHA CIERRE</th>\n",
              "      <th>MOTIVO DE RETIRO</th>\n",
              "      <th>ABANDONO</th>\n",
              "      <th>Dias de vigencia del servicio</th>\n",
              "      <th>Cantidad de reportes</th>\n",
              "    </tr>\n",
              "  </thead>\n",
              "  <tbody>\n",
              "    <tr>\n",
              "      <th>0</th>\n",
              "      <td>7722586.0</td>\n",
              "      <td>98949</td>\n",
              "      <td>8</td>\n",
              "      <td>4</td>\n",
              "      <td>MODELO</td>\n",
              "      <td>TRIPLE GPON 40 MB OCT-2022</td>\n",
              "      <td>0.00</td>\n",
              "      <td>55,010.00</td>\n",
              "      <td>31/10/2010</td>\n",
              "      <td>31/07/2023</td>\n",
              "      <td>No aplica</td>\n",
              "      <td>0</td>\n",
              "      <td>4656</td>\n",
              "      <td>0</td>\n",
              "    </tr>\n",
              "    <tr>\n",
              "      <th>1</th>\n",
              "      <td>7722926.0</td>\n",
              "      <td>97182</td>\n",
              "      <td>8</td>\n",
              "      <td>3</td>\n",
              "      <td>ROSALES DE LA HACIENDA</td>\n",
              "      <td>TRIPLE GPON 160 MB SEP-21</td>\n",
              "      <td>0.00</td>\n",
              "      <td>127,390.00</td>\n",
              "      <td>28/12/2016</td>\n",
              "      <td>31/07/2023</td>\n",
              "      <td>No aplica</td>\n",
              "      <td>0</td>\n",
              "      <td>2406</td>\n",
              "      <td>0</td>\n",
              "    </tr>\n",
              "    <tr>\n",
              "      <th>2</th>\n",
              "      <td>7722134.0</td>\n",
              "      <td>45015</td>\n",
              "      <td>8</td>\n",
              "      <td>7</td>\n",
              "      <td>CENTRO</td>\n",
              "      <td>INTERNET GPON 15 MB JUN21</td>\n",
              "      <td>0.00</td>\n",
              "      <td>71,390.00</td>\n",
              "      <td>22/07/2021</td>\n",
              "      <td>31/07/2023</td>\n",
              "      <td>No aplica</td>\n",
              "      <td>0</td>\n",
              "      <td>739</td>\n",
              "      <td>0</td>\n",
              "    </tr>\n",
              "  </tbody>\n",
              "</table>\n",
              "</div>\n",
              "    <div class=\"colab-df-buttons\">\n",
              "\n",
              "  <div class=\"colab-df-container\">\n",
              "    <button class=\"colab-df-convert\" onclick=\"convertToInteractive('df-571ae1ed-4438-46ba-9ac2-e5682acc6a38')\"\n",
              "            title=\"Convert this dataframe to an interactive table.\"\n",
              "            style=\"display:none;\">\n",
              "\n",
              "  <svg xmlns=\"http://www.w3.org/2000/svg\" height=\"24px\" viewBox=\"0 -960 960 960\">\n",
              "    <path d=\"M120-120v-720h720v720H120Zm60-500h600v-160H180v160Zm220 220h160v-160H400v160Zm0 220h160v-160H400v160ZM180-400h160v-160H180v160Zm440 0h160v-160H620v160ZM180-180h160v-160H180v160Zm440 0h160v-160H620v160Z\"/>\n",
              "  </svg>\n",
              "    </button>\n",
              "\n",
              "  <style>\n",
              "    .colab-df-container {\n",
              "      display:flex;\n",
              "      gap: 12px;\n",
              "    }\n",
              "\n",
              "    .colab-df-convert {\n",
              "      background-color: #E8F0FE;\n",
              "      border: none;\n",
              "      border-radius: 50%;\n",
              "      cursor: pointer;\n",
              "      display: none;\n",
              "      fill: #1967D2;\n",
              "      height: 32px;\n",
              "      padding: 0 0 0 0;\n",
              "      width: 32px;\n",
              "    }\n",
              "\n",
              "    .colab-df-convert:hover {\n",
              "      background-color: #E2EBFA;\n",
              "      box-shadow: 0px 1px 2px rgba(60, 64, 67, 0.3), 0px 1px 3px 1px rgba(60, 64, 67, 0.15);\n",
              "      fill: #174EA6;\n",
              "    }\n",
              "\n",
              "    .colab-df-buttons div {\n",
              "      margin-bottom: 4px;\n",
              "    }\n",
              "\n",
              "    [theme=dark] .colab-df-convert {\n",
              "      background-color: #3B4455;\n",
              "      fill: #D2E3FC;\n",
              "    }\n",
              "\n",
              "    [theme=dark] .colab-df-convert:hover {\n",
              "      background-color: #434B5C;\n",
              "      box-shadow: 0px 1px 3px 1px rgba(0, 0, 0, 0.15);\n",
              "      filter: drop-shadow(0px 1px 2px rgba(0, 0, 0, 0.3));\n",
              "      fill: #FFFFFF;\n",
              "    }\n",
              "  </style>\n",
              "\n",
              "    <script>\n",
              "      const buttonEl =\n",
              "        document.querySelector('#df-571ae1ed-4438-46ba-9ac2-e5682acc6a38 button.colab-df-convert');\n",
              "      buttonEl.style.display =\n",
              "        google.colab.kernel.accessAllowed ? 'block' : 'none';\n",
              "\n",
              "      async function convertToInteractive(key) {\n",
              "        const element = document.querySelector('#df-571ae1ed-4438-46ba-9ac2-e5682acc6a38');\n",
              "        const dataTable =\n",
              "          await google.colab.kernel.invokeFunction('convertToInteractive',\n",
              "                                                    [key], {});\n",
              "        if (!dataTable) return;\n",
              "\n",
              "        const docLinkHtml = 'Like what you see? Visit the ' +\n",
              "          '<a target=\"_blank\" href=https://colab.research.google.com/notebooks/data_table.ipynb>data table notebook</a>'\n",
              "          + ' to learn more about interactive tables.';\n",
              "        element.innerHTML = '';\n",
              "        dataTable['output_type'] = 'display_data';\n",
              "        await google.colab.output.renderOutput(dataTable, element);\n",
              "        const docLink = document.createElement('div');\n",
              "        docLink.innerHTML = docLinkHtml;\n",
              "        element.appendChild(docLink);\n",
              "      }\n",
              "    </script>\n",
              "  </div>\n",
              "\n",
              "\n",
              "<div id=\"df-680352a0-597a-4cbb-a605-be790cb7101c\">\n",
              "  <button class=\"colab-df-quickchart\" onclick=\"quickchart('df-680352a0-597a-4cbb-a605-be790cb7101c')\"\n",
              "            title=\"Suggest charts.\"\n",
              "            style=\"display:none;\">\n",
              "\n",
              "<svg xmlns=\"http://www.w3.org/2000/svg\" height=\"24px\"viewBox=\"0 0 24 24\"\n",
              "     width=\"24px\">\n",
              "    <g>\n",
              "        <path d=\"M19 3H5c-1.1 0-2 .9-2 2v14c0 1.1.9 2 2 2h14c1.1 0 2-.9 2-2V5c0-1.1-.9-2-2-2zM9 17H7v-7h2v7zm4 0h-2V7h2v10zm4 0h-2v-4h2v4z\"/>\n",
              "    </g>\n",
              "</svg>\n",
              "  </button>\n",
              "\n",
              "<style>\n",
              "  .colab-df-quickchart {\n",
              "      --bg-color: #E8F0FE;\n",
              "      --fill-color: #1967D2;\n",
              "      --hover-bg-color: #E2EBFA;\n",
              "      --hover-fill-color: #174EA6;\n",
              "      --disabled-fill-color: #AAA;\n",
              "      --disabled-bg-color: #DDD;\n",
              "  }\n",
              "\n",
              "  [theme=dark] .colab-df-quickchart {\n",
              "      --bg-color: #3B4455;\n",
              "      --fill-color: #D2E3FC;\n",
              "      --hover-bg-color: #434B5C;\n",
              "      --hover-fill-color: #FFFFFF;\n",
              "      --disabled-bg-color: #3B4455;\n",
              "      --disabled-fill-color: #666;\n",
              "  }\n",
              "\n",
              "  .colab-df-quickchart {\n",
              "    background-color: var(--bg-color);\n",
              "    border: none;\n",
              "    border-radius: 50%;\n",
              "    cursor: pointer;\n",
              "    display: none;\n",
              "    fill: var(--fill-color);\n",
              "    height: 32px;\n",
              "    padding: 0;\n",
              "    width: 32px;\n",
              "  }\n",
              "\n",
              "  .colab-df-quickchart:hover {\n",
              "    background-color: var(--hover-bg-color);\n",
              "    box-shadow: 0 1px 2px rgba(60, 64, 67, 0.3), 0 1px 3px 1px rgba(60, 64, 67, 0.15);\n",
              "    fill: var(--button-hover-fill-color);\n",
              "  }\n",
              "\n",
              "  .colab-df-quickchart-complete:disabled,\n",
              "  .colab-df-quickchart-complete:disabled:hover {\n",
              "    background-color: var(--disabled-bg-color);\n",
              "    fill: var(--disabled-fill-color);\n",
              "    box-shadow: none;\n",
              "  }\n",
              "\n",
              "  .colab-df-spinner {\n",
              "    border: 2px solid var(--fill-color);\n",
              "    border-color: transparent;\n",
              "    border-bottom-color: var(--fill-color);\n",
              "    animation:\n",
              "      spin 1s steps(1) infinite;\n",
              "  }\n",
              "\n",
              "  @keyframes spin {\n",
              "    0% {\n",
              "      border-color: transparent;\n",
              "      border-bottom-color: var(--fill-color);\n",
              "      border-left-color: var(--fill-color);\n",
              "    }\n",
              "    20% {\n",
              "      border-color: transparent;\n",
              "      border-left-color: var(--fill-color);\n",
              "      border-top-color: var(--fill-color);\n",
              "    }\n",
              "    30% {\n",
              "      border-color: transparent;\n",
              "      border-left-color: var(--fill-color);\n",
              "      border-top-color: var(--fill-color);\n",
              "      border-right-color: var(--fill-color);\n",
              "    }\n",
              "    40% {\n",
              "      border-color: transparent;\n",
              "      border-right-color: var(--fill-color);\n",
              "      border-top-color: var(--fill-color);\n",
              "    }\n",
              "    60% {\n",
              "      border-color: transparent;\n",
              "      border-right-color: var(--fill-color);\n",
              "    }\n",
              "    80% {\n",
              "      border-color: transparent;\n",
              "      border-right-color: var(--fill-color);\n",
              "      border-bottom-color: var(--fill-color);\n",
              "    }\n",
              "    90% {\n",
              "      border-color: transparent;\n",
              "      border-bottom-color: var(--fill-color);\n",
              "    }\n",
              "  }\n",
              "</style>\n",
              "\n",
              "  <script>\n",
              "    async function quickchart(key) {\n",
              "      const quickchartButtonEl =\n",
              "        document.querySelector('#' + key + ' button');\n",
              "      quickchartButtonEl.disabled = true;  // To prevent multiple clicks.\n",
              "      quickchartButtonEl.classList.add('colab-df-spinner');\n",
              "      try {\n",
              "        const charts = await google.colab.kernel.invokeFunction(\n",
              "            'suggestCharts', [key], {});\n",
              "      } catch (error) {\n",
              "        console.error('Error during call to suggestCharts:', error);\n",
              "      }\n",
              "      quickchartButtonEl.classList.remove('colab-df-spinner');\n",
              "      quickchartButtonEl.classList.add('colab-df-quickchart-complete');\n",
              "    }\n",
              "    (() => {\n",
              "      let quickchartButtonEl =\n",
              "        document.querySelector('#df-680352a0-597a-4cbb-a605-be790cb7101c button');\n",
              "      quickchartButtonEl.style.display =\n",
              "        google.colab.kernel.accessAllowed ? 'block' : 'none';\n",
              "    })();\n",
              "  </script>\n",
              "</div>\n",
              "    </div>\n",
              "  </div>\n"
            ]
          },
          "metadata": {},
          "execution_count": 15
        }
      ]
    },
    {
      "cell_type": "markdown",
      "source": [
        "#### 3.2.1 ANÁLISIS DE VARIABLES DE CATEGORICAS"
      ],
      "metadata": {
        "id": "AT8E3x9bC3fX"
      }
    },
    {
      "cell_type": "markdown",
      "source": [
        "Las Variables Categóricas de nuestra Data son las columnas\n",
        "\n",
        "SERVICIO, SUSCRIPC, CATE, SUBC, BARRIO, DESCRIPCIÓN, MOTIVO DE RETIRO\n",
        "\n",
        "Se Harán el análisis de algunas de las Variables que son de nuestroe special interes"
      ],
      "metadata": {
        "id": "bJa4oInLpPCc"
      }
    },
    {
      "cell_type": "code",
      "source": [
        "data.dtypes"
      ],
      "metadata": {
        "id": "ikcMM1el-nqT",
        "colab": {
          "base_uri": "https://localhost:8080/"
        },
        "outputId": "ef13a3ea-e1d6-4e9e-bf39-532480e0e7a5"
      },
      "execution_count": null,
      "outputs": [
        {
          "output_type": "execute_result",
          "data": {
            "text/plain": [
              "SERVICIO                         float64\n",
              "SUSCRIPC                          object\n",
              "CATE                              object\n",
              "SUBC                              object\n",
              "BARRIO                            object\n",
              "DESCRIPCION                       object\n",
              "SALDO                             object\n",
              "V.CUENTA                          object\n",
              "FECH INST                         object\n",
              "FECHA CIERRE                      object\n",
              "MOTIVO DE RETIRO                  object\n",
              "ABANDONO                           int64\n",
              "Dias de vigencia del servicio      int64\n",
              "Cantidad de reportes               int64\n",
              "dtype: object"
            ]
          },
          "metadata": {},
          "execution_count": 17
        }
      ]
    },
    {
      "cell_type": "markdown",
      "source": [
        "#### 3.2.1.1 Tratamiento a la Variable Categorica: CATE\n",
        "Esta categoria CATE será renombrada CATEGORIA\n"
      ],
      "metadata": {
        "id": "ZlzTS0fuDplW"
      }
    },
    {
      "cell_type": "code",
      "source": [
        "# Reemplazar los valores en 'columna_a_modificar' para las filas seleccionadas\n",
        "data.loc[data['CATE'] == '2', 'SUBC'] = '7'\n",
        "data.loc[data['CATE'] == '5', 'SUBC'] = '7'\n",
        "data.loc[data['CATE'] == '10', 'SUBC'] = '7'\n",
        "data.loc[data['CATE'] == '2', 'CATE'] = '3'"
      ],
      "metadata": {
        "id": "9XkB2BGM_5Lq"
      },
      "execution_count": null,
      "outputs": []
    },
    {
      "cell_type": "code",
      "source": [
        "data = data.dropna(subset=['SUBC'])\n",
        "data['SUBC'] = data['SUBC'].astype(int)\n",
        "\n",
        "data['SUBC'] = data['SUBC'].apply(lambda x: x - 60 if x > 60 else x)\n",
        "data.loc[data['SUBC'] == 8, 'SUBC'] = 7\n",
        "data['SUBC'].unique()\n"
      ],
      "metadata": {
        "id": "u1ffZOgSD47a",
        "colab": {
          "base_uri": "https://localhost:8080/"
        },
        "outputId": "1f7261c7-2657-4480-f533-3ddeffa262d1"
      },
      "execution_count": null,
      "outputs": [
        {
          "output_type": "execute_result",
          "data": {
            "text/plain": [
              "array([ 4,  3,  7,  1,  2,  5,  6, -1])"
            ]
          },
          "metadata": {},
          "execution_count": 19
        }
      ]
    },
    {
      "cell_type": "code",
      "source": [
        "data['SUBC'].unique()"
      ],
      "metadata": {
        "id": "yCWrBEQqEb85",
        "colab": {
          "base_uri": "https://localhost:8080/"
        },
        "outputId": "583559c1-aa1e-4466-b643-d1f04b7c8254"
      },
      "execution_count": null,
      "outputs": [
        {
          "output_type": "execute_result",
          "data": {
            "text/plain": [
              "array([ 4,  3,  7,  1,  2,  5,  6, -1])"
            ]
          },
          "metadata": {},
          "execution_count": 20
        }
      ]
    },
    {
      "cell_type": "code",
      "source": [
        "#Permanece el error del -1\n",
        "\n",
        "# Reemplazar -1 por 3 en la columna 'ESTRATO'\n",
        "data['SUBC'] = data['SUBC'].replace(-1, 3)\n",
        "\n",
        "# Guardar los cambios en un nuevo archivo\n",
        "data.to_csv('nombre_del_archivo_modificado.csv', index=False)"
      ],
      "metadata": {
        "id": "zSswly7dWELa"
      },
      "execution_count": null,
      "outputs": []
    },
    {
      "cell_type": "code",
      "source": [
        "data['SUBC'].unique()"
      ],
      "metadata": {
        "colab": {
          "base_uri": "https://localhost:8080/"
        },
        "id": "ytsN8dtyWLMV",
        "outputId": "aa5dc491-399e-41cc-c5d6-96400d76a530"
      },
      "execution_count": null,
      "outputs": [
        {
          "output_type": "execute_result",
          "data": {
            "text/plain": [
              "array([4, 3, 7, 1, 2, 5, 6])"
            ]
          },
          "metadata": {},
          "execution_count": 22
        }
      ]
    },
    {
      "cell_type": "markdown",
      "source": [
        "#### ANÁLISIS DE LA VARIBLE CATEGORIA"
      ],
      "metadata": {
        "id": "jpqwaBgUYDPF"
      }
    },
    {
      "cell_type": "markdown",
      "source": [
        "La variable Categoria debe contener el tipo de servicio que tiene el cliente"
      ],
      "metadata": {
        "id": "g2FF4g4Qp1_e"
      }
    },
    {
      "cell_type": "markdown",
      "source": [
        "** Vamos a usar un Pipeline para estandarizar la categoria CATE  usando un diccionario\n",
        "\n",
        "  '8': 'INTERNET',\n",
        "    '3': 'TELEFONIA',\n",
        "    '60': 'TELEVISIÓN',\n",
        "    '5': 'DEDICADO',\n",
        "    '10': 'PBX'"
      ],
      "metadata": {
        "id": "cn5RqgvlEjv9"
      }
    },
    {
      "cell_type": "code",
      "source": [
        "# Define the mapping dictionary\n",
        "mapeo_categorias = {\n",
        "    '8': 'INTERNET',\n",
        "    '3': 'TELEFONIA',\n",
        "    '60': 'TELEVISIÓN',\n",
        "    '5': 'DEDICADO',\n",
        "    '10': 'PBX',\n",
        "    '12': 'TELEFONIA'\n",
        "\n",
        "}\n",
        "\n",
        "class MapAndFillTransformer:\n",
        "    def __init__(self, mapping):\n",
        "        self.mapping = mapping\n",
        "\n",
        "    def transform(self, X):\n",
        "        X['CATE'] = X['CATE'].map(self.mapping).fillna(X['CATE'])\n",
        "        return X\n",
        "\n",
        "# Create the pipeline\n",
        "pipeline = Pipeline([\n",
        "    ('map_and_fill', MapAndFillTransformer(mapeo_categorias))\n",
        "])\n",
        "\n",
        "# Apply the pipeline to your data\n",
        "data = pipeline.transform(data)"
      ],
      "metadata": {
        "id": "ceNeJG6SEl_8"
      },
      "execution_count": null,
      "outputs": []
    },
    {
      "cell_type": "code",
      "source": [
        "# Cambiar los nombres de las columnas usando rename\n",
        "data = data.rename(columns={'CATE': 'CATEGORIA','SUBC': 'ESTRATO'})"
      ],
      "metadata": {
        "id": "o7hglhLzEtGy"
      },
      "execution_count": null,
      "outputs": []
    },
    {
      "cell_type": "code",
      "source": [
        "data.head(2)"
      ],
      "metadata": {
        "id": "lN7WIRDrErl9",
        "colab": {
          "base_uri": "https://localhost:8080/",
          "height": 233
        },
        "outputId": "ad8f3e3e-c5ef-4199-d00a-12653b52c1e5"
      },
      "execution_count": null,
      "outputs": [
        {
          "output_type": "execute_result",
          "data": {
            "text/plain": [
              "    SERVICIO SUSCRIPC CATEGORIA  ESTRATO                  BARRIO  \\\n",
              "0  7722586.0    98949  INTERNET        4                  MODELO   \n",
              "1  7722926.0    97182  INTERNET        3  ROSALES DE LA HACIENDA   \n",
              "\n",
              "                  DESCRIPCION SALDO    V.CUENTA   FECH INST FECHA CIERRE  \\\n",
              "0  TRIPLE GPON 40 MB OCT-2022  0.00   55,010.00  31/10/2010   31/07/2023   \n",
              "1   TRIPLE GPON 160 MB SEP-21  0.00  127,390.00  28/12/2016   31/07/2023   \n",
              "\n",
              "  MOTIVO DE RETIRO  ABANDONO  Dias de vigencia del servicio  \\\n",
              "0        No aplica         0                           4656   \n",
              "1        No aplica         0                           2406   \n",
              "\n",
              "   Cantidad de reportes  \n",
              "0                     0  \n",
              "1                     0  "
            ],
            "text/html": [
              "\n",
              "  <div id=\"df-8c253c69-b0f2-42bf-90d7-52c0d5080f28\" class=\"colab-df-container\">\n",
              "    <div>\n",
              "<style scoped>\n",
              "    .dataframe tbody tr th:only-of-type {\n",
              "        vertical-align: middle;\n",
              "    }\n",
              "\n",
              "    .dataframe tbody tr th {\n",
              "        vertical-align: top;\n",
              "    }\n",
              "\n",
              "    .dataframe thead th {\n",
              "        text-align: right;\n",
              "    }\n",
              "</style>\n",
              "<table border=\"1\" class=\"dataframe\">\n",
              "  <thead>\n",
              "    <tr style=\"text-align: right;\">\n",
              "      <th></th>\n",
              "      <th>SERVICIO</th>\n",
              "      <th>SUSCRIPC</th>\n",
              "      <th>CATEGORIA</th>\n",
              "      <th>ESTRATO</th>\n",
              "      <th>BARRIO</th>\n",
              "      <th>DESCRIPCION</th>\n",
              "      <th>SALDO</th>\n",
              "      <th>V.CUENTA</th>\n",
              "      <th>FECH INST</th>\n",
              "      <th>FECHA CIERRE</th>\n",
              "      <th>MOTIVO DE RETIRO</th>\n",
              "      <th>ABANDONO</th>\n",
              "      <th>Dias de vigencia del servicio</th>\n",
              "      <th>Cantidad de reportes</th>\n",
              "    </tr>\n",
              "  </thead>\n",
              "  <tbody>\n",
              "    <tr>\n",
              "      <th>0</th>\n",
              "      <td>7722586.0</td>\n",
              "      <td>98949</td>\n",
              "      <td>INTERNET</td>\n",
              "      <td>4</td>\n",
              "      <td>MODELO</td>\n",
              "      <td>TRIPLE GPON 40 MB OCT-2022</td>\n",
              "      <td>0.00</td>\n",
              "      <td>55,010.00</td>\n",
              "      <td>31/10/2010</td>\n",
              "      <td>31/07/2023</td>\n",
              "      <td>No aplica</td>\n",
              "      <td>0</td>\n",
              "      <td>4656</td>\n",
              "      <td>0</td>\n",
              "    </tr>\n",
              "    <tr>\n",
              "      <th>1</th>\n",
              "      <td>7722926.0</td>\n",
              "      <td>97182</td>\n",
              "      <td>INTERNET</td>\n",
              "      <td>3</td>\n",
              "      <td>ROSALES DE LA HACIENDA</td>\n",
              "      <td>TRIPLE GPON 160 MB SEP-21</td>\n",
              "      <td>0.00</td>\n",
              "      <td>127,390.00</td>\n",
              "      <td>28/12/2016</td>\n",
              "      <td>31/07/2023</td>\n",
              "      <td>No aplica</td>\n",
              "      <td>0</td>\n",
              "      <td>2406</td>\n",
              "      <td>0</td>\n",
              "    </tr>\n",
              "  </tbody>\n",
              "</table>\n",
              "</div>\n",
              "    <div class=\"colab-df-buttons\">\n",
              "\n",
              "  <div class=\"colab-df-container\">\n",
              "    <button class=\"colab-df-convert\" onclick=\"convertToInteractive('df-8c253c69-b0f2-42bf-90d7-52c0d5080f28')\"\n",
              "            title=\"Convert this dataframe to an interactive table.\"\n",
              "            style=\"display:none;\">\n",
              "\n",
              "  <svg xmlns=\"http://www.w3.org/2000/svg\" height=\"24px\" viewBox=\"0 -960 960 960\">\n",
              "    <path d=\"M120-120v-720h720v720H120Zm60-500h600v-160H180v160Zm220 220h160v-160H400v160Zm0 220h160v-160H400v160ZM180-400h160v-160H180v160Zm440 0h160v-160H620v160ZM180-180h160v-160H180v160Zm440 0h160v-160H620v160Z\"/>\n",
              "  </svg>\n",
              "    </button>\n",
              "\n",
              "  <style>\n",
              "    .colab-df-container {\n",
              "      display:flex;\n",
              "      gap: 12px;\n",
              "    }\n",
              "\n",
              "    .colab-df-convert {\n",
              "      background-color: #E8F0FE;\n",
              "      border: none;\n",
              "      border-radius: 50%;\n",
              "      cursor: pointer;\n",
              "      display: none;\n",
              "      fill: #1967D2;\n",
              "      height: 32px;\n",
              "      padding: 0 0 0 0;\n",
              "      width: 32px;\n",
              "    }\n",
              "\n",
              "    .colab-df-convert:hover {\n",
              "      background-color: #E2EBFA;\n",
              "      box-shadow: 0px 1px 2px rgba(60, 64, 67, 0.3), 0px 1px 3px 1px rgba(60, 64, 67, 0.15);\n",
              "      fill: #174EA6;\n",
              "    }\n",
              "\n",
              "    .colab-df-buttons div {\n",
              "      margin-bottom: 4px;\n",
              "    }\n",
              "\n",
              "    [theme=dark] .colab-df-convert {\n",
              "      background-color: #3B4455;\n",
              "      fill: #D2E3FC;\n",
              "    }\n",
              "\n",
              "    [theme=dark] .colab-df-convert:hover {\n",
              "      background-color: #434B5C;\n",
              "      box-shadow: 0px 1px 3px 1px rgba(0, 0, 0, 0.15);\n",
              "      filter: drop-shadow(0px 1px 2px rgba(0, 0, 0, 0.3));\n",
              "      fill: #FFFFFF;\n",
              "    }\n",
              "  </style>\n",
              "\n",
              "    <script>\n",
              "      const buttonEl =\n",
              "        document.querySelector('#df-8c253c69-b0f2-42bf-90d7-52c0d5080f28 button.colab-df-convert');\n",
              "      buttonEl.style.display =\n",
              "        google.colab.kernel.accessAllowed ? 'block' : 'none';\n",
              "\n",
              "      async function convertToInteractive(key) {\n",
              "        const element = document.querySelector('#df-8c253c69-b0f2-42bf-90d7-52c0d5080f28');\n",
              "        const dataTable =\n",
              "          await google.colab.kernel.invokeFunction('convertToInteractive',\n",
              "                                                    [key], {});\n",
              "        if (!dataTable) return;\n",
              "\n",
              "        const docLinkHtml = 'Like what you see? Visit the ' +\n",
              "          '<a target=\"_blank\" href=https://colab.research.google.com/notebooks/data_table.ipynb>data table notebook</a>'\n",
              "          + ' to learn more about interactive tables.';\n",
              "        element.innerHTML = '';\n",
              "        dataTable['output_type'] = 'display_data';\n",
              "        await google.colab.output.renderOutput(dataTable, element);\n",
              "        const docLink = document.createElement('div');\n",
              "        docLink.innerHTML = docLinkHtml;\n",
              "        element.appendChild(docLink);\n",
              "      }\n",
              "    </script>\n",
              "  </div>\n",
              "\n",
              "\n",
              "<div id=\"df-2380a486-8bcb-43c1-b477-1d959435c0f1\">\n",
              "  <button class=\"colab-df-quickchart\" onclick=\"quickchart('df-2380a486-8bcb-43c1-b477-1d959435c0f1')\"\n",
              "            title=\"Suggest charts.\"\n",
              "            style=\"display:none;\">\n",
              "\n",
              "<svg xmlns=\"http://www.w3.org/2000/svg\" height=\"24px\"viewBox=\"0 0 24 24\"\n",
              "     width=\"24px\">\n",
              "    <g>\n",
              "        <path d=\"M19 3H5c-1.1 0-2 .9-2 2v14c0 1.1.9 2 2 2h14c1.1 0 2-.9 2-2V5c0-1.1-.9-2-2-2zM9 17H7v-7h2v7zm4 0h-2V7h2v10zm4 0h-2v-4h2v4z\"/>\n",
              "    </g>\n",
              "</svg>\n",
              "  </button>\n",
              "\n",
              "<style>\n",
              "  .colab-df-quickchart {\n",
              "      --bg-color: #E8F0FE;\n",
              "      --fill-color: #1967D2;\n",
              "      --hover-bg-color: #E2EBFA;\n",
              "      --hover-fill-color: #174EA6;\n",
              "      --disabled-fill-color: #AAA;\n",
              "      --disabled-bg-color: #DDD;\n",
              "  }\n",
              "\n",
              "  [theme=dark] .colab-df-quickchart {\n",
              "      --bg-color: #3B4455;\n",
              "      --fill-color: #D2E3FC;\n",
              "      --hover-bg-color: #434B5C;\n",
              "      --hover-fill-color: #FFFFFF;\n",
              "      --disabled-bg-color: #3B4455;\n",
              "      --disabled-fill-color: #666;\n",
              "  }\n",
              "\n",
              "  .colab-df-quickchart {\n",
              "    background-color: var(--bg-color);\n",
              "    border: none;\n",
              "    border-radius: 50%;\n",
              "    cursor: pointer;\n",
              "    display: none;\n",
              "    fill: var(--fill-color);\n",
              "    height: 32px;\n",
              "    padding: 0;\n",
              "    width: 32px;\n",
              "  }\n",
              "\n",
              "  .colab-df-quickchart:hover {\n",
              "    background-color: var(--hover-bg-color);\n",
              "    box-shadow: 0 1px 2px rgba(60, 64, 67, 0.3), 0 1px 3px 1px rgba(60, 64, 67, 0.15);\n",
              "    fill: var(--button-hover-fill-color);\n",
              "  }\n",
              "\n",
              "  .colab-df-quickchart-complete:disabled,\n",
              "  .colab-df-quickchart-complete:disabled:hover {\n",
              "    background-color: var(--disabled-bg-color);\n",
              "    fill: var(--disabled-fill-color);\n",
              "    box-shadow: none;\n",
              "  }\n",
              "\n",
              "  .colab-df-spinner {\n",
              "    border: 2px solid var(--fill-color);\n",
              "    border-color: transparent;\n",
              "    border-bottom-color: var(--fill-color);\n",
              "    animation:\n",
              "      spin 1s steps(1) infinite;\n",
              "  }\n",
              "\n",
              "  @keyframes spin {\n",
              "    0% {\n",
              "      border-color: transparent;\n",
              "      border-bottom-color: var(--fill-color);\n",
              "      border-left-color: var(--fill-color);\n",
              "    }\n",
              "    20% {\n",
              "      border-color: transparent;\n",
              "      border-left-color: var(--fill-color);\n",
              "      border-top-color: var(--fill-color);\n",
              "    }\n",
              "    30% {\n",
              "      border-color: transparent;\n",
              "      border-left-color: var(--fill-color);\n",
              "      border-top-color: var(--fill-color);\n",
              "      border-right-color: var(--fill-color);\n",
              "    }\n",
              "    40% {\n",
              "      border-color: transparent;\n",
              "      border-right-color: var(--fill-color);\n",
              "      border-top-color: var(--fill-color);\n",
              "    }\n",
              "    60% {\n",
              "      border-color: transparent;\n",
              "      border-right-color: var(--fill-color);\n",
              "    }\n",
              "    80% {\n",
              "      border-color: transparent;\n",
              "      border-right-color: var(--fill-color);\n",
              "      border-bottom-color: var(--fill-color);\n",
              "    }\n",
              "    90% {\n",
              "      border-color: transparent;\n",
              "      border-bottom-color: var(--fill-color);\n",
              "    }\n",
              "  }\n",
              "</style>\n",
              "\n",
              "  <script>\n",
              "    async function quickchart(key) {\n",
              "      const quickchartButtonEl =\n",
              "        document.querySelector('#' + key + ' button');\n",
              "      quickchartButtonEl.disabled = true;  // To prevent multiple clicks.\n",
              "      quickchartButtonEl.classList.add('colab-df-spinner');\n",
              "      try {\n",
              "        const charts = await google.colab.kernel.invokeFunction(\n",
              "            'suggestCharts', [key], {});\n",
              "      } catch (error) {\n",
              "        console.error('Error during call to suggestCharts:', error);\n",
              "      }\n",
              "      quickchartButtonEl.classList.remove('colab-df-spinner');\n",
              "      quickchartButtonEl.classList.add('colab-df-quickchart-complete');\n",
              "    }\n",
              "    (() => {\n",
              "      let quickchartButtonEl =\n",
              "        document.querySelector('#df-2380a486-8bcb-43c1-b477-1d959435c0f1 button');\n",
              "      quickchartButtonEl.style.display =\n",
              "        google.colab.kernel.accessAllowed ? 'block' : 'none';\n",
              "    })();\n",
              "  </script>\n",
              "</div>\n",
              "    </div>\n",
              "  </div>\n"
            ]
          },
          "metadata": {},
          "execution_count": 25
        }
      ]
    },
    {
      "cell_type": "code",
      "source": [
        "data['CATEGORIA'].unique()"
      ],
      "metadata": {
        "id": "YRubUGGgKdI9",
        "colab": {
          "base_uri": "https://localhost:8080/"
        },
        "outputId": "efd4813c-2509-4832-fea7-6155f6afc15c"
      },
      "execution_count": null,
      "outputs": [
        {
          "output_type": "execute_result",
          "data": {
            "text/plain": [
              "array(['3', '5', '8', '60'], dtype=object)"
            ]
          },
          "metadata": {},
          "execution_count": 35
        }
      ]
    },
    {
      "cell_type": "markdown",
      "source": [
        "Notemos que tenemos unos datos con etique errada por lo que usaremos un pipeline para hacer las Trasnformaciión de dichos datos"
      ],
      "metadata": {
        "id": "KIMm2Jkup6h8"
      }
    },
    {
      "cell_type": "code",
      "source": [
        "def asignar_categoria_faltantes(df: pd.DataFrame):\n",
        "    categorias_anteriores = df['CATEGORIA']\n",
        "    servicios = df['SERVICIO'].astype(str)\n",
        "\n",
        "    condiciones = [\n",
        "        (categorias_anteriores.isin(['8', '3', '60', '5', '10', '12'])),\n",
        "        (servicios.str.startswith('5')),\n",
        "        (servicios.str.startswith('6')),\n",
        "        (servicios.str.startswith('89'))\n",
        "    ]\n",
        "\n",
        "    opciones = [\n",
        "        categorias_anteriores,\n",
        "        '8',\n",
        "        '60',\n",
        "        '5',\n",
        "    ]\n",
        "\n",
        "    categorias_limpias = np.select(condiciones, opciones, default='3')\n",
        "\n",
        "    return pd.Series(categorias_limpias)\n",
        "\n",
        "# Creación de pipeline\n",
        "pipeline = Pipeline([\n",
        "    ('categorias_faltantes', FunctionTransformer(asignar_categoria_faltantes, validate=False))\n",
        "])\n",
        "\n",
        "# Aplicar pipeline a categoría 'CATEGORIA'\n",
        "data['CATEGORIA'] = pipeline.fit_transform(data)"
      ],
      "metadata": {
        "id": "MzzSwr5j8thi"
      },
      "execution_count": null,
      "outputs": []
    },
    {
      "cell_type": "code",
      "source": [
        "data['CATEGORIA'].unique()"
      ],
      "metadata": {
        "id": "toUrQR_eH2X_",
        "colab": {
          "base_uri": "https://localhost:8080/"
        },
        "outputId": "6723a512-a16a-42bf-a5cb-39e6625542f8"
      },
      "execution_count": null,
      "outputs": [
        {
          "output_type": "execute_result",
          "data": {
            "text/plain": [
              "array(['3', '5', '8', '60'], dtype=object)"
            ]
          },
          "metadata": {},
          "execution_count": 37
        }
      ]
    },
    {
      "cell_type": "markdown",
      "source": [
        "Notemos que solo quedan las Categorias 4,5,8 y 60"
      ],
      "metadata": {
        "id": "pHCTqZyeqMri"
      }
    },
    {
      "cell_type": "code",
      "source": [
        "data.isna().sum()"
      ],
      "metadata": {
        "id": "jxs7SGDh9kti"
      },
      "execution_count": null,
      "outputs": []
    },
    {
      "cell_type": "code",
      "source": [
        "data['CATEGORIA'].fillna('3', inplace=True)\n",
        "data.dropna(inplace=True)\n",
        "data.reset_index(inplace=True)"
      ],
      "metadata": {
        "id": "gPt5hMAa-jzP"
      },
      "execution_count": null,
      "outputs": []
    },
    {
      "cell_type": "code",
      "source": [
        "data.head(3)"
      ],
      "metadata": {
        "id": "9OAo85SX_aKA",
        "colab": {
          "base_uri": "https://localhost:8080/",
          "height": 319
        },
        "outputId": "3d88ee25-067b-45d3-9282-60b7f88942da"
      },
      "execution_count": null,
      "outputs": [
        {
          "output_type": "execute_result",
          "data": {
            "text/plain": [
              "   level_0  index   SERVICIO SUSCRIPC CATEGORIA  ESTRATO  \\\n",
              "0        0      0  7722586.0    98949         3        4   \n",
              "1        1      1  7722926.0    97182         3        3   \n",
              "2        2      2  7722134.0    45015         3        7   \n",
              "\n",
              "                   BARRIO                 DESCRIPCION SALDO    V.CUENTA  \\\n",
              "0                  MODELO  TRIPLE GPON 40 MB OCT-2022  0.00   55,010.00   \n",
              "1  ROSALES DE LA HACIENDA   TRIPLE GPON 160 MB SEP-21  0.00  127,390.00   \n",
              "2                  CENTRO   INTERNET GPON 15 MB JUN21  0.00   71,390.00   \n",
              "\n",
              "    FECH INST FECHA CIERRE MOTIVO DE RETIRO  ABANDONO  \\\n",
              "0  31/10/2010   31/07/2023        No aplica         0   \n",
              "1  28/12/2016   31/07/2023        No aplica         0   \n",
              "2  22/07/2021   31/07/2023        No aplica         0   \n",
              "\n",
              "   Dias de vigencia del servicio  Cantidad de reportes  \n",
              "0                           4656                     0  \n",
              "1                           2406                     0  \n",
              "2                            739                     0  "
            ],
            "text/html": [
              "\n",
              "  <div id=\"df-836b7984-337a-42f6-b2c1-bdd69311d13a\" class=\"colab-df-container\">\n",
              "    <div>\n",
              "<style scoped>\n",
              "    .dataframe tbody tr th:only-of-type {\n",
              "        vertical-align: middle;\n",
              "    }\n",
              "\n",
              "    .dataframe tbody tr th {\n",
              "        vertical-align: top;\n",
              "    }\n",
              "\n",
              "    .dataframe thead th {\n",
              "        text-align: right;\n",
              "    }\n",
              "</style>\n",
              "<table border=\"1\" class=\"dataframe\">\n",
              "  <thead>\n",
              "    <tr style=\"text-align: right;\">\n",
              "      <th></th>\n",
              "      <th>level_0</th>\n",
              "      <th>index</th>\n",
              "      <th>SERVICIO</th>\n",
              "      <th>SUSCRIPC</th>\n",
              "      <th>CATEGORIA</th>\n",
              "      <th>ESTRATO</th>\n",
              "      <th>BARRIO</th>\n",
              "      <th>DESCRIPCION</th>\n",
              "      <th>SALDO</th>\n",
              "      <th>V.CUENTA</th>\n",
              "      <th>FECH INST</th>\n",
              "      <th>FECHA CIERRE</th>\n",
              "      <th>MOTIVO DE RETIRO</th>\n",
              "      <th>ABANDONO</th>\n",
              "      <th>Dias de vigencia del servicio</th>\n",
              "      <th>Cantidad de reportes</th>\n",
              "    </tr>\n",
              "  </thead>\n",
              "  <tbody>\n",
              "    <tr>\n",
              "      <th>0</th>\n",
              "      <td>0</td>\n",
              "      <td>0</td>\n",
              "      <td>7722586.0</td>\n",
              "      <td>98949</td>\n",
              "      <td>3</td>\n",
              "      <td>4</td>\n",
              "      <td>MODELO</td>\n",
              "      <td>TRIPLE GPON 40 MB OCT-2022</td>\n",
              "      <td>0.00</td>\n",
              "      <td>55,010.00</td>\n",
              "      <td>31/10/2010</td>\n",
              "      <td>31/07/2023</td>\n",
              "      <td>No aplica</td>\n",
              "      <td>0</td>\n",
              "      <td>4656</td>\n",
              "      <td>0</td>\n",
              "    </tr>\n",
              "    <tr>\n",
              "      <th>1</th>\n",
              "      <td>1</td>\n",
              "      <td>1</td>\n",
              "      <td>7722926.0</td>\n",
              "      <td>97182</td>\n",
              "      <td>3</td>\n",
              "      <td>3</td>\n",
              "      <td>ROSALES DE LA HACIENDA</td>\n",
              "      <td>TRIPLE GPON 160 MB SEP-21</td>\n",
              "      <td>0.00</td>\n",
              "      <td>127,390.00</td>\n",
              "      <td>28/12/2016</td>\n",
              "      <td>31/07/2023</td>\n",
              "      <td>No aplica</td>\n",
              "      <td>0</td>\n",
              "      <td>2406</td>\n",
              "      <td>0</td>\n",
              "    </tr>\n",
              "    <tr>\n",
              "      <th>2</th>\n",
              "      <td>2</td>\n",
              "      <td>2</td>\n",
              "      <td>7722134.0</td>\n",
              "      <td>45015</td>\n",
              "      <td>3</td>\n",
              "      <td>7</td>\n",
              "      <td>CENTRO</td>\n",
              "      <td>INTERNET GPON 15 MB JUN21</td>\n",
              "      <td>0.00</td>\n",
              "      <td>71,390.00</td>\n",
              "      <td>22/07/2021</td>\n",
              "      <td>31/07/2023</td>\n",
              "      <td>No aplica</td>\n",
              "      <td>0</td>\n",
              "      <td>739</td>\n",
              "      <td>0</td>\n",
              "    </tr>\n",
              "  </tbody>\n",
              "</table>\n",
              "</div>\n",
              "    <div class=\"colab-df-buttons\">\n",
              "\n",
              "  <div class=\"colab-df-container\">\n",
              "    <button class=\"colab-df-convert\" onclick=\"convertToInteractive('df-836b7984-337a-42f6-b2c1-bdd69311d13a')\"\n",
              "            title=\"Convert this dataframe to an interactive table.\"\n",
              "            style=\"display:none;\">\n",
              "\n",
              "  <svg xmlns=\"http://www.w3.org/2000/svg\" height=\"24px\" viewBox=\"0 -960 960 960\">\n",
              "    <path d=\"M120-120v-720h720v720H120Zm60-500h600v-160H180v160Zm220 220h160v-160H400v160Zm0 220h160v-160H400v160ZM180-400h160v-160H180v160Zm440 0h160v-160H620v160ZM180-180h160v-160H180v160Zm440 0h160v-160H620v160Z\"/>\n",
              "  </svg>\n",
              "    </button>\n",
              "\n",
              "  <style>\n",
              "    .colab-df-container {\n",
              "      display:flex;\n",
              "      gap: 12px;\n",
              "    }\n",
              "\n",
              "    .colab-df-convert {\n",
              "      background-color: #E8F0FE;\n",
              "      border: none;\n",
              "      border-radius: 50%;\n",
              "      cursor: pointer;\n",
              "      display: none;\n",
              "      fill: #1967D2;\n",
              "      height: 32px;\n",
              "      padding: 0 0 0 0;\n",
              "      width: 32px;\n",
              "    }\n",
              "\n",
              "    .colab-df-convert:hover {\n",
              "      background-color: #E2EBFA;\n",
              "      box-shadow: 0px 1px 2px rgba(60, 64, 67, 0.3), 0px 1px 3px 1px rgba(60, 64, 67, 0.15);\n",
              "      fill: #174EA6;\n",
              "    }\n",
              "\n",
              "    .colab-df-buttons div {\n",
              "      margin-bottom: 4px;\n",
              "    }\n",
              "\n",
              "    [theme=dark] .colab-df-convert {\n",
              "      background-color: #3B4455;\n",
              "      fill: #D2E3FC;\n",
              "    }\n",
              "\n",
              "    [theme=dark] .colab-df-convert:hover {\n",
              "      background-color: #434B5C;\n",
              "      box-shadow: 0px 1px 3px 1px rgba(0, 0, 0, 0.15);\n",
              "      filter: drop-shadow(0px 1px 2px rgba(0, 0, 0, 0.3));\n",
              "      fill: #FFFFFF;\n",
              "    }\n",
              "  </style>\n",
              "\n",
              "    <script>\n",
              "      const buttonEl =\n",
              "        document.querySelector('#df-836b7984-337a-42f6-b2c1-bdd69311d13a button.colab-df-convert');\n",
              "      buttonEl.style.display =\n",
              "        google.colab.kernel.accessAllowed ? 'block' : 'none';\n",
              "\n",
              "      async function convertToInteractive(key) {\n",
              "        const element = document.querySelector('#df-836b7984-337a-42f6-b2c1-bdd69311d13a');\n",
              "        const dataTable =\n",
              "          await google.colab.kernel.invokeFunction('convertToInteractive',\n",
              "                                                    [key], {});\n",
              "        if (!dataTable) return;\n",
              "\n",
              "        const docLinkHtml = 'Like what you see? Visit the ' +\n",
              "          '<a target=\"_blank\" href=https://colab.research.google.com/notebooks/data_table.ipynb>data table notebook</a>'\n",
              "          + ' to learn more about interactive tables.';\n",
              "        element.innerHTML = '';\n",
              "        dataTable['output_type'] = 'display_data';\n",
              "        await google.colab.output.renderOutput(dataTable, element);\n",
              "        const docLink = document.createElement('div');\n",
              "        docLink.innerHTML = docLinkHtml;\n",
              "        element.appendChild(docLink);\n",
              "      }\n",
              "    </script>\n",
              "  </div>\n",
              "\n",
              "\n",
              "<div id=\"df-9021ad40-d15a-41d0-acec-5051a263b853\">\n",
              "  <button class=\"colab-df-quickchart\" onclick=\"quickchart('df-9021ad40-d15a-41d0-acec-5051a263b853')\"\n",
              "            title=\"Suggest charts.\"\n",
              "            style=\"display:none;\">\n",
              "\n",
              "<svg xmlns=\"http://www.w3.org/2000/svg\" height=\"24px\"viewBox=\"0 0 24 24\"\n",
              "     width=\"24px\">\n",
              "    <g>\n",
              "        <path d=\"M19 3H5c-1.1 0-2 .9-2 2v14c0 1.1.9 2 2 2h14c1.1 0 2-.9 2-2V5c0-1.1-.9-2-2-2zM9 17H7v-7h2v7zm4 0h-2V7h2v10zm4 0h-2v-4h2v4z\"/>\n",
              "    </g>\n",
              "</svg>\n",
              "  </button>\n",
              "\n",
              "<style>\n",
              "  .colab-df-quickchart {\n",
              "      --bg-color: #E8F0FE;\n",
              "      --fill-color: #1967D2;\n",
              "      --hover-bg-color: #E2EBFA;\n",
              "      --hover-fill-color: #174EA6;\n",
              "      --disabled-fill-color: #AAA;\n",
              "      --disabled-bg-color: #DDD;\n",
              "  }\n",
              "\n",
              "  [theme=dark] .colab-df-quickchart {\n",
              "      --bg-color: #3B4455;\n",
              "      --fill-color: #D2E3FC;\n",
              "      --hover-bg-color: #434B5C;\n",
              "      --hover-fill-color: #FFFFFF;\n",
              "      --disabled-bg-color: #3B4455;\n",
              "      --disabled-fill-color: #666;\n",
              "  }\n",
              "\n",
              "  .colab-df-quickchart {\n",
              "    background-color: var(--bg-color);\n",
              "    border: none;\n",
              "    border-radius: 50%;\n",
              "    cursor: pointer;\n",
              "    display: none;\n",
              "    fill: var(--fill-color);\n",
              "    height: 32px;\n",
              "    padding: 0;\n",
              "    width: 32px;\n",
              "  }\n",
              "\n",
              "  .colab-df-quickchart:hover {\n",
              "    background-color: var(--hover-bg-color);\n",
              "    box-shadow: 0 1px 2px rgba(60, 64, 67, 0.3), 0 1px 3px 1px rgba(60, 64, 67, 0.15);\n",
              "    fill: var(--button-hover-fill-color);\n",
              "  }\n",
              "\n",
              "  .colab-df-quickchart-complete:disabled,\n",
              "  .colab-df-quickchart-complete:disabled:hover {\n",
              "    background-color: var(--disabled-bg-color);\n",
              "    fill: var(--disabled-fill-color);\n",
              "    box-shadow: none;\n",
              "  }\n",
              "\n",
              "  .colab-df-spinner {\n",
              "    border: 2px solid var(--fill-color);\n",
              "    border-color: transparent;\n",
              "    border-bottom-color: var(--fill-color);\n",
              "    animation:\n",
              "      spin 1s steps(1) infinite;\n",
              "  }\n",
              "\n",
              "  @keyframes spin {\n",
              "    0% {\n",
              "      border-color: transparent;\n",
              "      border-bottom-color: var(--fill-color);\n",
              "      border-left-color: var(--fill-color);\n",
              "    }\n",
              "    20% {\n",
              "      border-color: transparent;\n",
              "      border-left-color: var(--fill-color);\n",
              "      border-top-color: var(--fill-color);\n",
              "    }\n",
              "    30% {\n",
              "      border-color: transparent;\n",
              "      border-left-color: var(--fill-color);\n",
              "      border-top-color: var(--fill-color);\n",
              "      border-right-color: var(--fill-color);\n",
              "    }\n",
              "    40% {\n",
              "      border-color: transparent;\n",
              "      border-right-color: var(--fill-color);\n",
              "      border-top-color: var(--fill-color);\n",
              "    }\n",
              "    60% {\n",
              "      border-color: transparent;\n",
              "      border-right-color: var(--fill-color);\n",
              "    }\n",
              "    80% {\n",
              "      border-color: transparent;\n",
              "      border-right-color: var(--fill-color);\n",
              "      border-bottom-color: var(--fill-color);\n",
              "    }\n",
              "    90% {\n",
              "      border-color: transparent;\n",
              "      border-bottom-color: var(--fill-color);\n",
              "    }\n",
              "  }\n",
              "</style>\n",
              "\n",
              "  <script>\n",
              "    async function quickchart(key) {\n",
              "      const quickchartButtonEl =\n",
              "        document.querySelector('#' + key + ' button');\n",
              "      quickchartButtonEl.disabled = true;  // To prevent multiple clicks.\n",
              "      quickchartButtonEl.classList.add('colab-df-spinner');\n",
              "      try {\n",
              "        const charts = await google.colab.kernel.invokeFunction(\n",
              "            'suggestCharts', [key], {});\n",
              "      } catch (error) {\n",
              "        console.error('Error during call to suggestCharts:', error);\n",
              "      }\n",
              "      quickchartButtonEl.classList.remove('colab-df-spinner');\n",
              "      quickchartButtonEl.classList.add('colab-df-quickchart-complete');\n",
              "    }\n",
              "    (() => {\n",
              "      let quickchartButtonEl =\n",
              "        document.querySelector('#df-9021ad40-d15a-41d0-acec-5051a263b853 button');\n",
              "      quickchartButtonEl.style.display =\n",
              "        google.colab.kernel.accessAllowed ? 'block' : 'none';\n",
              "    })();\n",
              "  </script>\n",
              "</div>\n",
              "    </div>\n",
              "  </div>\n"
            ]
          },
          "metadata": {},
          "execution_count": 34
        }
      ]
    },
    {
      "cell_type": "code",
      "source": [
        "data.isna().sum()"
      ],
      "metadata": {
        "id": "pN2wqIdK-0iF",
        "colab": {
          "base_uri": "https://localhost:8080/"
        },
        "outputId": "d927535f-445a-415f-b014-c2cf985f8059"
      },
      "execution_count": null,
      "outputs": [
        {
          "output_type": "execute_result",
          "data": {
            "text/plain": [
              "index                            0\n",
              "SERVICIO                         0\n",
              "SUSCRIPC                         0\n",
              "CATEGORIA                        0\n",
              "ESTRATO                          0\n",
              "BARRIO                           0\n",
              "DESCRIPCION                      0\n",
              "SALDO                            0\n",
              "V.CUENTA                         0\n",
              "FECH INST                        0\n",
              "FECHA CIERRE                     0\n",
              "MOTIVO DE RETIRO                 0\n",
              "ABANDONO                         0\n",
              "Dias de vigencia del servicio    0\n",
              "Cantidad de reportes             0\n",
              "dtype: int64"
            ]
          },
          "metadata": {},
          "execution_count": 56
        }
      ]
    },
    {
      "cell_type": "markdown",
      "source": [
        "#### 3.2.1.2 Tratamiento a la Variable Servicio\n",
        "\n",
        "La Variable servicio se cambiará a un string y aplicaremos un Pipeline para crear una nueva Columna con el tipo de servicio que tiene el cliente, creando una nueva columna llamado TECNOLOGÍA"
      ],
      "metadata": {
        "id": "6TvzU5GbFLr9"
      }
    },
    {
      "cell_type": "code",
      "source": [
        "data['SERVICIO'] = data['SERVICIO'].astype(int)\n",
        "data['SERVICIO'] = data['SERVICIO'].astype(str)"
      ],
      "metadata": {
        "id": "UX8xEn0lE-J6"
      },
      "execution_count": null,
      "outputs": []
    },
    {
      "cell_type": "code",
      "source": [
        "# Define una función para asignar la tecnología basada en las dos primeras cifras\n",
        "def asignar_tecnologia(data):\n",
        "    # Diccionario de tecnologías\n",
        "    tecnologias = {\n",
        "        '67': 'GPON',\n",
        "        '68': 'GPON',\n",
        "        '78': 'GPON',\n",
        "        '77': 'GPON',\n",
        "        '62': 'HFC',\n",
        "        '61': 'HFC',\n",
        "        '63': 'HFC',\n",
        "        '64': 'HFC',\n",
        "        '65': 'HFC',\n",
        "        '56': 'HFC',\n",
        "        '51': 'INALAMBRICA',\n",
        "        '58': 'COBRE',\n",
        "        '89': 'FIBRA'\n",
        "    }\n",
        "\n",
        "    # Inicializar una nueva serie con \"No Identificado\"\n",
        "    tecnologia = pd.Series(\"NO IDENTIFICADO\", index=data.index)\n",
        "\n",
        "    # Extraer las dos primeras cifras de la columna 'SERVICIO'\n",
        "    dos_primeras_cifras = data['SERVICIO'].str[:2]\n",
        "\n",
        "    # Asignar \"HFC\" a aquellos que comienzan con '4'\n",
        "    tecnologia[dos_primeras_cifras.str.startswith('4')] = 'HFC'\n",
        "\n",
        "    # Asignar tecnologías basadas en el diccionario\n",
        "    tecnologia.update(dos_primeras_cifras.map(tecnologias))\n",
        "\n",
        "    return tecnologia\n",
        "\n",
        "# Crear el pipeline\n",
        "pipeline = Pipeline([\n",
        "    ('asignar_tecnologia', FunctionTransformer(asignar_tecnologia, validate=False))\n",
        "])\n",
        "\n",
        "# Aplicar el pipeline a la columna 'SERVICIO'\n",
        "data['TECNOLOGIA'] = pipeline.fit_transform(data)\n",
        "\n",
        "# Cambiar el orden de las Columnas\n",
        "\n",
        "column_order = ['SERVICIO', 'TECNOLOGIA', 'SUSCRIPC', 'CATEGORIA', 'ESTRATO', 'BARRIO', 'DESCRIPCION', 'SALDO', 'V.CUENTA', 'FECH INST', 'FECHA CIERRE', 'MOTIVO DE RETIRO', 'ABANDONO', 'Dias de vigencia del servicio', 'Cantidad de reportes']\n",
        "\n",
        "# Reorganizar las columnas\n",
        "data= data[column_order]\n",
        "data.head(3)"
      ],
      "metadata": {
        "id": "7MKgWoESFpD0",
        "colab": {
          "base_uri": "https://localhost:8080/",
          "height": 319
        },
        "outputId": "efbd2b2c-eb4e-406a-e002-32e34d3a6987"
      },
      "execution_count": null,
      "outputs": [
        {
          "output_type": "execute_result",
          "data": {
            "text/plain": [
              "  SERVICIO TECNOLOGIA SUSCRIPC CATEGORIA  ESTRATO                  BARRIO  \\\n",
              "0  7722586       GPON    98949         3        4                  MODELO   \n",
              "1  7722926       GPON    97182         3        3  ROSALES DE LA HACIENDA   \n",
              "2  7722134       GPON    45015         3        7                  CENTRO   \n",
              "\n",
              "                  DESCRIPCION SALDO    V.CUENTA   FECH INST FECHA CIERRE  \\\n",
              "0  TRIPLE GPON 40 MB OCT-2022  0.00   55,010.00  31/10/2010   31/07/2023   \n",
              "1   TRIPLE GPON 160 MB SEP-21  0.00  127,390.00  28/12/2016   31/07/2023   \n",
              "2   INTERNET GPON 15 MB JUN21  0.00   71,390.00  22/07/2021   31/07/2023   \n",
              "\n",
              "  MOTIVO DE RETIRO  ABANDONO  Dias de vigencia del servicio  \\\n",
              "0        No aplica         0                           4656   \n",
              "1        No aplica         0                           2406   \n",
              "2        No aplica         0                            739   \n",
              "\n",
              "   Cantidad de reportes  \n",
              "0                     0  \n",
              "1                     0  \n",
              "2                     0  "
            ],
            "text/html": [
              "\n",
              "  <div id=\"df-f42c033a-30db-4c9f-a466-bd148a669a16\" class=\"colab-df-container\">\n",
              "    <div>\n",
              "<style scoped>\n",
              "    .dataframe tbody tr th:only-of-type {\n",
              "        vertical-align: middle;\n",
              "    }\n",
              "\n",
              "    .dataframe tbody tr th {\n",
              "        vertical-align: top;\n",
              "    }\n",
              "\n",
              "    .dataframe thead th {\n",
              "        text-align: right;\n",
              "    }\n",
              "</style>\n",
              "<table border=\"1\" class=\"dataframe\">\n",
              "  <thead>\n",
              "    <tr style=\"text-align: right;\">\n",
              "      <th></th>\n",
              "      <th>SERVICIO</th>\n",
              "      <th>TECNOLOGIA</th>\n",
              "      <th>SUSCRIPC</th>\n",
              "      <th>CATEGORIA</th>\n",
              "      <th>ESTRATO</th>\n",
              "      <th>BARRIO</th>\n",
              "      <th>DESCRIPCION</th>\n",
              "      <th>SALDO</th>\n",
              "      <th>V.CUENTA</th>\n",
              "      <th>FECH INST</th>\n",
              "      <th>FECHA CIERRE</th>\n",
              "      <th>MOTIVO DE RETIRO</th>\n",
              "      <th>ABANDONO</th>\n",
              "      <th>Dias de vigencia del servicio</th>\n",
              "      <th>Cantidad de reportes</th>\n",
              "    </tr>\n",
              "  </thead>\n",
              "  <tbody>\n",
              "    <tr>\n",
              "      <th>0</th>\n",
              "      <td>7722586</td>\n",
              "      <td>GPON</td>\n",
              "      <td>98949</td>\n",
              "      <td>3</td>\n",
              "      <td>4</td>\n",
              "      <td>MODELO</td>\n",
              "      <td>TRIPLE GPON 40 MB OCT-2022</td>\n",
              "      <td>0.00</td>\n",
              "      <td>55,010.00</td>\n",
              "      <td>31/10/2010</td>\n",
              "      <td>31/07/2023</td>\n",
              "      <td>No aplica</td>\n",
              "      <td>0</td>\n",
              "      <td>4656</td>\n",
              "      <td>0</td>\n",
              "    </tr>\n",
              "    <tr>\n",
              "      <th>1</th>\n",
              "      <td>7722926</td>\n",
              "      <td>GPON</td>\n",
              "      <td>97182</td>\n",
              "      <td>3</td>\n",
              "      <td>3</td>\n",
              "      <td>ROSALES DE LA HACIENDA</td>\n",
              "      <td>TRIPLE GPON 160 MB SEP-21</td>\n",
              "      <td>0.00</td>\n",
              "      <td>127,390.00</td>\n",
              "      <td>28/12/2016</td>\n",
              "      <td>31/07/2023</td>\n",
              "      <td>No aplica</td>\n",
              "      <td>0</td>\n",
              "      <td>2406</td>\n",
              "      <td>0</td>\n",
              "    </tr>\n",
              "    <tr>\n",
              "      <th>2</th>\n",
              "      <td>7722134</td>\n",
              "      <td>GPON</td>\n",
              "      <td>45015</td>\n",
              "      <td>3</td>\n",
              "      <td>7</td>\n",
              "      <td>CENTRO</td>\n",
              "      <td>INTERNET GPON 15 MB JUN21</td>\n",
              "      <td>0.00</td>\n",
              "      <td>71,390.00</td>\n",
              "      <td>22/07/2021</td>\n",
              "      <td>31/07/2023</td>\n",
              "      <td>No aplica</td>\n",
              "      <td>0</td>\n",
              "      <td>739</td>\n",
              "      <td>0</td>\n",
              "    </tr>\n",
              "  </tbody>\n",
              "</table>\n",
              "</div>\n",
              "    <div class=\"colab-df-buttons\">\n",
              "\n",
              "  <div class=\"colab-df-container\">\n",
              "    <button class=\"colab-df-convert\" onclick=\"convertToInteractive('df-f42c033a-30db-4c9f-a466-bd148a669a16')\"\n",
              "            title=\"Convert this dataframe to an interactive table.\"\n",
              "            style=\"display:none;\">\n",
              "\n",
              "  <svg xmlns=\"http://www.w3.org/2000/svg\" height=\"24px\" viewBox=\"0 -960 960 960\">\n",
              "    <path d=\"M120-120v-720h720v720H120Zm60-500h600v-160H180v160Zm220 220h160v-160H400v160Zm0 220h160v-160H400v160ZM180-400h160v-160H180v160Zm440 0h160v-160H620v160ZM180-180h160v-160H180v160Zm440 0h160v-160H620v160Z\"/>\n",
              "  </svg>\n",
              "    </button>\n",
              "\n",
              "  <style>\n",
              "    .colab-df-container {\n",
              "      display:flex;\n",
              "      gap: 12px;\n",
              "    }\n",
              "\n",
              "    .colab-df-convert {\n",
              "      background-color: #E8F0FE;\n",
              "      border: none;\n",
              "      border-radius: 50%;\n",
              "      cursor: pointer;\n",
              "      display: none;\n",
              "      fill: #1967D2;\n",
              "      height: 32px;\n",
              "      padding: 0 0 0 0;\n",
              "      width: 32px;\n",
              "    }\n",
              "\n",
              "    .colab-df-convert:hover {\n",
              "      background-color: #E2EBFA;\n",
              "      box-shadow: 0px 1px 2px rgba(60, 64, 67, 0.3), 0px 1px 3px 1px rgba(60, 64, 67, 0.15);\n",
              "      fill: #174EA6;\n",
              "    }\n",
              "\n",
              "    .colab-df-buttons div {\n",
              "      margin-bottom: 4px;\n",
              "    }\n",
              "\n",
              "    [theme=dark] .colab-df-convert {\n",
              "      background-color: #3B4455;\n",
              "      fill: #D2E3FC;\n",
              "    }\n",
              "\n",
              "    [theme=dark] .colab-df-convert:hover {\n",
              "      background-color: #434B5C;\n",
              "      box-shadow: 0px 1px 3px 1px rgba(0, 0, 0, 0.15);\n",
              "      filter: drop-shadow(0px 1px 2px rgba(0, 0, 0, 0.3));\n",
              "      fill: #FFFFFF;\n",
              "    }\n",
              "  </style>\n",
              "\n",
              "    <script>\n",
              "      const buttonEl =\n",
              "        document.querySelector('#df-f42c033a-30db-4c9f-a466-bd148a669a16 button.colab-df-convert');\n",
              "      buttonEl.style.display =\n",
              "        google.colab.kernel.accessAllowed ? 'block' : 'none';\n",
              "\n",
              "      async function convertToInteractive(key) {\n",
              "        const element = document.querySelector('#df-f42c033a-30db-4c9f-a466-bd148a669a16');\n",
              "        const dataTable =\n",
              "          await google.colab.kernel.invokeFunction('convertToInteractive',\n",
              "                                                    [key], {});\n",
              "        if (!dataTable) return;\n",
              "\n",
              "        const docLinkHtml = 'Like what you see? Visit the ' +\n",
              "          '<a target=\"_blank\" href=https://colab.research.google.com/notebooks/data_table.ipynb>data table notebook</a>'\n",
              "          + ' to learn more about interactive tables.';\n",
              "        element.innerHTML = '';\n",
              "        dataTable['output_type'] = 'display_data';\n",
              "        await google.colab.output.renderOutput(dataTable, element);\n",
              "        const docLink = document.createElement('div');\n",
              "        docLink.innerHTML = docLinkHtml;\n",
              "        element.appendChild(docLink);\n",
              "      }\n",
              "    </script>\n",
              "  </div>\n",
              "\n",
              "\n",
              "<div id=\"df-8a47d544-d46f-4450-a5a1-7d3d50a280b6\">\n",
              "  <button class=\"colab-df-quickchart\" onclick=\"quickchart('df-8a47d544-d46f-4450-a5a1-7d3d50a280b6')\"\n",
              "            title=\"Suggest charts.\"\n",
              "            style=\"display:none;\">\n",
              "\n",
              "<svg xmlns=\"http://www.w3.org/2000/svg\" height=\"24px\"viewBox=\"0 0 24 24\"\n",
              "     width=\"24px\">\n",
              "    <g>\n",
              "        <path d=\"M19 3H5c-1.1 0-2 .9-2 2v14c0 1.1.9 2 2 2h14c1.1 0 2-.9 2-2V5c0-1.1-.9-2-2-2zM9 17H7v-7h2v7zm4 0h-2V7h2v10zm4 0h-2v-4h2v4z\"/>\n",
              "    </g>\n",
              "</svg>\n",
              "  </button>\n",
              "\n",
              "<style>\n",
              "  .colab-df-quickchart {\n",
              "      --bg-color: #E8F0FE;\n",
              "      --fill-color: #1967D2;\n",
              "      --hover-bg-color: #E2EBFA;\n",
              "      --hover-fill-color: #174EA6;\n",
              "      --disabled-fill-color: #AAA;\n",
              "      --disabled-bg-color: #DDD;\n",
              "  }\n",
              "\n",
              "  [theme=dark] .colab-df-quickchart {\n",
              "      --bg-color: #3B4455;\n",
              "      --fill-color: #D2E3FC;\n",
              "      --hover-bg-color: #434B5C;\n",
              "      --hover-fill-color: #FFFFFF;\n",
              "      --disabled-bg-color: #3B4455;\n",
              "      --disabled-fill-color: #666;\n",
              "  }\n",
              "\n",
              "  .colab-df-quickchart {\n",
              "    background-color: var(--bg-color);\n",
              "    border: none;\n",
              "    border-radius: 50%;\n",
              "    cursor: pointer;\n",
              "    display: none;\n",
              "    fill: var(--fill-color);\n",
              "    height: 32px;\n",
              "    padding: 0;\n",
              "    width: 32px;\n",
              "  }\n",
              "\n",
              "  .colab-df-quickchart:hover {\n",
              "    background-color: var(--hover-bg-color);\n",
              "    box-shadow: 0 1px 2px rgba(60, 64, 67, 0.3), 0 1px 3px 1px rgba(60, 64, 67, 0.15);\n",
              "    fill: var(--button-hover-fill-color);\n",
              "  }\n",
              "\n",
              "  .colab-df-quickchart-complete:disabled,\n",
              "  .colab-df-quickchart-complete:disabled:hover {\n",
              "    background-color: var(--disabled-bg-color);\n",
              "    fill: var(--disabled-fill-color);\n",
              "    box-shadow: none;\n",
              "  }\n",
              "\n",
              "  .colab-df-spinner {\n",
              "    border: 2px solid var(--fill-color);\n",
              "    border-color: transparent;\n",
              "    border-bottom-color: var(--fill-color);\n",
              "    animation:\n",
              "      spin 1s steps(1) infinite;\n",
              "  }\n",
              "\n",
              "  @keyframes spin {\n",
              "    0% {\n",
              "      border-color: transparent;\n",
              "      border-bottom-color: var(--fill-color);\n",
              "      border-left-color: var(--fill-color);\n",
              "    }\n",
              "    20% {\n",
              "      border-color: transparent;\n",
              "      border-left-color: var(--fill-color);\n",
              "      border-top-color: var(--fill-color);\n",
              "    }\n",
              "    30% {\n",
              "      border-color: transparent;\n",
              "      border-left-color: var(--fill-color);\n",
              "      border-top-color: var(--fill-color);\n",
              "      border-right-color: var(--fill-color);\n",
              "    }\n",
              "    40% {\n",
              "      border-color: transparent;\n",
              "      border-right-color: var(--fill-color);\n",
              "      border-top-color: var(--fill-color);\n",
              "    }\n",
              "    60% {\n",
              "      border-color: transparent;\n",
              "      border-right-color: var(--fill-color);\n",
              "    }\n",
              "    80% {\n",
              "      border-color: transparent;\n",
              "      border-right-color: var(--fill-color);\n",
              "      border-bottom-color: var(--fill-color);\n",
              "    }\n",
              "    90% {\n",
              "      border-color: transparent;\n",
              "      border-bottom-color: var(--fill-color);\n",
              "    }\n",
              "  }\n",
              "</style>\n",
              "\n",
              "  <script>\n",
              "    async function quickchart(key) {\n",
              "      const quickchartButtonEl =\n",
              "        document.querySelector('#' + key + ' button');\n",
              "      quickchartButtonEl.disabled = true;  // To prevent multiple clicks.\n",
              "      quickchartButtonEl.classList.add('colab-df-spinner');\n",
              "      try {\n",
              "        const charts = await google.colab.kernel.invokeFunction(\n",
              "            'suggestCharts', [key], {});\n",
              "      } catch (error) {\n",
              "        console.error('Error during call to suggestCharts:', error);\n",
              "      }\n",
              "      quickchartButtonEl.classList.remove('colab-df-spinner');\n",
              "      quickchartButtonEl.classList.add('colab-df-quickchart-complete');\n",
              "    }\n",
              "    (() => {\n",
              "      let quickchartButtonEl =\n",
              "        document.querySelector('#df-8a47d544-d46f-4450-a5a1-7d3d50a280b6 button');\n",
              "      quickchartButtonEl.style.display =\n",
              "        google.colab.kernel.accessAllowed ? 'block' : 'none';\n",
              "    })();\n",
              "  </script>\n",
              "</div>\n",
              "    </div>\n",
              "  </div>\n"
            ]
          },
          "metadata": {},
          "execution_count": 40
        }
      ]
    },
    {
      "cell_type": "code",
      "source": [
        "data['TECNOLOGIA'].unique()"
      ],
      "metadata": {
        "id": "GuxlBt8OGKOd",
        "colab": {
          "base_uri": "https://localhost:8080/"
        },
        "outputId": "d68fe8eb-264e-4c68-9b8d-2107c18ab003"
      },
      "execution_count": null,
      "outputs": [
        {
          "output_type": "execute_result",
          "data": {
            "text/plain": [
              "array(['GPON', 'FIBRA', 'HFC', 'NO IDENTIFICADO', 'COBRE', 'INALAMBRICA'],\n",
              "      dtype=object)"
            ]
          },
          "metadata": {},
          "execution_count": 41
        }
      ]
    },
    {
      "cell_type": "markdown",
      "source": [
        "15. Describir la Columna TECNOLOGÍA\n",
        "\n",
        "\"La columna 'TECNOLOGÍA' es una variable categórica que proporciona información sobre el tipo de tecnología utilizada por cada cliente. Los valores posibles en esta columna incluyen:\"\n",
        "\n",
        "GPON (Gigabit Passive Optical Network) es una tecnología de acceso de fibra óptica que proporciona velocidades de banda ancha de alta velocidad.\n",
        "\n",
        "HFC (Hybrid Fiber-Coaxial) es una tecnología de acceso que utiliza una combinación de fibra óptica y cables coaxiales para la transmisión de datos.\n",
        "\n",
        "INALAMBRICA: La tecnología inalámbrica se refiere a conexiones de red sin cables, como Wi-Fi o redes móviles.\n",
        "\n",
        "COBRE: El cobre se utiliza en tecnologías DSL y proporciona conexiones de banda ancha a través de líneas telefónicas de cobre.\n",
        "\n",
        " FIBRA: La tecnología de fibra óptica utiliza cables de fibra óptica para proporcionar velocidades de Internet extremadamente altas y es muy eficiente en la transmisión de datos."
      ],
      "metadata": {
        "id": "rUEuSYYMf3ud"
      }
    },
    {
      "cell_type": "code",
      "source": [],
      "metadata": {
        "id": "ox0Gi5eVspNZ"
      },
      "execution_count": null,
      "outputs": []
    },
    {
      "cell_type": "code",
      "source": [
        "data.info()\n"
      ],
      "metadata": {
        "id": "QGkg7fvCGEhD"
      },
      "execution_count": null,
      "outputs": []
    },
    {
      "cell_type": "code",
      "source": [
        "# Crear el diagrama de barras\n",
        "plt.figure(figsize=(10, 6))\n",
        "data['TECNOLOGIA'].value_counts().plot(kind='bar')\n",
        "plt.title('Diagrama de Barras de TECNOLOGIA')\n",
        "plt.xlabel('TECNOLOGIA')\n",
        "plt.ylabel('Cantidad')\n",
        "plt.xticks(rotation=45)\n",
        "plt.show()"
      ],
      "metadata": {
        "colab": {
          "base_uri": "https://localhost:8080/",
          "height": 648
        },
        "id": "fAjfbaxvtDSY",
        "outputId": "7890143c-f822-4091-c966-40a65b8e069b"
      },
      "execution_count": null,
      "outputs": [
        {
          "output_type": "display_data",
          "data": {
            "text/plain": [
              "<Figure size 1000x600 with 1 Axes>"
            ],
            "image/png": "[encoded data removed]"
          },
          "metadata": {}
        }
      ]
    },
    {
      "cell_type": "markdown",
      "source": [
        "### 3.2.1.3 Análisis de la Variable ABANDONO\n",
        "\n",
        "La variable Abandono es de nuestro especial interes, puesto que el objetivo de nuestro estudio es identidfciar aquellos cleinte con una alta probabilidad de Cancelar el o los servicios adquiridos con la empresa.\n",
        "\n",
        "En este caso tenemos que '0': ' No canceló' y '1': ' Si Cancelo el servicio'"
      ],
      "metadata": {
        "id": "BIXG1x1KrEij"
      }
    },
    {
      "cell_type": "code",
      "source": [
        "data['ABANDONO'].unique()"
      ],
      "metadata": {
        "colab": {
          "base_uri": "https://localhost:8080/"
        },
        "id": "eSRgQfrProy3",
        "outputId": "12e7dedd-435d-4aca-ef74-9616507fa878"
      },
      "execution_count": null,
      "outputs": [
        {
          "output_type": "execute_result",
          "data": {
            "text/plain": [
              "1"
            ]
          },
          "metadata": {},
          "execution_count": 44
        }
      ]
    },
    {
      "cell_type": "code",
      "source": [
        "# Contar la cantidad de 0s y 1s en la columna 'ABANDONO'\n",
        "abandono_counts = data['ABANDONO'].value_counts()\n",
        "\n",
        "# Crear el diagrama de barras\n",
        "plt.figure(figsize=(6, 4))  # Ajusta el tamaño de la figura si es necesario\n",
        "abandono_counts.plot(kind='bar', color=['blue', 'green'])\n",
        "\n",
        "# Personalizar el gráfico (títulos, etiquetas, etc.)\n",
        "plt.title('Diagrama de Barras de ABANDONO')\n",
        "plt.xlabel('Valor de ABANDONO')\n",
        "plt.ylabel('Cantidad')\n",
        "\n",
        "# Mostrar el gráfico\n",
        "plt.xticks(rotation=0)  # Evita la rotación de etiquetas en el eje x\n",
        "plt.show()"
      ],
      "metadata": {
        "colab": {
          "base_uri": "https://localhost:8080/",
          "height": 410
        },
        "id": "Sg-v7Borr-cD",
        "outputId": "a3dc45c1-614f-4bd3-ca8c-40a60eb84e1f"
      },
      "execution_count": null,
      "outputs": [
        {
          "output_type": "display_data",
          "data": {
            "text/plain": [
              "<Figure size 600x400 with 1 Axes>"
            ],
            "image/png": "[encoded data removed]"
          },
          "metadata": {}
        }
      ]
    },
    {
      "cell_type": "markdown",
      "source": [
        "#### 3.2.2 ANÁLISIS DE LAS VARIABLES ENTERAS"
      ],
      "metadata": {
        "id": "ruV8xFFMLc5s"
      }
    },
    {
      "cell_type": "markdown",
      "source": [
        "Las Variables enteras de la data son:\n",
        "\n",
        "* Dias de Vigencia del servicio\n",
        "* Cantidad de Reportes"
      ],
      "metadata": {
        "id": "skyZE2dlMkAT"
      }
    },
    {
      "cell_type": "code",
      "source": [
        "datos_negativos = data[data['Dias de vigencia del servicio'] < 0]\n",
        "datos_negativos.shape"
      ],
      "metadata": {
        "id": "oaVacemvbPoP",
        "colab": {
          "base_uri": "https://localhost:8080/"
        },
        "outputId": "228acbc5-9723-4868-8455-62c143a5d279"
      },
      "execution_count": null,
      "outputs": [
        {
          "output_type": "execute_result",
          "data": {
            "text/plain": [
              "(2067, 15)"
            ]
          },
          "metadata": {},
          "execution_count": 48
        }
      ]
    },
    {
      "cell_type": "markdown",
      "source": [
        "En este espacio se van a eliminar los valores de la columna 'Dias de vigencia del servicio' que sean negativos, dejando para nuestro análisis solo los que sean estricatemente positivos"
      ],
      "metadata": {
        "id": "TjOUWbXjATcV"
      }
    },
    {
      "cell_type": "code",
      "source": [
        "data=data.loc[data['Dias de vigencia del servicio']>=0]\n",
        "datos_negativos = data[data['Dias de vigencia del servicio'] < 0]\n"
      ],
      "metadata": {
        "id": "6AlYTJIQ_2Ao"
      },
      "execution_count": null,
      "outputs": []
    },
    {
      "cell_type": "code",
      "source": [
        "data_1=data[['Dias de vigencia del servicio', 'Cantidad de reportes']].describe()\n",
        "data_1 = data_1.round(0)\n",
        "data_1"
      ],
      "metadata": {
        "id": "F_lEF-NJGovq"
      },
      "execution_count": null,
      "outputs": []
    },
    {
      "cell_type": "code",
      "source": [
        "dias_vigencia=data['Dias de vigencia del servicio'].value_counts()"
      ],
      "metadata": {
        "id": "LY9usAmIYWR4"
      },
      "execution_count": null,
      "outputs": []
    },
    {
      "cell_type": "code",
      "source": [
        "dias_vigencia"
      ],
      "metadata": {
        "id": "KIgsNwjzYSL1"
      },
      "execution_count": null,
      "outputs": []
    },
    {
      "cell_type": "code",
      "source": [
        "# Crear el histograma\n",
        "plt.figure(figsize=(10, 6))  # Ajusta el tamaño de la figura si es necesario\n",
        "plt.hist(data['Dias de vigencia del servicio'], bins=20, edgecolor='k')\n",
        "\n",
        "# Personalizar el gráfico (títulos, etiquetas, etc.)\n",
        "plt.title('Histograma de Dias de vigencia del servicio')\n",
        "plt.xlabel('Dias de vigencia del servicio')\n",
        "plt.ylabel('Frecuencia')\n",
        "\n",
        "# Mostrar el gráfico\n",
        "plt.show()"
      ],
      "metadata": {
        "colab": {
          "base_uri": "https://localhost:8080/",
          "height": 564
        },
        "id": "VnxlijXNuVn4",
        "outputId": "33f6eb5d-66b2-4550-d1b9-c2f590b8a225"
      },
      "execution_count": null,
      "outputs": [
        {
          "output_type": "display_data",
          "data": {
            "text/plain": [
              "<Figure size 1000x600 with 1 Axes>"
            ],
            "image/png": "[encoded data removed]"
          },
          "metadata": {}
        }
      ]
    },
    {
      "cell_type": "markdown",
      "source": [
        "Variable **Cantidad de Reportes**"
      ],
      "metadata": {
        "id": "Ihn5gaBtaFHE"
      }
    },
    {
      "cell_type": "code",
      "source": [
        "cantidad_reportes=data['Cantidad de reportes']\n",
        "cantidad_reportes.value_counts()"
      ],
      "metadata": {
        "id": "KLFlmMhvZ27w"
      },
      "execution_count": null,
      "outputs": []
    },
    {
      "cell_type": "code",
      "source": [
        "plt.figure(figsize=(10, 6))  # Ajusta el tamaño de la figura si es necesario\n",
        "plt.hist(data['Cantidad de reportes'], bins=20, edgecolor='k')\n",
        "\n",
        "# Personalizar el gráfico (títulos, etiquetas, etc.)\n",
        "plt.title('Histograma de Cantidad de reportes')\n",
        "plt.xlabel('Cantidad de reportes')\n",
        "plt.ylabel('Frecuencia')\n",
        "plt.xlim(-1,30)\n",
        "# Mostrar el gráfico\n",
        "plt.show()"
      ],
      "metadata": {
        "colab": {
          "base_uri": "https://localhost:8080/",
          "height": 564
        },
        "id": "mmZMxhTAvFF3",
        "outputId": "6149877c-f07e-42c8-8823-b2ba242228ee"
      },
      "execution_count": null,
      "outputs": [
        {
          "output_type": "display_data",
          "data": {
            "text/plain": [
              "<Figure size 1000x600 with 1 Axes>"
            ],
            "image/png": "[encoded data removed]"
          },
          "metadata": {}
        }
      ]
    },
    {
      "cell_type": "markdown",
      "source": [
        "#### 3.2.3 ANÁLISIS DE LAS VARIABLES CONTINUAS\n",
        "\n",
        "Las variables continuas en nuestra data son: SALDO Y V.CUENTA, en la data original aparecen con Objetos pero haremos el cambio"
      ],
      "metadata": {
        "id": "QfQd8VPoef7A"
      }
    },
    {
      "cell_type": "code",
      "source": [
        "data['SALDO'] = data['SALDO'].str.replace(',', '').astype(float)\n",
        "data['V.CUENTA'] = data['V.CUENTA'].str.replace(',', '').astype(float)"
      ],
      "metadata": {
        "id": "JT8A-vGgfQJt"
      },
      "execution_count": null,
      "outputs": []
    },
    {
      "cell_type": "code",
      "source": [
        "data_cont=data[['V.CUENTA', 'SALDO']].describe()\n",
        "data_cont_rounded = data_cont.round(2)\n",
        "data_cont_rounded"
      ],
      "metadata": {
        "id": "CXzNwFTUhSy2",
        "colab": {
          "base_uri": "https://localhost:8080/",
          "height": 300
        },
        "outputId": "b4baf495-48e6-447c-af49-1348dd3eeea5"
      },
      "execution_count": null,
      "outputs": [
        {
          "output_type": "execute_result",
          "data": {
            "text/plain": [
              "          V.CUENTA        SALDO\n",
              "count     14534.00     32813.00\n",
              "mean      50157.87     11937.70\n",
              "std      167026.84    115474.89\n",
              "min           0.00    -16920.00\n",
              "25%       21010.00         0.00\n",
              "50%       40240.00         0.00\n",
              "75%       55010.00         0.00\n",
              "max    16078560.00  10921110.00"
            ],
            "text/html": [
              "\n",
              "  <div id=\"df-77920a54-74d4-4829-aefe-a438e44064ce\" class=\"colab-df-container\">\n",
              "    <div>\n",
              "<style scoped>\n",
              "    .dataframe tbody tr th:only-of-type {\n",
              "        vertical-align: middle;\n",
              "    }\n",
              "\n",
              "    .dataframe tbody tr th {\n",
              "        vertical-align: top;\n",
              "    }\n",
              "\n",
              "    .dataframe thead th {\n",
              "        text-align: right;\n",
              "    }\n",
              "</style>\n",
              "<table border=\"1\" class=\"dataframe\">\n",
              "  <thead>\n",
              "    <tr style=\"text-align: right;\">\n",
              "      <th></th>\n",
              "      <th>V.CUENTA</th>\n",
              "      <th>SALDO</th>\n",
              "    </tr>\n",
              "  </thead>\n",
              "  <tbody>\n",
              "    <tr>\n",
              "      <th>count</th>\n",
              "      <td>14534.00</td>\n",
              "      <td>32813.00</td>\n",
              "    </tr>\n",
              "    <tr>\n",
              "      <th>mean</th>\n",
              "      <td>50157.87</td>\n",
              "      <td>11937.70</td>\n",
              "    </tr>\n",
              "    <tr>\n",
              "      <th>std</th>\n",
              "      <td>167026.84</td>\n",
              "      <td>115474.89</td>\n",
              "    </tr>\n",
              "    <tr>\n",
              "      <th>min</th>\n",
              "      <td>0.00</td>\n",
              "      <td>-16920.00</td>\n",
              "    </tr>\n",
              "    <tr>\n",
              "      <th>25%</th>\n",
              "      <td>21010.00</td>\n",
              "      <td>0.00</td>\n",
              "    </tr>\n",
              "    <tr>\n",
              "      <th>50%</th>\n",
              "      <td>40240.00</td>\n",
              "      <td>0.00</td>\n",
              "    </tr>\n",
              "    <tr>\n",
              "      <th>75%</th>\n",
              "      <td>55010.00</td>\n",
              "      <td>0.00</td>\n",
              "    </tr>\n",
              "    <tr>\n",
              "      <th>max</th>\n",
              "      <td>16078560.00</td>\n",
              "      <td>10921110.00</td>\n",
              "    </tr>\n",
              "  </tbody>\n",
              "</table>\n",
              "</div>\n",
              "    <div class=\"colab-df-buttons\">\n",
              "\n",
              "  <div class=\"colab-df-container\">\n",
              "    <button class=\"colab-df-convert\" onclick=\"convertToInteractive('df-77920a54-74d4-4829-aefe-a438e44064ce')\"\n",
              "            title=\"Convert this dataframe to an interactive table.\"\n",
              "            style=\"display:none;\">\n",
              "\n",
              "  <svg xmlns=\"http://www.w3.org/2000/svg\" height=\"24px\" viewBox=\"0 -960 960 960\">\n",
              "    <path d=\"M120-120v-720h720v720H120Zm60-500h600v-160H180v160Zm220 220h160v-160H400v160Zm0 220h160v-160H400v160ZM180-400h160v-160H180v160Zm440 0h160v-160H620v160ZM180-180h160v-160H180v160Zm440 0h160v-160H620v160Z\"/>\n",
              "  </svg>\n",
              "    </button>\n",
              "\n",
              "  <style>\n",
              "    .colab-df-container {\n",
              "      display:flex;\n",
              "      gap: 12px;\n",
              "    }\n",
              "\n",
              "    .colab-df-convert {\n",
              "      background-color: #E8F0FE;\n",
              "      border: none;\n",
              "      border-radius: 50%;\n",
              "      cursor: pointer;\n",
              "      display: none;\n",
              "      fill: #1967D2;\n",
              "      height: 32px;\n",
              "      padding: 0 0 0 0;\n",
              "      width: 32px;\n",
              "    }\n",
              "\n",
              "    .colab-df-convert:hover {\n",
              "      background-color: #E2EBFA;\n",
              "      box-shadow: 0px 1px 2px rgba(60, 64, 67, 0.3), 0px 1px 3px 1px rgba(60, 64, 67, 0.15);\n",
              "      fill: #174EA6;\n",
              "    }\n",
              "\n",
              "    .colab-df-buttons div {\n",
              "      margin-bottom: 4px;\n",
              "    }\n",
              "\n",
              "    [theme=dark] .colab-df-convert {\n",
              "      background-color: #3B4455;\n",
              "      fill: #D2E3FC;\n",
              "    }\n",
              "\n",
              "    [theme=dark] .colab-df-convert:hover {\n",
              "      background-color: #434B5C;\n",
              "      box-shadow: 0px 1px 3px 1px rgba(0, 0, 0, 0.15);\n",
              "      filter: drop-shadow(0px 1px 2px rgba(0, 0, 0, 0.3));\n",
              "      fill: #FFFFFF;\n",
              "    }\n",
              "  </style>\n",
              "\n",
              "    <script>\n",
              "      const buttonEl =\n",
              "        document.querySelector('#df-77920a54-74d4-4829-aefe-a438e44064ce button.colab-df-convert');\n",
              "      buttonEl.style.display =\n",
              "        google.colab.kernel.accessAllowed ? 'block' : 'none';\n",
              "\n",
              "      async function convertToInteractive(key) {\n",
              "        const element = document.querySelector('#df-77920a54-74d4-4829-aefe-a438e44064ce');\n",
              "        const dataTable =\n",
              "          await google.colab.kernel.invokeFunction('convertToInteractive',\n",
              "                                                    [key], {});\n",
              "        if (!dataTable) return;\n",
              "\n",
              "        const docLinkHtml = 'Like what you see? Visit the ' +\n",
              "          '<a target=\"_blank\" href=https://colab.research.google.com/notebooks/data_table.ipynb>data table notebook</a>'\n",
              "          + ' to learn more about interactive tables.';\n",
              "        element.innerHTML = '';\n",
              "        dataTable['output_type'] = 'display_data';\n",
              "        await google.colab.output.renderOutput(dataTable, element);\n",
              "        const docLink = document.createElement('div');\n",
              "        docLink.innerHTML = docLinkHtml;\n",
              "        element.appendChild(docLink);\n",
              "      }\n",
              "    </script>\n",
              "  </div>\n",
              "\n",
              "\n",
              "<div id=\"df-2fc34e0d-da38-4580-aa6d-cb273deba9ab\">\n",
              "  <button class=\"colab-df-quickchart\" onclick=\"quickchart('df-2fc34e0d-da38-4580-aa6d-cb273deba9ab')\"\n",
              "            title=\"Suggest charts.\"\n",
              "            style=\"display:none;\">\n",
              "\n",
              "<svg xmlns=\"http://www.w3.org/2000/svg\" height=\"24px\"viewBox=\"0 0 24 24\"\n",
              "     width=\"24px\">\n",
              "    <g>\n",
              "        <path d=\"M19 3H5c-1.1 0-2 .9-2 2v14c0 1.1.9 2 2 2h14c1.1 0 2-.9 2-2V5c0-1.1-.9-2-2-2zM9 17H7v-7h2v7zm4 0h-2V7h2v10zm4 0h-2v-4h2v4z\"/>\n",
              "    </g>\n",
              "</svg>\n",
              "  </button>\n",
              "\n",
              "<style>\n",
              "  .colab-df-quickchart {\n",
              "      --bg-color: #E8F0FE;\n",
              "      --fill-color: #1967D2;\n",
              "      --hover-bg-color: #E2EBFA;\n",
              "      --hover-fill-color: #174EA6;\n",
              "      --disabled-fill-color: #AAA;\n",
              "      --disabled-bg-color: #DDD;\n",
              "  }\n",
              "\n",
              "  [theme=dark] .colab-df-quickchart {\n",
              "      --bg-color: #3B4455;\n",
              "      --fill-color: #D2E3FC;\n",
              "      --hover-bg-color: #434B5C;\n",
              "      --hover-fill-color: #FFFFFF;\n",
              "      --disabled-bg-color: #3B4455;\n",
              "      --disabled-fill-color: #666;\n",
              "  }\n",
              "\n",
              "  .colab-df-quickchart {\n",
              "    background-color: var(--bg-color);\n",
              "    border: none;\n",
              "    border-radius: 50%;\n",
              "    cursor: pointer;\n",
              "    display: none;\n",
              "    fill: var(--fill-color);\n",
              "    height: 32px;\n",
              "    padding: 0;\n",
              "    width: 32px;\n",
              "  }\n",
              "\n",
              "  .colab-df-quickchart:hover {\n",
              "    background-color: var(--hover-bg-color);\n",
              "    box-shadow: 0 1px 2px rgba(60, 64, 67, 0.3), 0 1px 3px 1px rgba(60, 64, 67, 0.15);\n",
              "    fill: var(--button-hover-fill-color);\n",
              "  }\n",
              "\n",
              "  .colab-df-quickchart-complete:disabled,\n",
              "  .colab-df-quickchart-complete:disabled:hover {\n",
              "    background-color: var(--disabled-bg-color);\n",
              "    fill: var(--disabled-fill-color);\n",
              "    box-shadow: none;\n",
              "  }\n",
              "\n",
              "  .colab-df-spinner {\n",
              "    border: 2px solid var(--fill-color);\n",
              "    border-color: transparent;\n",
              "    border-bottom-color: var(--fill-color);\n",
              "    animation:\n",
              "      spin 1s steps(1) infinite;\n",
              "  }\n",
              "\n",
              "  @keyframes spin {\n",
              "    0% {\n",
              "      border-color: transparent;\n",
              "      border-bottom-color: var(--fill-color);\n",
              "      border-left-color: var(--fill-color);\n",
              "    }\n",
              "    20% {\n",
              "      border-color: transparent;\n",
              "      border-left-color: var(--fill-color);\n",
              "      border-top-color: var(--fill-color);\n",
              "    }\n",
              "    30% {\n",
              "      border-color: transparent;\n",
              "      border-left-color: var(--fill-color);\n",
              "      border-top-color: var(--fill-color);\n",
              "      border-right-color: var(--fill-color);\n",
              "    }\n",
              "    40% {\n",
              "      border-color: transparent;\n",
              "      border-right-color: var(--fill-color);\n",
              "      border-top-color: var(--fill-color);\n",
              "    }\n",
              "    60% {\n",
              "      border-color: transparent;\n",
              "      border-right-color: var(--fill-color);\n",
              "    }\n",
              "    80% {\n",
              "      border-color: transparent;\n",
              "      border-right-color: var(--fill-color);\n",
              "      border-bottom-color: var(--fill-color);\n",
              "    }\n",
              "    90% {\n",
              "      border-color: transparent;\n",
              "      border-bottom-color: var(--fill-color);\n",
              "    }\n",
              "  }\n",
              "</style>\n",
              "\n",
              "  <script>\n",
              "    async function quickchart(key) {\n",
              "      const quickchartButtonEl =\n",
              "        document.querySelector('#' + key + ' button');\n",
              "      quickchartButtonEl.disabled = true;  // To prevent multiple clicks.\n",
              "      quickchartButtonEl.classList.add('colab-df-spinner');\n",
              "      try {\n",
              "        const charts = await google.colab.kernel.invokeFunction(\n",
              "            'suggestCharts', [key], {});\n",
              "      } catch (error) {\n",
              "        console.error('Error during call to suggestCharts:', error);\n",
              "      }\n",
              "      quickchartButtonEl.classList.remove('colab-df-spinner');\n",
              "      quickchartButtonEl.classList.add('colab-df-quickchart-complete');\n",
              "    }\n",
              "    (() => {\n",
              "      let quickchartButtonEl =\n",
              "        document.querySelector('#df-2fc34e0d-da38-4580-aa6d-cb273deba9ab button');\n",
              "      quickchartButtonEl.style.display =\n",
              "        google.colab.kernel.accessAllowed ? 'block' : 'none';\n",
              "    })();\n",
              "  </script>\n",
              "</div>\n",
              "    </div>\n",
              "  </div>\n"
            ]
          },
          "metadata": {},
          "execution_count": 61
        }
      ]
    },
    {
      "cell_type": "code",
      "source": [
        "data['V.CUENTA'].unique()"
      ],
      "metadata": {
        "id": "jJFnapQ0Cxdj",
        "colab": {
          "base_uri": "https://localhost:8080/"
        },
        "outputId": "907faff3-ba4b-449a-b725-4b908b18edcc"
      },
      "execution_count": null,
      "outputs": [
        {
          "output_type": "execute_result",
          "data": {
            "text/plain": [
              "array([ 55010., 127390.,  71390., ...,  19930.,  29660.,     nan])"
            ]
          },
          "metadata": {},
          "execution_count": 62
        }
      ]
    },
    {
      "cell_type": "code",
      "source": [
        "plt.figure(figsize=(8, 6))\n",
        "plt.hist(data['V.CUENTA'], bins=20, alpha=0.5, label='V.CUENTA', color='blue')\n",
        "plt.hist(data['SALDO'], bins=20, alpha=0.5, label='SALDO', color='green')\n",
        "plt.title('Histograma de V.CUENTA y SALDO')\n",
        "plt.xlabel('Valores')\n",
        "plt.ylabel('Frecuencia')\n",
        "plt.legend()\n",
        "plt.show()"
      ],
      "metadata": {
        "colab": {
          "base_uri": "https://localhost:8080/",
          "height": 564
        },
        "id": "U10m3OWswGoY",
        "outputId": "f982291d-9b6d-4a7c-e628-7958959b59d5"
      },
      "execution_count": null,
      "outputs": [
        {
          "output_type": "display_data",
          "data": {
            "text/plain": [
              "<Figure size 800x600 with 1 Axes>"
            ],
            "image/png": "[encoded data removed]"
          },
          "metadata": {}
        }
      ]
    },
    {
      "cell_type": "markdown",
      "source": [
        "### 3.3 ANÁLISIS DE OUTLIERS\n",
        "Vamos a analizar los datos atípico que podemos encontrar en las variables continuas"
      ],
      "metadata": {
        "id": "MthlHP35haAH"
      }
    },
    {
      "cell_type": "code",
      "source": [
        "import matplotlib.pyplot as plt\n",
        "\n",
        "columnas_continuas = ['V.CUENTA', 'SALDO']\n",
        "\n",
        "# Crea una cuadrícula de subgráficos con 1 fila y 3 columnas\n",
        "fig, axes = plt.subplots(nrows=1, ncols=2, figsize=(12, 4))\n",
        "for i, columna in enumerate(columnas_continuas):\n",
        "    data[columna].plot.box(ax=axes[i])\n",
        "    axes[i].set_title(columna)"
      ],
      "metadata": {
        "id": "BNmw957oeQW0",
        "colab": {
          "base_uri": "https://localhost:8080/",
          "height": 391
        },
        "outputId": "5de6a099-ffd3-44dd-e5e9-380a6708a610"
      },
      "execution_count": null,
      "outputs": [
        {
          "output_type": "display_data",
          "data": {
            "text/plain": [
              "<Figure size 1200x400 with 2 Axes>"
            ],
            "image/png": "[encoded data removed]"
          },
          "metadata": {}
        }
      ]
    },
    {
      "cell_type": "code",
      "source": [],
      "metadata": {
        "id": "eHYb4jXxCPw1"
      },
      "execution_count": null,
      "outputs": []
    },
    {
      "cell_type": "markdown",
      "source": [
        "#### 3.3.1 Análisis de los Outliers de V. Cuenta.\n",
        "\n",
        "Podemos observar como en la Columna V.cuenta existen datos atípico demasiados alejados. esto se explica porque entre los clientes existen aquellos que son estrato 7 , los cuales se consideran corporativos. Las facturas que pagan estas empresas están muy por encima de la media.  "
      ],
      "metadata": {
        "id": "jCOoMASLh1jA"
      }
    },
    {
      "cell_type": "markdown",
      "source": [
        "#### 3.3.1 Análisis de los Outliers de SALDO\n",
        "\n",
        "Con los saldos sucede algo similar, las empresas que facturan alto en la cuenta, cuando se retrasan facturan alto en intereses aumentando asi sus saldos, los cuales están muy por encima de la mediana"
      ],
      "metadata": {
        "id": "n9HoqVSGiB3B"
      }
    },
    {
      "cell_type": "markdown",
      "source": [
        "#### CONCLUSIÓN DE LOS OUTLIERS"
      ],
      "metadata": {
        "id": "2Pai6ZnxiLsq"
      }
    },
    {
      "cell_type": "markdown",
      "source": [
        "Eliminar los outliers de las empresas que facturan excesivamente en el grupo de estrato 7 resulta esencial para salvaguardar la integridad y la validez de nuestro análisis de datos. En primer lugar, las empresas con facturación extremadamente alta tienen el potencial de distorsionar de manera significativa las estadísticas y métricas de resumen que utilizamos en nuestro análisis.\n",
        "\n",
        "Este fenómeno puede desembocar en conclusiones inexactas y decisiones erróneas basadas en datos sesgados, ya que los valores extremadamente elevados tienden a inflar la media y la desviación estándar de nuestros datos. Como consecuencia, nuestra capacidad para interpretar con precisión los resultados de nuestros modelos y tomar decisiones informadas se ve comprometida de manera negativa.\n",
        "\n",
        "En segundo lugar, la omisión de los outliers nos permite mantener un análisis más limpio y concentrarnos en las tendencias y comportamientos típicos de las empresas que conforman el estrato 7. Esto se traduce en una mayor capacidad de nuestros modelos para identificar y generalizar patrones relevantes en los datos, lo que, a su vez, potencia nuestras predicciones y nos proporciona una comprensión más precisa de la mayoría de los casos.\n",
        "\n",
        "En síntesis, la eliminación de los outliers provenientes de las empresas con facturación excesiva en el grupo de estrato 7 es esencial para garantizar la calidad de nuestro análisis, respaldar nuestras decisiones con datos representativos y optimizar la capacidad predictiva de nuestros modelos."
      ],
      "metadata": {
        "id": "CMgbBVvWi628"
      }
    },
    {
      "cell_type": "code",
      "source": [
        "data['V.CUENTA'].unique()"
      ],
      "metadata": {
        "id": "VZ__o3VEHGU1",
        "colab": {
          "base_uri": "https://localhost:8080/"
        },
        "outputId": "8bfe538d-b6a6-47b6-8ee8-0978cc128402"
      },
      "execution_count": null,
      "outputs": [
        {
          "output_type": "execute_result",
          "data": {
            "text/plain": [
              "array([ 55010., 127390.,  71390., ...,  32080.,  19930.,  29660.])"
            ]
          },
          "metadata": {},
          "execution_count": 111
        }
      ]
    },
    {
      "cell_type": "code",
      "source": [
        "data['V.CUENTA'].fillna(40240, inplace=True)"
      ],
      "metadata": {
        "id": "AINeu_FrLXrO"
      },
      "execution_count": null,
      "outputs": []
    },
    {
      "cell_type": "code",
      "source": [
        "data_copy=data.copy()"
      ],
      "metadata": {
        "id": "DQ8c577hH3yv"
      },
      "execution_count": null,
      "outputs": []
    },
    {
      "cell_type": "code",
      "source": [
        "data_copy.shape"
      ],
      "metadata": {
        "id": "xVfhX3gnJg7j",
        "colab": {
          "base_uri": "https://localhost:8080/"
        },
        "outputId": "8c3340db-1a4b-4b37-8cb8-82dee4486065"
      },
      "execution_count": null,
      "outputs": [
        {
          "output_type": "execute_result",
          "data": {
            "text/plain": [
              "(32813, 15)"
            ]
          },
          "metadata": {},
          "execution_count": 114
        }
      ]
    },
    {
      "cell_type": "code",
      "source": [
        "data_copy['SALDO'].describe()"
      ],
      "metadata": {
        "id": "wjQU2DSaJvn3",
        "colab": {
          "base_uri": "https://localhost:8080/"
        },
        "outputId": "91a80ce9-037e-4e93-f4cc-6b1f3f4e23fe"
      },
      "execution_count": null,
      "outputs": [
        {
          "output_type": "execute_result",
          "data": {
            "text/plain": [
              "count    3.281300e+04\n",
              "mean     1.193770e+04\n",
              "std      1.154749e+05\n",
              "min     -1.692000e+04\n",
              "25%      0.000000e+00\n",
              "50%      0.000000e+00\n",
              "75%      0.000000e+00\n",
              "max      1.092111e+07\n",
              "Name: SALDO, dtype: float64"
            ]
          },
          "metadata": {},
          "execution_count": 115
        }
      ]
    },
    {
      "cell_type": "markdown",
      "source": [
        "Vamos a tomar todos los datos que estén por debajo del tercer rango intercuartilico"
      ],
      "metadata": {
        "id": "riUIRnktwXut"
      }
    },
    {
      "cell_type": "code",
      "source": [
        "rango_ic = np.percentile(data_copy['V.CUENTA'], 75) - np.percentile(data_copy['V.CUENTA'], 25)\n",
        "lim_superior = np.percentile(data_copy['V.CUENTA'], 75) +1.5*rango_ic\n",
        "lim_superior"
      ],
      "metadata": {
        "id": "FP_uc9CTKttf",
        "colab": {
          "base_uri": "https://localhost:8080/"
        },
        "outputId": "e8ae974e-9117-42ba-a14e-56b3fde79a21"
      },
      "execution_count": null,
      "outputs": [
        {
          "output_type": "execute_result",
          "data": {
            "text/plain": [
              "40240.0"
            ]
          },
          "metadata": {},
          "execution_count": 116
        }
      ]
    },
    {
      "cell_type": "code",
      "source": [
        "datos_filtrados = data_copy[data_copy['V.CUENTA'] < lim_superior]\n",
        "#datos_filtrados=data_copy[data_copy['SALDO']< 50000]"
      ],
      "metadata": {
        "id": "vMCN356zwmpB"
      },
      "execution_count": null,
      "outputs": []
    },
    {
      "cell_type": "code",
      "source": [
        "datos_filtrados['V.CUENTA'].describe()"
      ],
      "metadata": {
        "id": "atbwnHt_FYQg",
        "colab": {
          "base_uri": "https://localhost:8080/"
        },
        "outputId": "41ac0ca6-1fb0-4b22-948c-d680aa09c2de"
      },
      "execution_count": null,
      "outputs": [
        {
          "output_type": "execute_result",
          "data": {
            "text/plain": [
              "count     7258.000000\n",
              "mean     22059.571507\n",
              "std      13324.346658\n",
              "min          0.000000\n",
              "25%       9050.000000\n",
              "50%      21010.000000\n",
              "75%      35107.500000\n",
              "max      40220.000000\n",
              "Name: V.CUENTA, dtype: float64"
            ]
          },
          "metadata": {},
          "execution_count": 118
        }
      ]
    },
    {
      "cell_type": "code",
      "source": [
        "import matplotlib.pyplot as plt\n",
        "\n",
        "columnas_continuas = ['V.CUENTA', 'SALDO']\n",
        "\n",
        "# Crea una cuadrícula de subgráficos con 1 fila y 3 columnas\n",
        "fig, axes = plt.subplots(nrows=1, ncols=2, figsize=(12, 4))\n",
        "for i, columna in enumerate(columnas_continuas):\n",
        "    datos_filtrados[columna].plot.box(ax=axes[i])\n",
        "    axes[i].set_title(columna)"
      ],
      "metadata": {
        "colab": {
          "base_uri": "https://localhost:8080/",
          "height": 391
        },
        "id": "gyWjOcbhxorK",
        "outputId": "eab713cc-01b0-419d-ecab-cfe731c84591"
      },
      "execution_count": null,
      "outputs": [
        {
          "output_type": "display_data",
          "data": {
            "text/plain": [
              "<Figure size 1200x400 with 2 Axes>"
            ],
            "image/png": "[encoded data removed]"
          },
          "metadata": {}
        }
      ]
    },
    {
      "cell_type": "markdown",
      "source": [
        "## Feuture Engineering"
      ],
      "metadata": {
        "id": "MSd_2JLd-T6H"
      }
    },
    {
      "cell_type": "code",
      "source": [
        "\n"
      ],
      "metadata": {
        "id": "rTEFEv5Gz692"
      },
      "execution_count": null,
      "outputs": []
    },
    {
      "cell_type": "markdown",
      "source": [
        "### Modelo de decisión"
      ],
      "metadata": {
        "id": "dinT1qhv1BwB"
      }
    },
    {
      "cell_type": "code",
      "source": [
        "from sklearn.model_selection import train_test_split\n",
        "from sklearn.tree import DecisionTreeClassifier\n",
        "from sklearn.metrics import accuracy_score\n",
        "\n",
        "X = data_copy[['CATEGORIA','Dias de vigencia del servicio','Cantidad de reportes']]\n",
        "y = data_copy['ABANDONO']\n",
        "\n",
        "# Separación entrenamiento y prueba\n",
        "X_train, X_test, y_train, y_test = train_test_split(X, y, test_size=0.2, random_state=42)\n",
        "\n",
        "# Modelo\n",
        "clf = DecisionTreeClassifier(max_depth=5)\n",
        "\n",
        "# Entrenamiento\n",
        "clf.fit(X_train, y_train)\n",
        "\n",
        "# Prueba\n",
        "y_pred = clf.predict(X_test)\n",
        "\n",
        "# Precisión\n",
        "accuracy = accuracy_score(y_test, y_pred)\n",
        "print(f\"Precisión del modelo de árbol de decisiones: {accuracy}\")"
      ],
      "metadata": {
        "id": "Mk3SIGepMpFE",
        "colab": {
          "base_uri": "https://localhost:8080/"
        },
        "outputId": "79d1787e-9e9c-45b5-c11b-a6fd106c0065"
      },
      "execution_count": null,
      "outputs": [
        {
          "output_type": "stream",
          "name": "stdout",
          "text": [
            "Precisión del modelo de árbol de decisiones: 0.7332012799024836\n"
          ]
        }
      ]
    },
    {
      "cell_type": "code",
      "source": [
        "df_prueba = X_test\n",
        "df_prueba['test'] = y_test\n",
        "df_prueba['pred'] = y_pred\n",
        "\n",
        "df_prueba"
      ],
      "metadata": {
        "id": "CZVIwAn9RWGK",
        "colab": {
          "base_uri": "https://localhost:8080/",
          "height": 423
        },
        "outputId": "e1b80517-730f-4f33-cc41-9c90eb2598db"
      },
      "execution_count": null,
      "outputs": [
        {
          "output_type": "execute_result",
          "data": {
            "text/plain": [
              "      CATEGORIA  Dias de vigencia del servicio  Cantidad de reportes  test  \\\n",
              "6595         60                            642                     0     0   \n",
              "22027         8                            721                     0     1   \n",
              "21583         8                            560                     5     1   \n",
              "21626         8                            243                     2     1   \n",
              "33198         3                            371                     0     1   \n",
              "...         ...                            ...                   ...   ...   \n",
              "26793        60                           2120                     1     1   \n",
              "23618        60                            778                     5     1   \n",
              "11273         3                           1482                     0     0   \n",
              "10427         3                           4115                     0     0   \n",
              "20452        60                            167                     0     1   \n",
              "\n",
              "       pred  \n",
              "6595      1  \n",
              "22027     1  \n",
              "21583     1  \n",
              "21626     1  \n",
              "33198     0  \n",
              "...     ...  \n",
              "26793     1  \n",
              "23618     1  \n",
              "11273     0  \n",
              "10427     0  \n",
              "20452     1  \n",
              "\n",
              "[6563 rows x 5 columns]"
            ],
            "text/html": [
              "\n",
              "  <div id=\"df-2cae6795-1370-4899-b69e-fa5ab145eb14\" class=\"colab-df-container\">\n",
              "    <div>\n",
              "<style scoped>\n",
              "    .dataframe tbody tr th:only-of-type {\n",
              "        vertical-align: middle;\n",
              "    }\n",
              "\n",
              "    .dataframe tbody tr th {\n",
              "        vertical-align: top;\n",
              "    }\n",
              "\n",
              "    .dataframe thead th {\n",
              "        text-align: right;\n",
              "    }\n",
              "</style>\n",
              "<table border=\"1\" class=\"dataframe\">\n",
              "  <thead>\n",
              "    <tr style=\"text-align: right;\">\n",
              "      <th></th>\n",
              "      <th>CATEGORIA</th>\n",
              "      <th>Dias de vigencia del servicio</th>\n",
              "      <th>Cantidad de reportes</th>\n",
              "      <th>test</th>\n",
              "      <th>pred</th>\n",
              "    </tr>\n",
              "  </thead>\n",
              "  <tbody>\n",
              "    <tr>\n",
              "      <th>6595</th>\n",
              "      <td>60</td>\n",
              "      <td>642</td>\n",
              "      <td>0</td>\n",
              "      <td>0</td>\n",
              "      <td>1</td>\n",
              "    </tr>\n",
              "    <tr>\n",
              "      <th>22027</th>\n",
              "      <td>8</td>\n",
              "      <td>721</td>\n",
              "      <td>0</td>\n",
              "      <td>1</td>\n",
              "      <td>1</td>\n",
              "    </tr>\n",
              "    <tr>\n",
              "      <th>21583</th>\n",
              "      <td>8</td>\n",
              "      <td>560</td>\n",
              "      <td>5</td>\n",
              "      <td>1</td>\n",
              "      <td>1</td>\n",
              "    </tr>\n",
              "    <tr>\n",
              "      <th>21626</th>\n",
              "      <td>8</td>\n",
              "      <td>243</td>\n",
              "      <td>2</td>\n",
              "      <td>1</td>\n",
              "      <td>1</td>\n",
              "    </tr>\n",
              "    <tr>\n",
              "      <th>33198</th>\n",
              "      <td>3</td>\n",
              "      <td>371</td>\n",
              "      <td>0</td>\n",
              "      <td>1</td>\n",
              "      <td>0</td>\n",
              "    </tr>\n",
              "    <tr>\n",
              "      <th>...</th>\n",
              "      <td>...</td>\n",
              "      <td>...</td>\n",
              "      <td>...</td>\n",
              "      <td>...</td>\n",
              "      <td>...</td>\n",
              "    </tr>\n",
              "    <tr>\n",
              "      <th>26793</th>\n",
              "      <td>60</td>\n",
              "      <td>2120</td>\n",
              "      <td>1</td>\n",
              "      <td>1</td>\n",
              "      <td>1</td>\n",
              "    </tr>\n",
              "    <tr>\n",
              "      <th>23618</th>\n",
              "      <td>60</td>\n",
              "      <td>778</td>\n",
              "      <td>5</td>\n",
              "      <td>1</td>\n",
              "      <td>1</td>\n",
              "    </tr>\n",
              "    <tr>\n",
              "      <th>11273</th>\n",
              "      <td>3</td>\n",
              "      <td>1482</td>\n",
              "      <td>0</td>\n",
              "      <td>0</td>\n",
              "      <td>0</td>\n",
              "    </tr>\n",
              "    <tr>\n",
              "      <th>10427</th>\n",
              "      <td>3</td>\n",
              "      <td>4115</td>\n",
              "      <td>0</td>\n",
              "      <td>0</td>\n",
              "      <td>0</td>\n",
              "    </tr>\n",
              "    <tr>\n",
              "      <th>20452</th>\n",
              "      <td>60</td>\n",
              "      <td>167</td>\n",
              "      <td>0</td>\n",
              "      <td>1</td>\n",
              "      <td>1</td>\n",
              "    </tr>\n",
              "  </tbody>\n",
              "</table>\n",
              "<p>6563 rows × 5 columns</p>\n",
              "</div>\n",
              "    <div class=\"colab-df-buttons\">\n",
              "\n",
              "  <div class=\"colab-df-container\">\n",
              "    <button class=\"colab-df-convert\" onclick=\"convertToInteractive('df-2cae6795-1370-4899-b69e-fa5ab145eb14')\"\n",
              "            title=\"Convert this dataframe to an interactive table.\"\n",
              "            style=\"display:none;\">\n",
              "\n",
              "  <svg xmlns=\"http://www.w3.org/2000/svg\" height=\"24px\" viewBox=\"0 -960 960 960\">\n",
              "    <path d=\"M120-120v-720h720v720H120Zm60-500h600v-160H180v160Zm220 220h160v-160H400v160Zm0 220h160v-160H400v160ZM180-400h160v-160H180v160Zm440 0h160v-160H620v160ZM180-180h160v-160H180v160Zm440 0h160v-160H620v160Z\"/>\n",
              "  </svg>\n",
              "    </button>\n",
              "\n",
              "  <style>\n",
              "    .colab-df-container {\n",
              "      display:flex;\n",
              "      gap: 12px;\n",
              "    }\n",
              "\n",
              "    .colab-df-convert {\n",
              "      background-color: #E8F0FE;\n",
              "      border: none;\n",
              "      border-radius: 50%;\n",
              "      cursor: pointer;\n",
              "      display: none;\n",
              "      fill: #1967D2;\n",
              "      height: 32px;\n",
              "      padding: 0 0 0 0;\n",
              "      width: 32px;\n",
              "    }\n",
              "\n",
              "    .colab-df-convert:hover {\n",
              "      background-color: #E2EBFA;\n",
              "      box-shadow: 0px 1px 2px rgba(60, 64, 67, 0.3), 0px 1px 3px 1px rgba(60, 64, 67, 0.15);\n",
              "      fill: #174EA6;\n",
              "    }\n",
              "\n",
              "    .colab-df-buttons div {\n",
              "      margin-bottom: 4px;\n",
              "    }\n",
              "\n",
              "    [theme=dark] .colab-df-convert {\n",
              "      background-color: #3B4455;\n",
              "      fill: #D2E3FC;\n",
              "    }\n",
              "\n",
              "    [theme=dark] .colab-df-convert:hover {\n",
              "      background-color: #434B5C;\n",
              "      box-shadow: 0px 1px 3px 1px rgba(0, 0, 0, 0.15);\n",
              "      filter: drop-shadow(0px 1px 2px rgba(0, 0, 0, 0.3));\n",
              "      fill: #FFFFFF;\n",
              "    }\n",
              "  </style>\n",
              "\n",
              "    <script>\n",
              "      const buttonEl =\n",
              "        document.querySelector('#df-2cae6795-1370-4899-b69e-fa5ab145eb14 button.colab-df-convert');\n",
              "      buttonEl.style.display =\n",
              "        google.colab.kernel.accessAllowed ? 'block' : 'none';\n",
              "\n",
              "      async function convertToInteractive(key) {\n",
              "        const element = document.querySelector('#df-2cae6795-1370-4899-b69e-fa5ab145eb14');\n",
              "        const dataTable =\n",
              "          await google.colab.kernel.invokeFunction('convertToInteractive',\n",
              "                                                    [key], {});\n",
              "        if (!dataTable) return;\n",
              "\n",
              "        const docLinkHtml = 'Like what you see? Visit the ' +\n",
              "          '<a target=\"_blank\" href=https://colab.research.google.com/notebooks/data_table.ipynb>data table notebook</a>'\n",
              "          + ' to learn more about interactive tables.';\n",
              "        element.innerHTML = '';\n",
              "        dataTable['output_type'] = 'display_data';\n",
              "        await google.colab.output.renderOutput(dataTable, element);\n",
              "        const docLink = document.createElement('div');\n",
              "        docLink.innerHTML = docLinkHtml;\n",
              "        element.appendChild(docLink);\n",
              "      }\n",
              "    </script>\n",
              "  </div>\n",
              "\n",
              "\n",
              "<div id=\"df-13bc8919-60de-4562-adfd-0f1e341f4fac\">\n",
              "  <button class=\"colab-df-quickchart\" onclick=\"quickchart('df-13bc8919-60de-4562-adfd-0f1e341f4fac')\"\n",
              "            title=\"Suggest charts.\"\n",
              "            style=\"display:none;\">\n",
              "\n",
              "<svg xmlns=\"http://www.w3.org/2000/svg\" height=\"24px\"viewBox=\"0 0 24 24\"\n",
              "     width=\"24px\">\n",
              "    <g>\n",
              "        <path d=\"M19 3H5c-1.1 0-2 .9-2 2v14c0 1.1.9 2 2 2h14c1.1 0 2-.9 2-2V5c0-1.1-.9-2-2-2zM9 17H7v-7h2v7zm4 0h-2V7h2v10zm4 0h-2v-4h2v4z\"/>\n",
              "    </g>\n",
              "</svg>\n",
              "  </button>\n",
              "\n",
              "<style>\n",
              "  .colab-df-quickchart {\n",
              "      --bg-color: #E8F0FE;\n",
              "      --fill-color: #1967D2;\n",
              "      --hover-bg-color: #E2EBFA;\n",
              "      --hover-fill-color: #174EA6;\n",
              "      --disabled-fill-color: #AAA;\n",
              "      --disabled-bg-color: #DDD;\n",
              "  }\n",
              "\n",
              "  [theme=dark] .colab-df-quickchart {\n",
              "      --bg-color: #3B4455;\n",
              "      --fill-color: #D2E3FC;\n",
              "      --hover-bg-color: #434B5C;\n",
              "      --hover-fill-color: #FFFFFF;\n",
              "      --disabled-bg-color: #3B4455;\n",
              "      --disabled-fill-color: #666;\n",
              "  }\n",
              "\n",
              "  .colab-df-quickchart {\n",
              "    background-color: var(--bg-color);\n",
              "    border: none;\n",
              "    border-radius: 50%;\n",
              "    cursor: pointer;\n",
              "    display: none;\n",
              "    fill: var(--fill-color);\n",
              "    height: 32px;\n",
              "    padding: 0;\n",
              "    width: 32px;\n",
              "  }\n",
              "\n",
              "  .colab-df-quickchart:hover {\n",
              "    background-color: var(--hover-bg-color);\n",
              "    box-shadow: 0 1px 2px rgba(60, 64, 67, 0.3), 0 1px 3px 1px rgba(60, 64, 67, 0.15);\n",
              "    fill: var(--button-hover-fill-color);\n",
              "  }\n",
              "\n",
              "  .colab-df-quickchart-complete:disabled,\n",
              "  .colab-df-quickchart-complete:disabled:hover {\n",
              "    background-color: var(--disabled-bg-color);\n",
              "    fill: var(--disabled-fill-color);\n",
              "    box-shadow: none;\n",
              "  }\n",
              "\n",
              "  .colab-df-spinner {\n",
              "    border: 2px solid var(--fill-color);\n",
              "    border-color: transparent;\n",
              "    border-bottom-color: var(--fill-color);\n",
              "    animation:\n",
              "      spin 1s steps(1) infinite;\n",
              "  }\n",
              "\n",
              "  @keyframes spin {\n",
              "    0% {\n",
              "      border-color: transparent;\n",
              "      border-bottom-color: var(--fill-color);\n",
              "      border-left-color: var(--fill-color);\n",
              "    }\n",
              "    20% {\n",
              "      border-color: transparent;\n",
              "      border-left-color: var(--fill-color);\n",
              "      border-top-color: var(--fill-color);\n",
              "    }\n",
              "    30% {\n",
              "      border-color: transparent;\n",
              "      border-left-color: var(--fill-color);\n",
              "      border-top-color: var(--fill-color);\n",
              "      border-right-color: var(--fill-color);\n",
              "    }\n",
              "    40% {\n",
              "      border-color: transparent;\n",
              "      border-right-color: var(--fill-color);\n",
              "      border-top-color: var(--fill-color);\n",
              "    }\n",
              "    60% {\n",
              "      border-color: transparent;\n",
              "      border-right-color: var(--fill-color);\n",
              "    }\n",
              "    80% {\n",
              "      border-color: transparent;\n",
              "      border-right-color: var(--fill-color);\n",
              "      border-bottom-color: var(--fill-color);\n",
              "    }\n",
              "    90% {\n",
              "      border-color: transparent;\n",
              "      border-bottom-color: var(--fill-color);\n",
              "    }\n",
              "  }\n",
              "</style>\n",
              "\n",
              "  <script>\n",
              "    async function quickchart(key) {\n",
              "      const quickchartButtonEl =\n",
              "        document.querySelector('#' + key + ' button');\n",
              "      quickchartButtonEl.disabled = true;  // To prevent multiple clicks.\n",
              "      quickchartButtonEl.classList.add('colab-df-spinner');\n",
              "      try {\n",
              "        const charts = await google.colab.kernel.invokeFunction(\n",
              "            'suggestCharts', [key], {});\n",
              "      } catch (error) {\n",
              "        console.error('Error during call to suggestCharts:', error);\n",
              "      }\n",
              "      quickchartButtonEl.classList.remove('colab-df-spinner');\n",
              "      quickchartButtonEl.classList.add('colab-df-quickchart-complete');\n",
              "    }\n",
              "    (() => {\n",
              "      let quickchartButtonEl =\n",
              "        document.querySelector('#df-13bc8919-60de-4562-adfd-0f1e341f4fac button');\n",
              "      quickchartButtonEl.style.display =\n",
              "        google.colab.kernel.accessAllowed ? 'block' : 'none';\n",
              "    })();\n",
              "  </script>\n",
              "</div>\n",
              "    </div>\n",
              "  </div>\n"
            ]
          },
          "metadata": {},
          "execution_count": 123
        }
      ]
    },
    {
      "cell_type": "code",
      "source": [
        "from sklearn.tree import DecisionTreeClassifier, plot_tree\n",
        "import matplotlib.pyplot as plt\n",
        "plt.figure(figsize=(12, 8))\n",
        "plot_tree(clf, feature_names=X.columns, class_names=['No Abandono', 'Abandono'], filled=True, rounded=True)\n",
        "plt.title('Árbol de Decisión')\n",
        "plt.show()"
      ],
      "metadata": {
        "colab": {
          "base_uri": "https://localhost:8080/",
          "height": 675
        },
        "id": "8ArDFWtn1YRY",
        "outputId": "96fd8899-f4ea-4123-c575-c44ec84f092f"
      },
      "execution_count": null,
      "outputs": [
        {
          "output_type": "display_data",
          "data": {
            "text/plain": [
              "<Figure size 1200x800 with 1 Axes>"
            ],
            "image/png": "[encoded data removed]"
          },
          "metadata": {}
        }
      ]
    },
    {
      "cell_type": "markdown",
      "source": [
        "## CONCLUSIÓN\n",
        "\n",
        "El valor de precisión del modelo de árbol de decisiones de 0.70 significa que el modelo es capaz de predecir correctamente el abandono de clientes en aproximadamente el 70% de los casos en el conjunto de prueba.\n",
        "\n",
        "En otras palabras, de todas las instancias de prueba que el modelo evaluó, aproximadamente el 70% de ellas fueron clasificadas correctamente como \"abandono\" o \"no abandono\" según las variables proporcionadas (Categoria, Dias de vigencia del servicio y Cantidad de reportes)."
      ],
      "metadata": {
        "id": "l9Cp5HybR9TZ"
      }
    },
    {
      "cell_type": "code",
      "source": [],
      "metadata": {
        "id": "e8JE3hNVR_1C"
      },
      "execution_count": null,
      "outputs": []
    }
  ],
  "metadata": {
    "kernelspec": {
      "display_name": "Python 3 (ipykernel)",
      "language": "python",
      "name": "python3"
    },
    "language_info": {
      "codemirror_mode": {
        "name": "ipython",
        "version": 3
      },
      "file_extension": ".py",
      "mimetype": "text/x-python",
      "name": "python",
      "nbconvert_exporter": "python",
      "pygments_lexer": "ipython3",
      "version": "3.10.9"
    },
    "colab": {
      "provenance": [],
      "include_colab_link": true
    }
  },
  "nbformat": 4,
  "nbformat_minor": 0
}