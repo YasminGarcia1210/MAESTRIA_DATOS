{
 "cells": [
  {
   "cell_type": "markdown",
   "metadata": {},
   "source": [
    "# Anomaly Detection: Retail Sales\n"
   ]
  },
  {
   "cell_type": "code",
   "execution_count": 1,
   "metadata": {},
   "outputs": [],
   "source": [
    "import os\n",
    "# indicate your Spark version, here we use Spark 3.5 with pydeequ 1.4.0\n",
    "os.environ[\"SPARK_VERSION\"] = '3.2'\n",
    "os.environ[\"HADOOP_HOME\"] = \"C:\\\\hadoop\\\\winutils\\\\hadoop-3.3.6\""
   ]
  },
  {
   "cell_type": "code",
   "execution_count": 2,
   "metadata": {},
   "outputs": [],
   "source": [
    "from pyspark.sql import SparkSession, Row, DataFrame\n",
    "import pandas as pd\n",
    "import sagemaker_pyspark\n",
    "\n",
    "import pydeequ\n",
    "\n",
    "classpath = \":\".join(sagemaker_pyspark.classpath_jars())\n",
    "\n",
    "spark = (SparkSession\n",
    "    .builder\n",
    "    .config(\"spark.driver.extraClassPath\", classpath)\n",
    "    .config(\"spark.jars.packages\", pydeequ.deequ_maven_coord)\n",
    "    .config(\"spark.jars.excludes\", pydeequ.f2j_maven_coord)\n",
    "    .getOrCreate())\n",
    "sc = spark.sparkContext\n"
   ]
  },
  {
   "cell_type": "markdown",
   "metadata": {},
   "source": [
    "### Initialize Metrics Repository"
   ]
  },
  {
   "cell_type": "code",
   "execution_count": 62,
   "metadata": {},
   "outputs": [],
   "source": [
    "from pydeequ.repository import *\n",
    "metricsRepository = InMemoryMetricsRepository(spark)"
   ]
  },
  {
   "cell_type": "markdown",
   "metadata": {},
   "source": [
    "## Anomaly Detection"
   ]
  },
  {
   "cell_type": "code",
   "execution_count": 63,
   "metadata": {},
   "outputs": [],
   "source": [
    "df = spark.read.parquet(\"Retail_sales.parquet\")\n"
   ]
  },
  {
   "cell_type": "code",
   "execution_count": 64,
   "metadata": {},
   "outputs": [],
   "source": [
    "from pydeequ.verification import VerificationSuite\n",
    "from pydeequ.analyzers import Size, Mean\n",
    "from pydeequ.anomaly_detection import *\n",
    "\n",
    "key1 = ResultKey(spark, ResultKey.current_milli_time() - 24 * 60 * 60 * 1000)\n",
    "\n",
    "Result = VerificationSuite(spark).onData(df) \\\n",
    "    .useRepository(metricsRepository) \\\n",
    "    .saveOrAppendResult(key1) \\\n",
    "    .addAnomalyCheck(\tSimpleThresholdStrategy(lowerBound=0, upperBound=50), Mean(\"Units Sold\")) \\\n",
    "    .run()"
   ]
  },
  {
   "cell_type": "code",
   "execution_count": 65,
   "metadata": {},
   "outputs": [
    {
     "name": "stdout",
     "output_type": "stream",
     "text": [
      "+------+----------+----+-----------------+-------------+\n",
      "|entity|  instance|name|            value| dataset_date|\n",
      "+------+----------+----+-----------------+-------------+\n",
      "|Column|Units Sold|Mean|6.161966666666666|1726505969596|\n",
      "+------+----------+----+-----------------+-------------+\n",
      "\n"
     ]
    }
   ],
   "source": [
    "metricsRepository.load().forAnalyzers([Mean(\"Units Sold\")]).getSuccessMetricsAsDataFrame().show()"
   ]
  },
  {
   "cell_type": "code",
   "execution_count": 66,
   "metadata": {},
   "outputs": [
    {
     "name": "stdout",
     "output_type": "stream",
     "text": [
      "Anomaly detected in the Mean(Units Sold) metric!\n",
      "+------+----------+----+-----------------+-------------+\n",
      "|entity|  instance|name|            value| dataset_date|\n",
      "+------+----------+----+-----------------+-------------+\n",
      "|Column|Units Sold|Mean|6.161966666666666|1726505969596|\n",
      "+------+----------+----+-----------------+-------------+\n",
      "\n"
     ]
    }
   ],
   "source": [
    "if (Result.status != \"Success\"):\n",
    "    print(\"Anomaly detected in the Mean(Units Sold) metric!\")\n",
    "    metricsRepository.load().forAnalyzers([Mean(\"Units Sold\")]).getSuccessMetricsAsDataFrame().show()\n"
   ]
  }
 ],
 "metadata": {
  "kernelspec": {
   "display_name": "Python 3",
   "language": "python",
   "name": "python3"
  },
  "language_info": {
   "codemirror_mode": {
    "name": "ipython",
    "version": 3
   },
   "file_extension": ".py",
   "mimetype": "text/x-python",
   "name": "python",
   "nbconvert_exporter": "python",
   "pygments_lexer": "ipython3",
   "version": "3.11.9"
  }
 },
 "nbformat": 4,
 "nbformat_minor": 4
}
